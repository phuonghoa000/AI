{
 "cells": [
  {
   "cell_type": "markdown",
   "metadata": {},
   "source": [
    "## 1. Import"
   ]
  },
  {
   "cell_type": "code",
   "execution_count": null,
   "metadata": {
    "collapsed": false
   },
   "outputs": [],
   "source": [
    "import requests # To read html text\n",
    "from bs4 import BeautifulSoup # To parse html text\n",
    "import re # Regular expressions\n",
    "import pandas as pd\n",
    "# You can also import other thing ..."
   ]
  },
  {
   "cell_type": "markdown",
   "metadata": {},
   "source": [
    "## 2. Danh sách url"
   ]
  },
  {
   "cell_type": "code",
   "execution_count": null,
   "metadata": {
    "collapsed": true
   },
   "outputs": [],
   "source": [
    "urls = ['https://tiki.vn/tieu-thuyet-tinh-cam-lang-man/c844?src=tree',\n",
    "    'https://tiki.vn/sach-van-hoc-viet-nam/c2547?src=tree',\n",
    "    'https://tiki.vn/van-hoc-nuoc-ngoai/c2546?src=tree',\n",
    "    'https://tiki.vn/tac-pham-kinh-dien/c842?src=tree',\n",
    "    'https://tiki.vn/truyen-ngan/c845?src=tree',\n",
    "    'https://tiki.vn/trinh-tham/c664?src=tree',\n",
    "    'https://tiki.vn/truyen-kinh-di/c665?src=tree',\n",
    "    'https://tiki.vn/huyen-bi-gia-tuong/c840?src=tree',\n",
    "    'https://tiki.vn/tieu-su-hoi-ky/c843?src=tree',\n",
    "    'https://tiki.vn/kiem-hiep-vo-hiep/c639?src=tree',\n",
    "    'https://tiki.vn/du-ky/c4933?src=tree',\n",
    "    'https://tiki.vn/phong-su-ky-su/c5245?src=tree',\n",
    "    'https://tiki.vn/phe-binh-van-hoc/c5244?src=tree',\n",
    "    'https://tiki.vn/truyen-dai/c6750?src=tree',\n",
    "    'https://tiki.vn/truyen-hai-huoc-truyen-cuoi/c444?src=tree',\n",
    "    'https://tiki.vn/tho/c446?src=tree',\n",
    "    'https://tiki.vn/light-novel/c7358?src=tree',\n",
    "    'https://tiki.vn/truyen-tranh/c8973?src=tree',\n",
    "    'https://tiki.vn/mau-giao-0-6-tuoi/c5936?src=tree',\n",
    "    'https://tiki.vn/nhi-dong-6-11-tuoi/c3369?src=tree',\n",
    "    'https://tiki.vn/thieu-nien-11-15-tuoi/c3370?src=tree',\n",
    "    'https://tiki.vn/van-hoc-thieu-nhi/c1754?src=tree',\n",
    "    'https://tiki.vn/kien-thuc-ky-nang/c853?src=tree',\n",
    "    'https://tiki.vn/bai-hoc-dao-duc/c852?src=tree',\n",
    "    'https://tiki.vn/truyen-co-tich/c1753?src=tree',\n",
    "    'https://tiki.vn/truyen-ke-cho-be/c854?src=tree',\n",
    "    'https://tiki.vn/truyen-tranh-thieu-nhi/c855?src=tree',\n",
    "    'https://tiki.vn/to-mau-luyen-chu/c856?src=tree',\n",
    "    'https://tiki.vn/sach-ky-nang-song/c871?src=tree',\n",
    "    'https://tiki.vn/sach-nghe-thuat-song-dep/c872?src=tree',\n",
    "    'https://tiki.vn/sach-huong-nghiep-ky-nang/c716?src=tree',\n",
    "    'https://tiki.vn/sach-ba-me-em-be/c2527?src=tree',\n",
    "    'https://tiki.vn/sach-kinh-te/c846?src=tree',\n",
    "    'https://tiki.vn/sach-tham-khao/c2320?src=tree',\n",
    "    'https://tiki.vn/sach-giao-khoa-cac-cap/c2321?src=tree',\n",
    "    'https://tiki.vn/tu-dien/c897?src=tree',\n",
    "    'https://tiki.vn/ngoai-ngu-tu-dien/c887?src=tree',\n",
    "    'https://tiki.vn/truyen-tranh/c1084?src=tree',\n",
    "    'https://tiki.vn/gia-trinh-dai-hoc-cao-dang/c6991?src=tree',\n",
    "    'https://tiki.vn/sach-kien-thuc-tong-hop/c873?src=tree',\n",
    "    'https://tiki.vn/education-teaching/c5308?src=tree',\n",
    "    'https://tiki.vn/fiction-literature/c9?src=tree',\n",
    "    'https://tiki.vn/self-help/c614?src=tree',\n",
    "    'https://tiki.vn/children-books/c7?src=tree',\n",
    "    'https://tiki.vn/culture-and-art/c623?src=tree',\n",
    "    'https://tiki.vn/teens/c31?src=tree',\n",
    "    'https://tiki.vn/economics/c4?src=tree',\n",
    "    'https://tiki.vn/awards/c616?src=tree',\n",
    "    'https://tiki.vn/social-sciences/c27?src=tree',\n",
    "    'https://tiki.vn/magazines/c6445?src=tree']"
   ]
  },
  {
   "cell_type": "markdown",
   "metadata": {},
   "source": [
    "## 3. Chương trình chính"
   ]
  },
  {
   "cell_type": "code",
   "execution_count": null,
   "metadata": {
    "collapsed": false,
    "scrolled": true
   },
   "outputs": [],
   "source": [
    "# Read html text and parse it\n",
    "li_books = pd.DataFrame()\n",
    "idx = 0\n",
    "for url in urls:\n",
    "    \n",
    "    print 'url is: ', url, 'running...'\n",
    "    \n",
    "    html_text = requests.get(url).text\n",
    "    tree = BeautifulSoup(html_text, 'lxml')\n",
    "\n",
    "    # topic\n",
    "    topic = tree.find_all(['h1'])[-1].string[25:-22]\n",
    "    \n",
    "    # num_books\n",
    "    is_num_books = tree.find_all(['h4'])[5].string\n",
    "    \n",
    "    try:\n",
    "        num_books = is_num_books.split()[0]\n",
    "    except:\n",
    "        num_books = tree.find_all(['h4'])[6].string.split()[0]\n",
    "\n",
    "    num_books = int(num_books)\n",
    "\n",
    "    # num_pages\n",
    "    num_pages = (num_books - 1) / 24 + 1 # 24 books each page\n",
    "\n",
    "    print 'Topic: ', topic\n",
    "    print 'Num of books: ', num_books\n",
    "    print 'Num of pages: ', num_pages\n",
    "    print '-' * 50\n",
    "\n",
    "    for page_idx in range(num_pages):\n",
    "\n",
    "        _url = url + '&page=' + str(page_idx + 1)\n",
    "        html_text = requests.get(_url).text\n",
    "        tree = BeautifulSoup(html_text, 'lxml')\n",
    "\n",
    "        books = tree.find_all(class_='product-item')        \n",
    "\n",
    "        for book in books:\n",
    "            # data id\n",
    "            data_id = book.find('a')['data-id']\n",
    "\n",
    "            # link book data\n",
    "            link = book.find('a')['href']\n",
    "            try:\n",
    "                html_text = requests.get(link).text\n",
    "            except:\n",
    "                continue\n",
    "\n",
    "            tree = BeautifulSoup(html_text, 'lxml')\n",
    "\n",
    "            # title\n",
    "            title = tree.find_all('title')[-1].get_text().split('|')[0][:-1]\n",
    "\n",
    "            # rating and rating_Count\n",
    "            about_rate = tree.find_all('meta')[-2:]\n",
    "\n",
    "            try:\n",
    "                rating = float(about_rate[0]['content'])\n",
    "            except:\n",
    "                rating = 0\n",
    "\n",
    "            rating = rating * (rating <= 5.0)\n",
    "\n",
    "            try:\n",
    "                rating_Count = int(about_rate[1]['content'])\n",
    "            except:\n",
    "                rating_Count = 0\n",
    "\n",
    "            # nxb, author and publidation date\n",
    "            information = tree.find_all('td')[4:]\n",
    "\n",
    "            _nxb1 = u'Nh\\xe0 xu\\u1ea5t b\\u1ea3n'\n",
    "            _nxb2 = u'Manufacturer'\n",
    "            _author = u'T\\xe1c gi\\u1ea3'\n",
    "            _date = u'Ng\\xe0y xu\\u1ea5t b\\u1ea3n'\n",
    "\n",
    "            nxb = 'Unidentify'\n",
    "            author = 'Unidentify'\n",
    "            date = 'Unidentify'\n",
    "\n",
    "            for i in range(0, len(information), 2):\n",
    "                text = information[i].get_text()\n",
    "                if (_nxb1 in text) or (_nxb2 in text):\n",
    "                    nxb = information[i + 1].get_text()[85:-117]\n",
    "                if _author in text:\n",
    "                    author = information[i + 1].get_text()[85:-117]\n",
    "                if _date in text:\n",
    "                    date = information[i + 1].get_text()[85:-117]\n",
    "\n",
    "            # review\n",
    "            review = book.find(class_='review')\n",
    "            review = review.get_text()\n",
    "            review = review.split(\" \")[-1][1:]\n",
    "            try:\n",
    "                review = int(review)\n",
    "            except:\n",
    "                review = 0\n",
    "\n",
    "            # price sale\n",
    "            prices = book.find(class_='price-sale')\n",
    "            for ele in prices.find_all(['span']):\n",
    "                ele.extract()\n",
    "            price = prices.get_text().replace('.', '')\n",
    "            price = int(price.replace(' ', '')[:-4])\n",
    "            \n",
    "            li_books = li_books.append(pd.DataFrame(data = {'id': data_id.encode('utf-8'), 'title': title.encode('utf-8'),\n",
    "                                                            'topic': topic.encode('utf-8'), 'nxb': nxb.encode('utf-8'),\n",
    "                                                            'author': author.encode('utf-8'), 'date': date.encode('utf-8'),\n",
    "                                                            'review': review, 'rating': rating, 'rating_Count': rating_Count,\n",
    "                                                            'price': price}, index=[idx]))\n",
    "            idx += 1"
   ]
  },
  {
   "cell_type": "markdown",
   "metadata": {},
   "source": [
    "## 4. Chuẩn hóa dữ liệu"
   ]
  },
  {
   "cell_type": "markdown",
   "metadata": {},
   "source": [
    "Đặt tên cho cột index (name = 'idx')"
   ]
  },
  {
   "cell_type": "code",
   "execution_count": null,
   "metadata": {
    "collapsed": false
   },
   "outputs": [],
   "source": [
    "li_books.index.name = 'idx'"
   ]
  },
  {
   "cell_type": "markdown",
   "metadata": {},
   "source": [
    "Điền các giá trị còn thiếu trong cột 'author' bằng giá trị 'Unidentify'"
   ]
  },
  {
   "cell_type": "code",
   "execution_count": null,
   "metadata": {
    "collapsed": true
   },
   "outputs": [],
   "source": [
    "missing_author_mask = data1.author.isnull()\n",
    "for idx in li_books.author[missing_author_mask].index:\n",
    "    li_books.author.set_value(idx, 'Unidentify')"
   ]
  },
  {
   "cell_type": "markdown",
   "metadata": {},
   "source": [
    "Chuẩn hóa lại các giá trị trong cột price"
   ]
  },
  {
   "cell_type": "code",
   "execution_count": null,
   "metadata": {
    "collapsed": false
   },
   "outputs": [],
   "source": [
    "for i in range(len(li_books)):\n",
    "    if li_books.price[i] < 84:\n",
    "        li_books.price.set_value(i, li_books.price[i]*1000)\n",
    "    elif li_books.price[i] < 8400:\n",
    "        li_books.price.set_value(i, li_books.price[i]*100)"
   ]
  },
  {
   "cell_type": "markdown",
   "metadata": {},
   "source": [
    "Xáo trộn các mẫu dữ liệu (thực ra là sắp xếp theo cột 'id')"
   ]
  },
  {
   "cell_type": "code",
   "execution_count": null,
   "metadata": {
    "collapsed": false
   },
   "outputs": [],
   "source": [
    "li_books = li_books.sort_values(by='id')"
   ]
  },
  {
   "cell_type": "markdown",
   "metadata": {},
   "source": [
    "Phân các mẫu dữ liệu vào lần lượt các tập training set (20000 mẫu), test set (5000 mẫu), validation set (số mẫu còn lại)"
   ]
  },
  {
   "cell_type": "code",
   "execution_count": null,
   "metadata": {
    "collapsed": false
   },
   "outputs": [],
   "source": [
    "train = li_books[:20000]\n",
    "test = li_books[20000:25000]\n",
    "val = li_books[25000:]"
   ]
  },
  {
   "cell_type": "markdown",
   "metadata": {},
   "source": [
    "Ghi dữ liệu vào file"
   ]
  },
  {
   "cell_type": "code",
   "execution_count": null,
   "metadata": {
    "collapsed": false
   },
   "outputs": [],
   "source": [
    "train.to_csv('train.csv')\n",
    "test.to_csv('test.csv')\n",
    "val.to_csv('val.csv')"
   ]
  }
 ],
 "metadata": {
  "anaconda-cloud": {},
  "celltoolbar": "Raw Cell Format",
  "kernelspec": {
   "display_name": "Python [Root]",
   "language": "python",
   "name": "Python [Root]"
  },
  "language_info": {
   "codemirror_mode": {
    "name": "ipython",
    "version": 2
   },
   "file_extension": ".py",
   "mimetype": "text/x-python",
   "name": "python",
   "nbconvert_exporter": "python",
   "pygments_lexer": "ipython2",
   "version": "2.7.12"
  }
 },
 "nbformat": 4,
 "nbformat_minor": 0
}
