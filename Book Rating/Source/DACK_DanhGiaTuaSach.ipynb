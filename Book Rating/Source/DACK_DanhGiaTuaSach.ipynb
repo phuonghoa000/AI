{
 "cells": [
  {
   "cell_type": "markdown",
   "metadata": {},
   "source": [
    "# ĐỒ ÁN CUỐI KỲ: ĐÁNH GIÁ TỰA SÁCH\n",
    "\n",
    "Người thực hiện: Võ Phương Hòa - 1412192\n",
    "\n",
    "---"
   ]
  },
  {
   "cell_type": "markdown",
   "metadata": {},
   "source": [
    "## Tổng quan về đồ án\n",
    "\n",
    "**Đề tài**\n",
    "\n",
    "Xuất phát từ nhu cầu đọc sách của con người, thị trường sách hiện nay đã trở nên hết sức phong phú và đa dạng về thể loại, nội dung, tác giả,... Tuy nhiên, sự phong phú về đầu sách cũng dẫn đến khó khăn cho người đọc trong việc tìm đọc một cuốn sách hay hòng tránh lãng phí thời gian và tiền bạc. Từ đó, bài toán đặt ra là làm thế nào người đọc biết được một cuốn sách nên đọc hay không.\n",
    "\n",
    "**Dữ liệu**\n",
    "\n",
    "Nguồn dữ liệu được thu thập từ website https://tiki.vn/nha-sach-tiki .\n",
    "\n",
    "Số mẫu dữ liệu:\n",
    "    + Training set: 20000 mẫu\n",
    "    + Validation set: 4705 mẫu\n",
    "    + Test set: 5000 mẫu\n",
    "\n",
    "Số thuộc tính: 10\n",
    "\n",
    "Các thuộc tính:\n",
    "    + id: Mã số của sách\n",
    "    + title: Tên sách\n",
    "    + topic: Chủ đề cuốn sách\n",
    "    + nxb: Tên nxb cuốn sách\n",
    "    + author: Tác giả cuốn sách\n",
    "    + date: Ngày xuất bản\n",
    "    + review: Số lượt nhận xét\n",
    "    + rating_Count: Số lượt đánh giá\n",
    "    + rating\n",
    "    + price: Giá tiền cuốn sách (sau khi trừ phần giảm giá)\n",
    "\n",
    "**Tiền xử lý dữ liệu**\n",
    "\n",
    "    1. Loại bỏ 3 thuộc tính không cần thiết (id, title và review).\n",
    "    2. Chuyển kiểu dữ liệu từ dạng chuỗi sang dạng numeric đối với các thuộc tính topic, nxb, author và date.\n",
    "    3. Chuẩn hóa các cột dữ liệu sao cho mean = 0, std = 1.\n",
    "\n",
    "**Giải quyết bài toán**\n",
    "\n",
    "    + Phương pháp: ANN (Artificial Neural Network)\n",
    "    + Thuật toán: SGD (Stochastic Gradient Descent) + Backpropagation Algo\n",
    "    + Activation function: Sigmoid (đối với tầng ẩn) và Softmax (đối với tầng output)\n",
    "    + Cost function: Mean Negative Log Likelihood\n",
    "    + Error function: Mean Binary Error\n",
    "    + Regularization: Weight Decay/Early Stopping"
   ]
  },
  {
   "cell_type": "markdown",
   "metadata": {},
   "source": [
    "## Import"
   ]
  },
  {
   "cell_type": "code",
   "execution_count": null,
   "metadata": {
    "collapsed": false
   },
   "outputs": [],
   "source": [
    "%matplotlib inline\n",
    "import pandas as pd\n",
    "import numpy as np\n",
    "import matplotlib.pyplot as plt"
   ]
  },
  {
   "cell_type": "markdown",
   "metadata": {},
   "source": [
    "## Đọc dữ liệu tập huấn luyện và tập validation vào data frame"
   ]
  },
  {
   "cell_type": "code",
   "execution_count": 2,
   "metadata": {
    "collapsed": false
   },
   "outputs": [
    {
     "name": "stdout",
     "output_type": "stream",
     "text": [
      "<class 'pandas.core.frame.DataFrame'>\n",
      "Int64Index: 20000 entries, 103 to 29424\n",
      "Data columns (total 10 columns):\n",
      "author          20000 non-null object\n",
      "date            20000 non-null object\n",
      "id              20000 non-null int64\n",
      "nxb             20000 non-null object\n",
      "price           20000 non-null int64\n",
      "rating          20000 non-null float64\n",
      "rating_Count    20000 non-null int64\n",
      "review          20000 non-null int64\n",
      "title           20000 non-null object\n",
      "topic           20000 non-null object\n",
      "dtypes: float64(1), int64(4), object(5)\n",
      "memory usage: 1.7+ MB\n"
     ]
    },
    {
     "data": {
      "text/html": [
       "<div>\n",
       "<table border=\"1\" class=\"dataframe\">\n",
       "  <thead>\n",
       "    <tr style=\"text-align: right;\">\n",
       "      <th></th>\n",
       "      <th>author</th>\n",
       "      <th>date</th>\n",
       "      <th>id</th>\n",
       "      <th>nxb</th>\n",
       "      <th>price</th>\n",
       "      <th>rating</th>\n",
       "      <th>rating_Count</th>\n",
       "      <th>review</th>\n",
       "      <th>title</th>\n",
       "      <th>topic</th>\n",
       "    </tr>\n",
       "  </thead>\n",
       "  <tbody>\n",
       "    <tr>\n",
       "      <th>103</th>\n",
       "      <td>Gào</td>\n",
       "      <td>12-2012</td>\n",
       "      <td>52446</td>\n",
       "      <td>NXB Thời Đại</td>\n",
       "      <td>63000</td>\n",
       "      <td>3.4</td>\n",
       "      <td>36</td>\n",
       "      <td>0</td>\n",
       "      <td>Ký Ức Northumbria.</td>\n",
       "      <td>Tiểu Thuyết Tình Cảm Lãng Mạn</td>\n",
       "    </tr>\n",
       "    <tr>\n",
       "      <th>521</th>\n",
       "      <td>Tatsuhiko Takimoto</td>\n",
       "      <td>08-2015</td>\n",
       "      <td>150791</td>\n",
       "      <td>NXB Văn Học</td>\n",
       "      <td>56000</td>\n",
       "      <td>4.4</td>\n",
       "      <td>146</td>\n",
       "      <td>0</td>\n",
       "      <td>Chào Mừng Đến Với N.H.K!.</td>\n",
       "      <td>Tiểu Thuyết Tình Cảm Lãng Mạn</td>\n",
       "    </tr>\n",
       "    <tr>\n",
       "      <th>1964</th>\n",
       "      <td>Tatsuhiko Takimoto</td>\n",
       "      <td>08-2015</td>\n",
       "      <td>150791</td>\n",
       "      <td>NXB Văn Học</td>\n",
       "      <td>56000</td>\n",
       "      <td>4.4</td>\n",
       "      <td>146</td>\n",
       "      <td>0</td>\n",
       "      <td>Chào Mừng Đến Với N.H.K!.</td>\n",
       "      <td>Văn Học Nước Ngoài</td>\n",
       "    </tr>\n",
       "    <tr>\n",
       "      <th>3298</th>\n",
       "      <td>GCT - Apple</td>\n",
       "      <td>08-2015</td>\n",
       "      <td>151238</td>\n",
       "      <td>NXB Phụ Nữ</td>\n",
       "      <td>55300</td>\n",
       "      <td>4.7</td>\n",
       "      <td>46</td>\n",
       "      <td>0</td>\n",
       "      <td>Trời Xanh của Táo</td>\n",
       "      <td>Truyện ngắn - Tản văn</td>\n",
       "    </tr>\n",
       "    <tr>\n",
       "      <th>1425</th>\n",
       "      <td>Mori Eto</td>\n",
       "      <td>03-2016</td>\n",
       "      <td>185906</td>\n",
       "      <td>NXB Hội Nhà Văn</td>\n",
       "      <td>56000</td>\n",
       "      <td>4.6</td>\n",
       "      <td>270</td>\n",
       "      <td>0</td>\n",
       "      <td>Colorful.</td>\n",
       "      <td>Văn Học Nước Ngoài</td>\n",
       "    </tr>\n",
       "  </tbody>\n",
       "</table>\n",
       "</div>"
      ],
      "text/plain": [
       "                  author     date      id              nxb  price  rating  \\\n",
       "103                  Gào  12-2012   52446     NXB Thời Đại  63000     3.4   \n",
       "521   Tatsuhiko Takimoto  08-2015  150791      NXB Văn Học  56000     4.4   \n",
       "1964  Tatsuhiko Takimoto  08-2015  150791      NXB Văn Học  56000     4.4   \n",
       "3298         GCT - Apple  08-2015  151238       NXB Phụ Nữ  55300     4.7   \n",
       "1425            Mori Eto  03-2016  185906  NXB Hội Nhà Văn  56000     4.6   \n",
       "\n",
       "      rating_Count  review                      title  \\\n",
       "103             36       0         Ký Ức Northumbria.   \n",
       "521            146       0  Chào Mừng Đến Với N.H.K!.   \n",
       "1964           146       0  Chào Mừng Đến Với N.H.K!.   \n",
       "3298            46       0          Trời Xanh của Táo   \n",
       "1425           270       0                  Colorful.   \n",
       "\n",
       "                              topic  \n",
       "103   Tiểu Thuyết Tình Cảm Lãng Mạn  \n",
       "521   Tiểu Thuyết Tình Cảm Lãng Mạn  \n",
       "1964             Văn Học Nước Ngoài  \n",
       "3298          Truyện ngắn - Tản văn  \n",
       "1425             Văn Học Nước Ngoài  "
      ]
     },
     "execution_count": 2,
     "metadata": {},
     "output_type": "execute_result"
    }
   ],
   "source": [
    "train_df = pd.read_csv('train.csv', index_col=0)\n",
    "train_df.info()\n",
    "train_df.head()"
   ]
  },
  {
   "cell_type": "code",
   "execution_count": 3,
   "metadata": {
    "collapsed": false,
    "scrolled": true
   },
   "outputs": [
    {
     "name": "stdout",
     "output_type": "stream",
     "text": [
      "<class 'pandas.core.frame.DataFrame'>\n",
      "Int64Index: 4705 entries, 6564 to 23713\n",
      "Data columns (total 10 columns):\n",
      "author          4705 non-null object\n",
      "date            4705 non-null object\n",
      "id              4705 non-null int64\n",
      "nxb             4705 non-null object\n",
      "price           4705 non-null int64\n",
      "rating          4705 non-null float64\n",
      "rating_Count    4705 non-null int64\n",
      "review          4705 non-null int64\n",
      "title           4705 non-null object\n",
      "topic           4705 non-null object\n",
      "dtypes: float64(1), int64(4), object(5)\n",
      "memory usage: 404.3+ KB\n"
     ]
    },
    {
     "data": {
      "text/html": [
       "<div>\n",
       "<table border=\"1\" class=\"dataframe\">\n",
       "  <thead>\n",
       "    <tr style=\"text-align: right;\">\n",
       "      <th></th>\n",
       "      <th>author</th>\n",
       "      <th>date</th>\n",
       "      <th>id</th>\n",
       "      <th>nxb</th>\n",
       "      <th>price</th>\n",
       "      <th>rating</th>\n",
       "      <th>rating_Count</th>\n",
       "      <th>review</th>\n",
       "      <th>title</th>\n",
       "      <th>topic</th>\n",
       "    </tr>\n",
       "  </thead>\n",
       "  <tbody>\n",
       "    <tr>\n",
       "      <th>6564</th>\n",
       "      <td>Nhiều Tác Giả</td>\n",
       "      <td>12-2016</td>\n",
       "      <td>563593</td>\n",
       "      <td>NXB Trẻ</td>\n",
       "      <td>26000</td>\n",
       "      <td>0.0</td>\n",
       "      <td>0</td>\n",
       "      <td>0</td>\n",
       "      <td>Mỗi Ngày Một Mẩu Chuyện Hay -...</td>\n",
       "      <td>Văn Học Thiếu Nhi</td>\n",
       "    </tr>\n",
       "    <tr>\n",
       "      <th>811</th>\n",
       "      <td>Hồ Anh Thái (tuyển)</td>\n",
       "      <td>12-2016</td>\n",
       "      <td>563594</td>\n",
       "      <td>NXB Trẻ</td>\n",
       "      <td>63000</td>\n",
       "      <td>0.0</td>\n",
       "      <td>0</td>\n",
       "      <td>0</td>\n",
       "      <td>Văn Mới 2015 - 2016</td>\n",
       "      <td>Văn Học Việt Nam</td>\n",
       "    </tr>\n",
       "    <tr>\n",
       "      <th>23814</th>\n",
       "      <td>Kanoko Sakurakouji</td>\n",
       "      <td>12-2016</td>\n",
       "      <td>563606</td>\n",
       "      <td>NXB Trẻ</td>\n",
       "      <td>18000</td>\n",
       "      <td>0.0</td>\n",
       "      <td>0</td>\n",
       "      <td>0</td>\n",
       "      <td>Black Bird - Tập 06</td>\n",
       "      <td>Truyện Tranh, Manga, Comic</td>\n",
       "    </tr>\n",
       "    <tr>\n",
       "      <th>19285</th>\n",
       "      <td>Vũ Thị Phượng</td>\n",
       "      <td>12-2016</td>\n",
       "      <td>563623</td>\n",
       "      <td>NXB Thanh Niên</td>\n",
       "      <td>69000</td>\n",
       "      <td>0.0</td>\n",
       "      <td>0</td>\n",
       "      <td>0</td>\n",
       "      <td>Giải Sách Bài Tập Tiêng Anh Lớp 6</td>\n",
       "      <td>Sách Tham Khảo</td>\n",
       "    </tr>\n",
       "    <tr>\n",
       "      <th>19286</th>\n",
       "      <td>Võ Thị Minh Trang</td>\n",
       "      <td>12-2016</td>\n",
       "      <td>563631</td>\n",
       "      <td>NXB Thanh Niên</td>\n",
       "      <td>69000</td>\n",
       "      <td>0.0</td>\n",
       "      <td>0</td>\n",
       "      <td>0</td>\n",
       "      <td>Giải Tiếng Việt Lớp 3 (Tập 2A)</td>\n",
       "      <td>Sách Tham Khảo</td>\n",
       "    </tr>\n",
       "  </tbody>\n",
       "</table>\n",
       "</div>"
      ],
      "text/plain": [
       "                    author     date      id             nxb  price  rating  \\\n",
       "6564         Nhiều Tác Giả  12-2016  563593         NXB Trẻ  26000     0.0   \n",
       "811    Hồ Anh Thái (tuyển)  12-2016  563594         NXB Trẻ  63000     0.0   \n",
       "23814   Kanoko Sakurakouji  12-2016  563606         NXB Trẻ  18000     0.0   \n",
       "19285        Vũ Thị Phượng  12-2016  563623  NXB Thanh Niên  69000     0.0   \n",
       "19286    Võ Thị Minh Trang  12-2016  563631  NXB Thanh Niên  69000     0.0   \n",
       "\n",
       "       rating_Count  review                                title  \\\n",
       "6564              0       0     Mỗi Ngày Một Mẩu Chuyện Hay -...   \n",
       "811               0       0                  Văn Mới 2015 - 2016   \n",
       "23814             0       0                  Black Bird - Tập 06   \n",
       "19285             0       0  Giải Sách Bài Tập Tiêng Anh Lớp 6   \n",
       "19286             0       0      Giải Tiếng Việt Lớp 3 (Tập 2A)    \n",
       "\n",
       "                            topic  \n",
       "6564            Văn Học Thiếu Nhi  \n",
       "811              Văn Học Việt Nam  \n",
       "23814  Truyện Tranh, Manga, Comic  \n",
       "19285              Sách Tham Khảo  \n",
       "19286              Sách Tham Khảo  "
      ]
     },
     "execution_count": 3,
     "metadata": {},
     "output_type": "execute_result"
    }
   ],
   "source": [
    "val_df = pd.read_csv('val.csv', index_col=0)\n",
    "val_df.info()\n",
    "val_df.head()"
   ]
  },
  {
   "cell_type": "markdown",
   "metadata": {},
   "source": [
    "## Tiền xử lý"
   ]
  },
  {
   "cell_type": "markdown",
   "metadata": {},
   "source": [
    "**1. Tiền xử lý tập huấn luyện**"
   ]
  },
  {
   "cell_type": "code",
   "execution_count": 4,
   "metadata": {
    "collapsed": true
   },
   "outputs": [],
   "source": [
    "train_input_df = pd.DataFrame(train_df)\n",
    "train_input_df.drop(['rating'], axis=1, inplace=True)\n",
    "train_output_df = train_df.rating"
   ]
  },
  {
   "cell_type": "markdown",
   "metadata": {},
   "source": [
    "**1.1. Xây dựng `train_X` từ `train_input_df`**"
   ]
  },
  {
   "cell_type": "markdown",
   "metadata": {},
   "source": [
    "Loại bỏ 2 thuộc tính không cần thiết cho quá trình huấn luyện dữ liệu là 'id', 'title'. Ngoài ra, loại bỏ luôn thuộc tính 'review' vì có quá nhiều giá trị = 0 (gần như mọi giá trị thuộc cột review = 0), ảnh hưởng đến việc tính toán mean và std sau này."
   ]
  },
  {
   "cell_type": "code",
   "execution_count": 5,
   "metadata": {
    "collapsed": false,
    "scrolled": true
   },
   "outputs": [
    {
     "name": "stdout",
     "output_type": "stream",
     "text": [
      "<class 'pandas.core.frame.DataFrame'>\n",
      "Int64Index: 20000 entries, 103 to 29424\n",
      "Data columns (total 6 columns):\n",
      "author          20000 non-null object\n",
      "date            20000 non-null object\n",
      "nxb             20000 non-null object\n",
      "price           20000 non-null int64\n",
      "rating_Count    20000 non-null int64\n",
      "topic           20000 non-null object\n",
      "dtypes: int64(2), object(4)\n",
      "memory usage: 1.1+ MB\n"
     ]
    }
   ],
   "source": [
    "dropped_cols = ['id', 'title', 'review']\n",
    "train_input_df.drop(dropped_cols, axis=1, inplace=True)\n",
    "train_input_df.info()"
   ]
  },
  {
   "cell_type": "markdown",
   "metadata": {},
   "source": [
    "Chuẩn hóa dữ liệu các cột 'author', 'date', 'nxb', 'topic' về dạng numeric bằng cách thống kê số mẫu khác nhau của từng cột, đánh số từ 0 -> n - 1 tương ứng với từng mẫu (với n là số mẫu khác nhau của mỗi cột, mỗi cột sẽ có một giá trị n khác nhau)."
   ]
  },
  {
   "cell_type": "code",
   "execution_count": 6,
   "metadata": {
    "collapsed": false
   },
   "outputs": [],
   "source": [
    "train_author = train_input_df.author.unique().tolist()\n",
    "train_nxb = train_input_df.nxb.unique().tolist()\n",
    "train_date = train_input_df.date.unique().tolist()\n",
    "train_topic = train_input_df.topic.unique().tolist()\n",
    "\n",
    "train_li_attitude = [train_author, train_nxb, train_date, train_topic]"
   ]
  },
  {
   "cell_type": "code",
   "execution_count": 7,
   "metadata": {
    "collapsed": true
   },
   "outputs": [],
   "source": [
    "def normalize_to_numeric(train_input_df, li_attitude):\n",
    "    '''\n",
    "    Normalize columns of a data frame from datatype is object to datatype is numeric.\n",
    "    \n",
    "    Parameters\n",
    "    ----------\n",
    "    train_input_df : data frame\n",
    "        The data frame containing training inputs.\n",
    "    \n",
    "    Returns\n",
    "    -------\n",
    "    normalize_input_df: data frame\n",
    "        The data frame has all of columns has datatype is numeric.\n",
    "    '''\n",
    "    #\n",
    "    normalize_input_df = pd.DataFrame(train_input_df)\n",
    "    \n",
    "    normalize_input_df = normalize_input_df.assign(new_author = lambda x: 0.0)\n",
    "    normalize_input_df = normalize_input_df.assign(new_nxb = lambda x: 0.0)\n",
    "    normalize_input_df = normalize_input_df.assign(new_date = lambda x: 0.0)\n",
    "    normalize_input_df = normalize_input_df.assign(new_topic = lambda x: 0.0)\n",
    "     \n",
    "    for i in normalize_input_df.author.index:\n",
    "        try:\n",
    "            normalize_input_df.new_author.set_value(i, li_attitude[0].index(normalize_input_df.author[i]))\n",
    "        except:\n",
    "            normalize_input_df.new_author.set_value(i, len(li_attitude[0]))\n",
    "            li_attitude[0].append(normalize_input_df.author[i])\n",
    "        try:\n",
    "            normalize_input_df.new_nxb.set_value(i, li_attitude[1].index(normalize_input_df.nxb[i]))\n",
    "        except:\n",
    "            normalize_input_df.new_nxb.set_value(i, len(li_attitude[1]))\n",
    "            li_attitude[1].append(normalize_input_df.nxb[i])\n",
    "        try:\n",
    "            normalize_input_df.new_date.set_value(i, li_attitude[2].index(normalize_input_df.date[i]))\n",
    "        except:\n",
    "            normalize_input_df.new_date.set_value(i, len(li_attitude[2]))\n",
    "            li_attitude[2].append(normalize_input_df.date[i])\n",
    "        try:\n",
    "            normalize_input_df.new_topic.set_value(i, li_attitude[3].index(normalize_input_df.topic[i]))\n",
    "        except:\n",
    "            normalize_input_df.new_topic.set_value(i, len(li_attitude[3]))\n",
    "            li_attitude[3].append(normalize_input_df.topic[i])\n",
    "            \n",
    "    normalize_input_df.drop(['author', 'nxb', 'date', 'topic'], axis=1, inplace=True)\n",
    "    \n",
    "    return normalize_input_df, li_attitude"
   ]
  },
  {
   "cell_type": "code",
   "execution_count": 8,
   "metadata": {
    "collapsed": false
   },
   "outputs": [
    {
     "name": "stdout",
     "output_type": "stream",
     "text": [
      "<class 'pandas.core.frame.DataFrame'>\n",
      "Int64Index: 20000 entries, 103 to 29424\n",
      "Data columns (total 6 columns):\n",
      "price           20000 non-null int64\n",
      "rating_Count    20000 non-null int64\n",
      "new_author      20000 non-null float64\n",
      "new_nxb         20000 non-null float64\n",
      "new_date        20000 non-null float64\n",
      "new_topic       20000 non-null float64\n",
      "dtypes: float64(4), int64(2)\n",
      "memory usage: 1.1 MB\n"
     ]
    }
   ],
   "source": [
    "train_input_df, train_li_attitude = normalize_to_numeric(train_input_df, train_li_attitude)\n",
    "train_input_df.info()"
   ]
  },
  {
   "cell_type": "markdown",
   "metadata": {},
   "source": [
    "Xây dựng `train_X`. Để giúp Gradient Descent hội tụ nhanh hơn, ta sẽ chuẩn hóa để các cột của `train_X` có mean bằng 0 và có độ lệch chuẩn bằng 1. *Khi chuẩn hóa `val_X`/`test_X`, ta sẽ dùng mean và độ lệch chuẩn được ước lượng từ tập huấn luyện.*"
   ]
  },
  {
   "cell_type": "code",
   "execution_count": 9,
   "metadata": {
    "collapsed": false
   },
   "outputs": [
    {
     "name": "stdout",
     "output_type": "stream",
     "text": [
      "(20000L, 6L)\n"
     ]
    }
   ],
   "source": [
    "train_X = train_input_df.values\n",
    "print train_X.shape"
   ]
  },
  {
   "cell_type": "code",
   "execution_count": 10,
   "metadata": {
    "collapsed": false
   },
   "outputs": [],
   "source": [
    "# compute `X_mean` and `X_std`\n",
    "X_mean = np.mean(train_X, axis = 0)\n",
    "X_std = np.std(train_X, axis = 0)"
   ]
  },
  {
   "cell_type": "code",
   "execution_count": 11,
   "metadata": {
    "collapsed": false
   },
   "outputs": [
    {
     "name": "stdout",
     "output_type": "stream",
     "text": [
      "[  8.00396740e+04   5.33989500e+01   1.64009865e+03   2.08882500e+01\n",
      "   8.79989000e+01   1.65818500e+01]\n",
      "[  1.46758096e+05   2.19415404e+03   1.60308771e+03   2.01233735e+01\n",
      "   6.45248200e+01   1.16693530e+01]\n"
     ]
    }
   ],
   "source": [
    "print X_mean\n",
    "print X_std"
   ]
  },
  {
   "cell_type": "code",
   "execution_count": 12,
   "metadata": {
    "collapsed": true
   },
   "outputs": [],
   "source": [
    "# normalize train_X using X_mean and X_std\n",
    "train_X -= X_mean\n",
    "train_X /= X_std"
   ]
  },
  {
   "cell_type": "code",
   "execution_count": 13,
   "metadata": {
    "collapsed": false
   },
   "outputs": [
    {
     "name": "stdout",
     "output_type": "stream",
     "text": [
      "[  5.68434189e-18   4.26325641e-18   2.27373675e-17   4.54747351e-17\n",
      "  -1.02318154e-16   5.68434189e-17]\n",
      "[ 1.  1.  1.  1.  1.  1.]\n"
     ]
    }
   ],
   "source": [
    "print train_X.mean(axis=0)\n",
    "print train_X.std(axis=0)"
   ]
  },
  {
   "cell_type": "code",
   "execution_count": 14,
   "metadata": {
    "collapsed": false
   },
   "outputs": [
    {
     "name": "stdout",
     "output_type": "stream",
     "text": [
      "(20000L, 7L)\n"
     ]
    }
   ],
   "source": [
    "# Add x_0 column\n",
    "train_X = np.hstack([np.ones((len(train_X), 1)), train_X])\n",
    "print train_X.shape"
   ]
  },
  {
   "cell_type": "markdown",
   "metadata": {
    "collapsed": false
   },
   "source": [
    "**1.2. Xây dựng `train_Y` từ `train_output_df`**"
   ]
  },
  {
   "cell_type": "code",
   "execution_count": 15,
   "metadata": {
    "collapsed": false,
    "scrolled": true
   },
   "outputs": [
    {
     "name": "stdout",
     "output_type": "stream",
     "text": [
      "(20000L, 1L)\n"
     ]
    }
   ],
   "source": [
    "train_Y = np.array([int(i) for i in train_output_df.values]).reshape(-1, 1)\n",
    "print train_Y.shape"
   ]
  },
  {
   "cell_type": "markdown",
   "metadata": {},
   "source": [
    "**2. Tiền xử lý tập validation**"
   ]
  },
  {
   "cell_type": "code",
   "execution_count": 16,
   "metadata": {
    "collapsed": false
   },
   "outputs": [],
   "source": [
    "val_input_df = pd.DataFrame(val_df)\n",
    "val_input_df.drop(['rating'], axis=1, inplace=True)\n",
    "val_output_df = val_df.rating"
   ]
  },
  {
   "cell_type": "markdown",
   "metadata": {},
   "source": [
    "**2.1. Xây dựng `val_X` từ `val_input_df`**"
   ]
  },
  {
   "cell_type": "code",
   "execution_count": 17,
   "metadata": {
    "collapsed": true
   },
   "outputs": [],
   "source": [
    "def process_new_input_df(new_input_df, dropped_cols, X_mean, X_std, li_attitude):\n",
    "    '''\n",
    "    Builds `new_X` from `new_input_df`:\n",
    "    1. Drop columns using `dropped_cols` (`dropped_cols` is the list containing names of dropped columns)\n",
    "    2. Normalize columns has datatype is object to datatype is numeric with normalize_to_numeric function\n",
    "    3. Subtract by `X_mean` and divide by `X_std`\n",
    "    4. Add `x_0` column\n",
    "    \n",
    "    Parameters\n",
    "    ----------\n",
    "    ....\n",
    "    \n",
    "    Returns\n",
    "    -------\n",
    "    new_X : numpy array\n",
    "        The matrix of input vectors.\n",
    "    '''\n",
    "    # TODO\n",
    "    new_X = pd.DataFrame(new_input_df)\n",
    "    new_X.drop(dropped_cols, axis=1, inplace=True)\n",
    "    new_X, li_attitude = normalize_to_numeric(new_X, li_attitude)\n",
    "    new_X -= X_mean\n",
    "    new_X /= X_std\n",
    "    new_X = np.hstack([np.ones((len(new_X), 1)), new_X])\n",
    "    \n",
    "    return new_X, li_attitude"
   ]
  },
  {
   "cell_type": "code",
   "execution_count": 18,
   "metadata": {
    "collapsed": false
   },
   "outputs": [
    {
     "data": {
      "text/plain": [
       "(4705L, 7L)"
      ]
     },
     "execution_count": 18,
     "metadata": {},
     "output_type": "execute_result"
    }
   ],
   "source": [
    "val_X, train_li_attitude = process_new_input_df(val_input_df, ['id', 'title', 'review'], X_mean, X_std, train_li_attitude)\n",
    "val_X.shape"
   ]
  },
  {
   "cell_type": "markdown",
   "metadata": {},
   "source": [
    "**2.2. Xây dựng `val_Y` từ `val_output_df`**"
   ]
  },
  {
   "cell_type": "code",
   "execution_count": 19,
   "metadata": {
    "collapsed": false
   },
   "outputs": [
    {
     "data": {
      "text/plain": [
       "(4705L, 1L)"
      ]
     },
     "execution_count": 19,
     "metadata": {},
     "output_type": "execute_result"
    }
   ],
   "source": [
    "val_Y = np.array([int(i) for i in val_df.rating.values]).reshape(-1, 1)\n",
    "val_Y.shape"
   ]
  },
  {
   "cell_type": "markdown",
   "metadata": {},
   "source": [
    "## Huấn luyện"
   ]
  },
  {
   "cell_type": "markdown",
   "metadata": {},
   "source": [
    "**Hàm tính output của Neural Net**\n",
    "\n",
    "Ở đây, ta dùng hàm kích hoạt sigmoid ở các tầng ẩn, và hàm softmax ở tầng cuối."
   ]
  },
  {
   "cell_type": "code",
   "execution_count": 20,
   "metadata": {
    "collapsed": true
   },
   "outputs": [],
   "source": [
    "def sigmoid(S):\n",
    "    '''\n",
    "    Computes sigmoid function for each element of array S.\n",
    "    '''\n",
    "    return 1 / (1 + np.exp(-S))\n",
    "def softmax(S):\n",
    "    '''\n",
    "    Computes softmax function for each row of array S.\n",
    "    '''\n",
    "    A = np.exp(S)\n",
    "    A /= A.sum(axis=1, keepdims=True)\n",
    "    return A\n",
    "def compute_nnet_outputs(Ws, X, need_all_layer_outputs):\n",
    "    '''\n",
    "    Computes the outputs of Neural Net by forward propagating X through the net.\n",
    "    \n",
    "    Parameters\n",
    "    ----------\n",
    "    Ws : list of numpy arrays\n",
    "        Ws[l-1] is W of layer l with l >= 1 (layer 0 is input layer; it doesn't have W);\n",
    "        W of layer l will have the shape of (d^(l-1)+1, d^(l)), where \n",
    "        d^(l-1) is the number of neurons (not count the +1 neuron) of layer l-1 and \n",
    "        d^(l) is the number of neurons (not count the +1 neuron) of layer l.\n",
    "    X : numpy array, shape (N, d+1)\n",
    "        The matrix of input vectors (each row corresponds to an input vector); \n",
    "        the first column of this matrix is all ones (corresponding to x_0).\n",
    "    need_all_layer_outputs : bool\n",
    "        If this var is true, we'll return a list of layer's-outputs; \n",
    "        otherwise, we'll return the final layer's output.\n",
    "    \n",
    "    Returns\n",
    "    -------\n",
    "    If `need_all_layer_outputs` is false, return\n",
    "        A : numpy array, shape (N, K=10)\n",
    "            The maxtrix of output vectors of final layer; each row is an output vector (containing \n",
    "            each class's probability given the corresponding input vector).\n",
    "    Else, return\n",
    "        As : list of numpy arrays\n",
    "            As[l] is the matrix of output vectors of layer l; each row is an output vector (corresponding \n",
    "            to an input vector).\n",
    "    '''    \n",
    "    # TODO\n",
    "    As = [X]\n",
    "    for ws in Ws:\n",
    "        As.append(np.zeros(shape = (len(X), ws.shape[1])))\n",
    "    \n",
    "    for i in range(1, len(As) - 1):\n",
    "        As[i] = np.hstack([np.ones((len(X), 1)), sigmoid(np.dot(As[i - 1], Ws[i - 1]))])\n",
    "    As[-1] = softmax(np.dot(As[-2], Ws[-1]))\n",
    "    \n",
    "    if need_all_layer_outputs:\n",
    "        return As\n",
    "    \n",
    "    return As[-1]"
   ]
  },
  {
   "cell_type": "markdown",
   "metadata": {},
   "source": [
    "**Hàm huấn luyện Neural Net** (sử dụng early stopping và weight decay)"
   ]
  },
  {
   "cell_type": "code",
   "execution_count": 55,
   "metadata": {
    "collapsed": false
   },
   "outputs": [],
   "source": [
    "def train_nnet(train_X, train_Y, val_X, val_Y, hid_layer_sizes, wd_level,\n",
    "               mb_size, learning_rate, max_patience, max_epoch=1000000, momentum_param=0.):\n",
    "    '''\n",
    "    Trains Neural Net on the dataset (X, Y).\n",
    "    Cost function: mean negative log likelihood + weight decay.\n",
    "    Optimization algorithm: SGD; stopping criteria: early stopping and/or max epoch.\n",
    "    \n",
    "    Parameters\n",
    "    ----------\n",
    "    X : numpy array, shape (N, d + 1)\n",
    "        The matrix of input vectors (each row corresponds to an input vector); \n",
    "        the first column of this matrix is all ones (corresponding to x_0).\n",
    "    Y : numpy array, shape (N, 1)\n",
    "        The vector of outputs.\n",
    "    hid_layer_sizes : list\n",
    "        The list of hidden layer sizes; e.g., hid_layer_sizes = [20, 10] means: \n",
    "        the Net has 2 hidden layers, the 1st one has 20 neurons, and the 2nd one has \n",
    "        10 neurons (not count the +1 neurons).\n",
    "    wd_level : float\n",
    "        The level (coefficient) of weight decay.\n",
    "    mb_size : int\n",
    "        Minibatch size of SGD.\n",
    "    learning_rate : float\n",
    "        Learning rate of SGD.\n",
    "    max_patience : int (> 0) or None\n",
    "        The parameter of early stopping. We'll have a `patience` variable with initial value equal to\n",
    "        `max_patience`. During the training, we'll keep track of the best MBE (Mean Binary Error) \n",
    "        on the validation set; if the MBE on the validation set at the current epoch < the current \n",
    "        best one, we'll reset `patience` to `max_patience`; otherwise, `patience` -= 1. \n",
    "        When `patience` = 0 or `max_epoch` is reached, we'll terminate SGD.\n",
    "        If `max_patience` is None, we don't use early stopping.\n",
    "    max_epoch : int, default 1000000\n",
    "        We'll terminate SGD after this number of epochs or when `patience` = 0 (if early stopping is used).\n",
    "    \n",
    "    Returns\n",
    "    -------\n",
    "    Ws : list of numpy arrays\n",
    "        Ws[l-1] is W of layer l with l >= 1 (layer 0 is input layer; it doesn't have W);\n",
    "        W of layer l will have the shape of (d^(l-1)+1, d^(l)), where \n",
    "        d^(l-1) is the number of neurons (not count the +1 neuron) of layer l-1 and \n",
    "        d^(l) is the number of neurons (not count the +1 neuron) of layer l.\n",
    "        *If `max_patience` is None, Ws are weights after the final epoch (as previous homeworks); \n",
    "        otherwise, Ws are weights corresponding to the best MBE on the validation set.*\n",
    "    train_errs : list, len = num epochs spent on training\n",
    "        The list of MBEs on the training set after each epoch.\n",
    "    val_errs : list, len = num epochs spent on training\n",
    "        The list of MBEs on the validation set after each epoch.\n",
    "    \n",
    "    Notes\n",
    "    -----\n",
    "    After each *100-epochs* (in the experiments below, you'll not want to print after each single epoch), \n",
    "    you need to print out: \n",
    "    - The MBE on the training set and validation set (regardless of `max_patience`).\n",
    "    - The value of `patience` (if `max_patience` is not None).\n",
    "    E.g., `Epoch ..., training err ..., val err ..., patience ...` (in this case, `max_patience` is not None).\n",
    "    \n",
    "    After the training, you need to print out the info of returned Ws:\n",
    "    - The corresponding epoch.\n",
    "    - The corresponding MBE on the training set and validation set.\n",
    "    E.g., `Info of returned Ws: epoch ..., train err ..., val err ...`.\n",
    "    '''\n",
    "    # Init Ws\n",
    "    K = len(np.unique(train_Y)) # Num classes\n",
    "    layer_sizes = [train_X.shape[1] - 1] + hid_layer_sizes + [K]\n",
    "    np.random.seed(0) # This will fix the randomization; so, you and me will have the same results\n",
    "    Ws = [np.random.randn(layer_sizes[l]+1, layer_sizes[l+1]) / np.sqrt(layer_sizes[l]+1) \n",
    "          for l in range(len(layer_sizes)-1)]\n",
    "\n",
    "    \n",
    "    # TODO\n",
    "    one_hot_Y = np.zeros((len(train_Y), K))\n",
    "    one_hot_Y[np.arange(len(train_Y)), train_Y.reshape(-1)] = 1\n",
    "    costs = [] # To save costs during training\n",
    "    train_errs = [] # To save mean binary errors during training\n",
    "    val_errs = [] # To save mean binary errors during training\n",
    "    N = len(train_X) # Num training examples\n",
    "    rnd_idxs = range(N) # Random indexes\n",
    "    \n",
    "    #\n",
    "    patience = max_patience\n",
    "    best_MBE = 100.0\n",
    "    idx_best_MBE = -1\n",
    "    _Ws = [np.zeros(ws.shape) for ws in Ws]\n",
    "    \n",
    "    # Train\n",
    "    for epoch in range(max_epoch):\n",
    "        np.random.shuffle(rnd_idxs)\n",
    "        for start_idx in range(0, N, mb_size):\n",
    "            # Get minibach\n",
    "            mb_X = train_X[rnd_idxs[start_idx:start_idx+mb_size]]\n",
    "            mb_Y = one_hot_Y[rnd_idxs[start_idx:start_idx+mb_size]]\n",
    "            \n",
    "            # Forward-prop\n",
    "            As = compute_nnet_outputs(Ws, mb_X, True)\n",
    "                 \n",
    "            # Back-prop; on the way, compute each layer's gradient and update its W\n",
    "            # TODO: delta = ...\n",
    "            delta = (As[-1] - mb_Y) / len(mb_Y)\n",
    "            # TODO: grad = ...\n",
    "            grad = np.dot(As[-2].T, delta)\n",
    "            Ws[-1] = Ws[-1] - (learning_rate * grad) - (2 * wd_level * learning_rate * Ws[-1])\n",
    "            for i in range(2, len(Ws) + 1):\n",
    "                delta = delta.dot(Ws[-i + 1].T[:, 1:]) * As[-i][:, 1:] * (1 - As[-i][:, 1:])\n",
    "                # TODO: grad = ...\n",
    "                grad = np.dot(As[-i - 1].T, delta)\n",
    "                Ws[-i] = Ws[-i] - (learning_rate * grad) - (2 * wd_level * learning_rate * Ws[-i])\n",
    "        \n",
    "        # Compute training info, save it, and print it\n",
    "        A = compute_nnet_outputs(Ws, train_X, False)\n",
    "        B = compute_nnet_outputs(Ws, val_X, False)\n",
    "        weight_decay = wd_level*np.sum((np.sum(s) for s in np.array([ws*ws for ws in Ws])))/2\n",
    "        cost = np.mean(-np.sum(train_Y * np.log(A))) + weight_decay\n",
    "        train_err = np.mean(np.argmax(A, axis=1) != train_Y.squeeze()) * 100\n",
    "        val_err = np.mean(np.argmax(B, axis=1) != val_Y.squeeze()) * 100\n",
    "        costs.append(cost)\n",
    "        train_errs.append(train_err)\n",
    "        val_errs.append(val_err)\n",
    "            \n",
    "        if epoch % 100 == 99:\n",
    "            print 'Epoch %4d, train err %.3f, val err %.3f' %(epoch, train_err, val_err),\n",
    "            if max_patience != None:\n",
    "                print ', patience %4d' % (patience)\n",
    "            else:\n",
    "                print\n",
    "        \n",
    "            \n",
    "        if max_patience != None:\n",
    "            if val_err < best_MBE:\n",
    "                best_MBE = val_err\n",
    "                idx_best_MBE = epoch\n",
    "                patience = max_patience\n",
    "                _Ws = Ws\n",
    "            else:\n",
    "                patience -= 1\n",
    "                if patience == 0:\n",
    "                    Ws = _Ws\n",
    "                    max_epoch = idx_best_MBE + 1\n",
    "                    break\n",
    "            \n",
    "    print 'Info of returned Ws: epoch %4d, train err %.3f, val err %.3f' %(max_epoch-1,\n",
    "                                                                           train_errs[idx_best_MBE],\n",
    "                                                                           val_errs[idx_best_MBE])\n",
    "        \n",
    "    return Ws, train_errs, val_errs"
   ]
  },
  {
   "cell_type": "markdown",
   "metadata": {},
   "source": [
    "**Thí nghiệm 1: ảnh hưởng của weight decay**\n",
    "\n",
    "Cố định các giá trị `hid_layer_sizes=[50], mb_size=40, learning_rate=0.0005, max_patience=None, max_epoch=5000`.\n",
    "Huấn luyện mô hình với weight decay lần lượt là : 0.000, 0.001, 0.005."
   ]
  },
  {
   "cell_type": "code",
   "execution_count": 49,
   "metadata": {
    "collapsed": false,
    "scrolled": true
   },
   "outputs": [
    {
     "name": "stdout",
     "output_type": "stream",
     "text": [
      "Epoch   99, train err 41.315, val err 17.853\n",
      "Epoch  199, train err 41.370, val err 19.915\n",
      "Epoch  299, train err 41.430, val err 19.766\n",
      "Epoch  399, train err 41.275, val err 19.745\n",
      "Epoch  499, train err 41.310, val err 19.554\n",
      "Epoch  599, train err 41.225, val err 19.150\n",
      "Epoch  699, train err 41.085, val err 18.746\n",
      "Epoch  799, train err 40.825, val err 17.853\n",
      "Epoch  899, train err 40.625, val err 17.705\n",
      "Epoch  999, train err 40.465, val err 17.450\n",
      "Epoch 1099, train err 40.375, val err 17.535\n",
      "Epoch 1199, train err 40.235, val err 17.343\n",
      "Epoch 1299, train err 40.170, val err 17.365\n",
      "Epoch 1399, train err 39.945, val err 17.450\n",
      "Epoch 1499, train err 39.555, val err 17.683\n",
      "Epoch 1599, train err 39.315, val err 17.726\n",
      "Epoch 1699, train err 39.220, val err 17.726\n",
      "Epoch 1799, train err 38.865, val err 18.066\n",
      "Epoch 1899, train err 38.790, val err 18.172\n",
      "Epoch 1999, train err 38.725, val err 18.300\n",
      "Epoch 2099, train err 38.780, val err 18.342\n",
      "Epoch 2199, train err 38.700, val err 18.427\n",
      "Epoch 2299, train err 38.755, val err 18.427\n",
      "Epoch 2399, train err 38.775, val err 18.533\n",
      "Epoch 2499, train err 38.740, val err 18.640\n",
      "Epoch 2599, train err 38.755, val err 18.661\n",
      "Epoch 2699, train err 38.800, val err 18.789\n",
      "Epoch 2799, train err 38.800, val err 18.789\n",
      "Epoch 2899, train err 38.830, val err 18.789\n",
      "Epoch 2999, train err 38.780, val err 18.746\n",
      "Epoch 3099, train err 38.810, val err 18.767\n",
      "Epoch 3199, train err 38.830, val err 18.746\n",
      "Epoch 3299, train err 38.800, val err 18.725\n",
      "Epoch 3399, train err 38.750, val err 18.746\n",
      "Epoch 3499, train err 38.700, val err 18.746\n",
      "Epoch 3599, train err 38.690, val err 18.725\n",
      "Epoch 3699, train err 38.725, val err 18.746\n",
      "Epoch 3799, train err 38.685, val err 18.746\n",
      "Epoch 3899, train err 38.680, val err 18.746\n",
      "Epoch 3999, train err 38.695, val err 18.746\n",
      "Epoch 4099, train err 38.675, val err 18.725\n",
      "Epoch 4199, train err 38.705, val err 18.746\n",
      "Epoch 4299, train err 38.670, val err 18.746\n",
      "Epoch 4399, train err 38.590, val err 18.725\n",
      "Epoch 4499, train err 38.605, val err 18.746\n",
      "Epoch 4599, train err 38.625, val err 18.661\n",
      "Epoch 4699, train err 38.635, val err 18.661\n",
      "Epoch 4799, train err 38.595, val err 18.640\n",
      "Epoch 4899, train err 38.565, val err 18.725\n",
      "Epoch 4999, train err 38.575, val err 18.661\n",
      "Info of returned Ws: epoch 4999, train err 38.575, val err 18.661\n"
     ]
    }
   ],
   "source": [
    "Ws_0, train_errs_0, val_errs_0 = train_nnet(train_X, train_Y, val_X, val_Y, hid_layer_sizes=[50], \n",
    "                                            wd_level=0.0, mb_size=40, learning_rate=0.0005, \n",
    "                                            max_patience=None, max_epoch=5000)"
   ]
  },
  {
   "cell_type": "code",
   "execution_count": 50,
   "metadata": {
    "collapsed": false,
    "scrolled": false
   },
   "outputs": [
    {
     "name": "stdout",
     "output_type": "stream",
     "text": [
      "Epoch   99, train err 41.395, val err 17.620\n",
      "Epoch  199, train err 41.425, val err 19.490\n",
      "Epoch  299, train err 41.350, val err 19.532\n",
      "Epoch  399, train err 41.435, val err 19.787\n",
      "Epoch  499, train err 41.460, val err 19.809\n",
      "Epoch  599, train err 41.465, val err 19.660\n",
      "Epoch  699, train err 41.450, val err 19.745\n",
      "Epoch  799, train err 41.320, val err 19.575\n",
      "Epoch  899, train err 41.345, val err 19.532\n",
      "Epoch  999, train err 41.335, val err 19.532\n",
      "Epoch 1099, train err 41.330, val err 19.724\n",
      "Epoch 1199, train err 41.325, val err 19.894\n",
      "Epoch 1299, train err 41.350, val err 19.617\n",
      "Epoch 1399, train err 41.325, val err 19.787\n",
      "Epoch 1499, train err 41.330, val err 19.787\n",
      "Epoch 1599, train err 41.330, val err 19.787\n",
      "Epoch 1699, train err 41.325, val err 19.787\n",
      "Epoch 1799, train err 41.355, val err 19.894\n",
      "Epoch 1899, train err 41.340, val err 19.851\n",
      "Epoch 1999, train err 41.350, val err 20.021\n",
      "Epoch 2099, train err 41.360, val err 19.894\n",
      "Epoch 2199, train err 41.365, val err 20.191\n",
      "Epoch 2299, train err 41.385, val err 20.085\n",
      "Epoch 2399, train err 41.385, val err 19.894\n",
      "Epoch 2499, train err 41.395, val err 20.021\n",
      "Epoch 2599, train err 41.425, val err 19.872\n",
      "Epoch 2699, train err 41.410, val err 20.128\n",
      "Epoch 2799, train err 41.425, val err 20.021\n",
      "Epoch 2899, train err 41.390, val err 20.340\n",
      "Epoch 2999, train err 41.450, val err 20.000\n",
      "Epoch 3099, train err 41.395, val err 20.064\n",
      "Epoch 3199, train err 41.405, val err 20.043\n",
      "Epoch 3299, train err 41.440, val err 20.064\n",
      "Epoch 3399, train err 41.445, val err 20.043\n",
      "Epoch 3499, train err 41.400, val err 20.255\n",
      "Epoch 3599, train err 41.465, val err 20.021\n",
      "Epoch 3699, train err 41.400, val err 20.298\n",
      "Epoch 3799, train err 41.395, val err 20.340\n",
      "Epoch 3899, train err 41.455, val err 20.213\n",
      "Epoch 3999, train err 41.445, val err 20.298\n",
      "Epoch 4099, train err 41.460, val err 20.276\n",
      "Epoch 4199, train err 41.380, val err 20.786\n",
      "Epoch 4299, train err 41.455, val err 20.340\n",
      "Epoch 4399, train err 41.495, val err 20.255\n",
      "Epoch 4499, train err 41.430, val err 20.616\n",
      "Epoch 4599, train err 41.360, val err 20.829\n",
      "Epoch 4699, train err 41.460, val err 20.616\n",
      "Epoch 4799, train err 41.485, val err 20.298\n",
      "Epoch 4899, train err 41.410, val err 20.701\n",
      "Epoch 4999, train err 41.450, val err 20.191\n",
      "Info of returned Ws: epoch 4999, train err 41.450, val err 20.191\n"
     ]
    }
   ],
   "source": [
    "Ws_1, train_errs_1, val_errs_1 = train_nnet(train_X, train_Y, val_X, val_Y, hid_layer_sizes=[50], \n",
    "                                            wd_level=0.001, mb_size=40, learning_rate=0.0005, \n",
    "                                            max_patience=None, max_epoch=5000)"
   ]
  },
  {
   "cell_type": "code",
   "execution_count": 51,
   "metadata": {
    "collapsed": false
   },
   "outputs": [
    {
     "name": "stdout",
     "output_type": "stream",
     "text": [
      "Epoch   99, train err 41.285, val err 16.663\n",
      "Epoch  199, train err 41.360, val err 17.109\n",
      "Epoch  299, train err 41.380, val err 16.897\n",
      "Epoch  399, train err 41.355, val err 16.982\n",
      "Epoch  499, train err 41.370, val err 16.833\n",
      "Epoch  599, train err 41.415, val err 16.833\n",
      "Epoch  699, train err 41.395, val err 17.024\n",
      "Epoch  799, train err 41.435, val err 16.684\n",
      "Epoch  899, train err 41.425, val err 16.684\n",
      "Epoch  999, train err 41.445, val err 16.642\n",
      "Epoch 1099, train err 41.435, val err 16.663\n",
      "Epoch 1199, train err 41.415, val err 16.918\n",
      "Epoch 1299, train err 41.540, val err 16.599\n",
      "Epoch 1399, train err 41.435, val err 16.706\n",
      "Epoch 1499, train err 41.435, val err 16.706\n",
      "Epoch 1599, train err 41.460, val err 16.663\n",
      "Epoch 1699, train err 41.435, val err 16.684\n",
      "Epoch 1799, train err 41.445, val err 16.897\n",
      "Epoch 1899, train err 41.440, val err 16.706\n",
      "Epoch 1999, train err 41.415, val err 17.194\n",
      "Epoch 2099, train err 41.450, val err 16.684\n",
      "Epoch 2199, train err 41.395, val err 17.152\n",
      "Epoch 2299, train err 41.415, val err 16.918\n",
      "Epoch 2399, train err 41.445, val err 16.684\n",
      "Epoch 2499, train err 41.445, val err 16.706\n",
      "Epoch 2599, train err 41.535, val err 16.599\n",
      "Epoch 2699, train err 41.410, val err 17.024\n",
      "Epoch 2799, train err 41.440, val err 16.684\n",
      "Epoch 2899, train err 41.400, val err 17.152\n",
      "Epoch 2999, train err 41.440, val err 16.642\n",
      "Epoch 3099, train err 41.450, val err 16.706\n",
      "Epoch 3199, train err 41.445, val err 16.706\n",
      "Epoch 3299, train err 41.455, val err 16.663\n",
      "Epoch 3399, train err 41.460, val err 16.642\n",
      "Epoch 3499, train err 41.445, val err 16.897\n",
      "Epoch 3599, train err 41.445, val err 16.642\n",
      "Epoch 3699, train err 41.445, val err 16.727\n",
      "Epoch 3799, train err 41.415, val err 16.918\n",
      "Epoch 3899, train err 41.440, val err 16.663\n",
      "Epoch 3999, train err 41.455, val err 16.706\n",
      "Epoch 4099, train err 41.450, val err 16.706\n",
      "Epoch 4199, train err 41.420, val err 17.173\n",
      "Epoch 4299, train err 41.445, val err 16.706\n",
      "Epoch 4399, train err 41.445, val err 16.663\n",
      "Epoch 4499, train err 41.420, val err 16.918\n",
      "Epoch 4599, train err 41.415, val err 17.194\n",
      "Epoch 4699, train err 41.440, val err 16.897\n",
      "Epoch 4799, train err 41.440, val err 16.684\n",
      "Epoch 4899, train err 41.415, val err 16.918\n",
      "Epoch 4999, train err 41.430, val err 16.642\n",
      "Info of returned Ws: epoch 4999, train err 41.430, val err 16.642\n"
     ]
    }
   ],
   "source": [
    "Ws_2, train_errs_2, val_errs_2 = train_nnet(train_X, train_Y, val_X, val_Y, hid_layer_sizes=[50], \n",
    "                                            wd_level=0.005, mb_size=40, learning_rate=0.0005, \n",
    "                                            max_patience=None, max_epoch=5000)"
   ]
  },
  {
   "cell_type": "code",
   "execution_count": 52,
   "metadata": {
    "collapsed": false,
    "scrolled": true
   },
   "outputs": [
    {
     "data": {
      "text/plain": [
       "<matplotlib.legend.Legend at 0x11a802b0>"
      ]
     },
     "execution_count": 52,
     "metadata": {},
     "output_type": "execute_result"
    },
    {
     "data": {
      "image/png": "[encoded data removed]",
      "text/plain": [
       "<matplotlib.figure.Figure at 0x117162b0>"
      ]
     },
     "metadata": {},
     "output_type": "display_data"
    }
   ],
   "source": [
    "# Visualize results\n",
    "\n",
    "plt.figure(figsize=(14,10))\n",
    "num_epochs = len(train_errs_0)\n",
    "\n",
    "plt.subplot(2, 3, 1)\n",
    "plt.plot(range(num_epochs), train_errs_0, 'r', label='wd_level 0.000, train err')\n",
    "plt.plot(range(num_epochs), val_errs_0, 'r--', label='wd_level 0.000, val err')\n",
    "plt.xlabel('num epochs')\n",
    "plt.ylabel('error')\n",
    "plt.legend(loc='best')\n",
    "\n",
    "\n",
    "plt.subplot(2, 3, 2)\n",
    "plt.plot(range(num_epochs), train_errs_1, 'g', label='wd_level 0.001, train err')\n",
    "plt.plot(range(num_epochs), val_errs_1, 'g--', label='wd_level 0.001, val err')\n",
    "plt.xlabel('num epochs')\n",
    "plt.ylabel('error')\n",
    "plt.legend(loc='best')\n",
    "\n",
    "plt.subplot(2, 3, 3)\n",
    "plt.plot(range(num_epochs), train_errs_2, 'b', label='wd_level 0.005, train err')\n",
    "plt.plot(range(num_epochs), val_errs_2, 'b--', label='wd_level 0.005, val err')\n",
    "plt.xlabel('num epochs')\n",
    "plt.ylabel('error')\n",
    "plt.legend(loc='best')\n",
    "\n",
    "plt.subplot(2, 3, 4)\n",
    "plt.plot(range(num_epochs), train_errs_0, 'r', label='wd_level 0.000, train err')\n",
    "plt.plot(range(num_epochs), val_errs_0, 'r--', label='wd_level 0.000, val err')\n",
    "plt.plot(range(num_epochs), train_errs_1, 'g', label='wd_level 0.001, train err')\n",
    "plt.plot(range(num_epochs), val_errs_1, 'g--', label='wd_level 0.001, val err')\n",
    "plt.plot(range(num_epochs), train_errs_2, 'b', label='wd_level 0.005, train err')\n",
    "plt.plot(range(num_epochs), val_errs_2, 'b--', label='wd_level 0.005, val err')\n",
    "plt.xlabel('num epochs')\n",
    "plt.ylabel('error')\n",
    "plt.legend(loc='best')\n"
   ]
  },
  {
   "cell_type": "markdown",
   "metadata": {},
   "source": [
    "**Thí nghiệm 2: ảnh hưởng của early stopping**\n",
    "\n",
    "Cố định `hid_layer_sizes=[50], wd_level=0.0, mb_size=40, learning_rate=0.1, max_epoch=1000000(default).\n",
    "\n",
    "Chọn max_patience = 3000"
   ]
  },
  {
   "cell_type": "code",
   "execution_count": null,
   "metadata": {
    "collapsed": false,
    "scrolled": true
   },
   "outputs": [],
   "source": [
    "Ws_3, train_errs_3, val_errs_3 = train_nnet(train_X, train_Y, val_X, val_Y, hid_layer_sizes=[50], \n",
    "                                            wd_level=0.0, mb_size=40, learning_rate=0.1, \n",
    "                                            max_patience=3000)"
   ]
  },
  {
   "cell_type": "code",
   "execution_count": 62,
   "metadata": {
    "collapsed": false
   },
   "outputs": [
    {
     "data": {
      "text/plain": [
       "<matplotlib.text.Text at 0x121feb00>"
      ]
     },
     "execution_count": 62,
     "metadata": {},
     "output_type": "execute_result"
    },
    {
     "data": {
      "image/png": "[encoded data removed]",
      "text/plain": [
       "<matplotlib.figure.Figure at 0x14caaeb8>"
      ]
     },
     "metadata": {},
     "output_type": "display_data"
    }
   ],
   "source": [
    "# Visualize results\n",
    "num_epochs = len(train_errs_3)\n",
    "stop_epoch = np.argmin(val_errs_3)\n",
    "plt.plot(range(num_epochs), train_errs_3, 'r', label='train err')\n",
    "plt.plot(range(num_epochs), val_errs_3, 'r--', label='val err')\n",
    "min_y, max_y = plt.ylim()\n",
    "plt.plot([stop_epoch, stop_epoch], [min_y, max_y])\n",
    "plt.xlabel('num epochs')\n",
    "plt.ylabel('error')\n",
    "plt.legend(loc='best')\n",
    "plt.text(stop_epoch, (min_y + max_y) / 2, 'STOP')"
   ]
  },
  {
   "cell_type": "markdown",
   "metadata": {},
   "source": [
    "## Kiểm tra (test)"
   ]
  },
  {
   "cell_type": "markdown",
   "metadata": {},
   "source": [
    "**1. Đọc dữ liệu tập kiểm tra vào data frame `test_input_df`**"
   ]
  },
  {
   "cell_type": "code",
   "execution_count": null,
   "metadata": {
    "collapsed": false
   },
   "outputs": [],
   "source": [
    "test_input_df = pd.read_csv('test.csv', index_col=0)"
   ]
  },
  {
   "cell_type": "markdown",
   "metadata": {},
   "source": [
    "**2. Xây dựng `test_X` từ `test_input_df`**"
   ]
  },
  {
   "cell_type": "code",
   "execution_count": null,
   "metadata": {
    "collapsed": true
   },
   "outputs": [],
   "source": [
    "test_X, _ = process_new_input_df(test_input_df, ['id', 'title', 'review', 'rating'] , X_mean, X_std, train_li_attitude)\n",
    "test_Y = np.array([int(i) for i in test_input_df.rating.values]).reshape(-1, 1)"
   ]
  },
  {
   "cell_type": "markdown",
   "metadata": {},
   "source": [
    "**3. Dự đoán nhãn lớp của test_X**"
   ]
  },
  {
   "cell_type": "code",
   "execution_count": null,
   "metadata": {
    "collapsed": false
   },
   "outputs": [],
   "source": [
    "# Predict\n",
    "preds = np.argmax(compute_nnet_outputs(Ws_3, test_X, False), axis=1)\n",
    "per = np.sum([(p==y) for p, y in zip(preds, test_Y.T[0])])*100.0/len(preds)\n",
    "print 'Performance is %.3f%%' % (per)"
   ]
  }
 ],
 "metadata": {
  "anaconda-cloud": {},
  "kernelspec": {
   "display_name": "Python [Root]",
   "language": "python",
   "name": "Python [Root]"
  },
  "language_info": {
   "codemirror_mode": {
    "name": "ipython",
    "version": 2
   },
   "file_extension": ".py",
   "mimetype": "text/x-python",
   "name": "python",
   "nbconvert_exporter": "python",
   "pygments_lexer": "ipython2",
   "version": "2.7.12"
  },
  "toc": {
   "colors": {
    "hover_highlight": "#DAA520",
    "running_highlight": "#FF0000",
    "selected_highlight": "#FFD700"
   },
   "moveMenuLeft": true,
   "nav_menu": {
    "height": "153px",
    "width": "252px"
   },
   "navigate_menu": true,
   "number_sections": true,
   "sideBar": true,
   "threshold": 4,
   "toc_cell": false,
   "toc_section_display": "block",
   "toc_window_display": true
  }
 },
 "nbformat": 4,
 "nbformat_minor": 0
}
