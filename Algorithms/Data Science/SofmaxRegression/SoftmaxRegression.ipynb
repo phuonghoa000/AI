{
 "cells": [
  {
   "cell_type": "markdown",
   "metadata": {},
   "source": [
    "# BT04: Softmax Regression\n",
    "\n",
    "TODO: Võ Phương Hòa - 1412192\n",
    "\n",
    "---"
   ]
  },
  {
   "cell_type": "markdown",
   "metadata": {},
   "source": [
    "## Tổng thể\n",
    "\n",
    "**Cách làm bài**\n",
    "\n",
    "Bạn sẽ làm trực tiếp trên file notebook này; trong file, mình đã để từ `TODO` để cho biết những chỗ mà bạn cần phải làm (trong đó, `TODO` đầu tiên là bạn phải ghi họ tên và MSSV vào phần đầu của file). Trong khi làm bài, thường xuyên `Ctrl + S` để lưu lại bài làm của bạn, tránh mất mát thông tin.\n",
    "\n",
    "Nên nhớ mục tiêu chính ở đây là *học, học một cách chân thật*. Bạn có thể thảo luận ý tưởng với bạn khác cũng như là tham khảo các tài liệu, nhưng *code và bài làm phải là của bạn, dựa trên sự hiểu của bạn*. Nếu vi phạm thì sẽ bị 0 điểm cho toàn bộ môn học.\n",
    "\n",
    "**Cách nộp bài**\n",
    "\n",
    "Trước khi nộp bài, bạn chọn `Kernel` -> `Restart & Run All` (restart python và chạy tất cả các cell), rồi kiểm tra xem có bị lỗi gì không.\n",
    "\n",
    "Sau đó, trong thư mục `MSSV` (vd, nếu bạn có MSSV là 1234567 thì bạn đặt tên thư mục là `1234567`) bạn đặt file `BT04-SoftmaxRegression.ipynb` (không cần nộp file dữ liệu); rồi nén thư mục `MSSV` này lại và nộp ở link trên moodle.\n",
    "\n",
    "**Nội dung bài tập**\n",
    "\n",
    "Trong bài này, bạn sẽ huấn luyện mô hình Softmax Regression để dự đoán nhãn lớp của ảnh. Bộ dữ liệu được sử dụng là CIFAR-10. Đầu tiên, bạn đọc mô tả về bộ dữ liệu CIFAR-10 [ở đây](https://www.cs.toronto.edu/~kriz/cifar.html). Sau đó, bạn download file dữ liệu `CIFAR-10 python version`, giải nén ra được thư mục `cifar-10-batches-py`, và đặt thư mục này vào cùng thư mục chứa file notebook."
   ]
  },
  {
   "cell_type": "markdown",
   "metadata": {},
   "source": [
    "## Import"
   ]
  },
  {
   "cell_type": "code",
   "execution_count": 1,
   "metadata": {
    "collapsed": false
   },
   "outputs": [],
   "source": [
    "%matplotlib inline\n",
    "#import pandas as pd\n",
    "import numpy as np\n",
    "import matplotlib.pyplot as plt\n",
    "import cPickle\n",
    "# You can also import other things ..."
   ]
  },
  {
   "cell_type": "markdown",
   "metadata": {},
   "source": [
    "## Định nghĩa các hàm"
   ]
  },
  {
   "cell_type": "markdown",
   "metadata": {},
   "source": [
    "**Hàm đọc bộ dữ liệu CIFAR-10**"
   ]
  },
  {
   "cell_type": "code",
   "execution_count": 2,
   "metadata": {
    "collapsed": false
   },
   "outputs": [],
   "source": [
    "def unpickle(file):\n",
    "    fo = open(file, 'rb')\n",
    "    dict = cPickle.load(fo)\n",
    "    fo.close()\n",
    "    return dict\n",
    "def read_data(containing_dir, num_train_batchs):\n",
    "    '''\n",
    "    Read training and test data.\n",
    "    \n",
    "    Parameters\n",
    "    ----------\n",
    "    containing_dir : string\n",
    "        The directory containing data files.\n",
    "    num_train_batchs : int\n",
    "        The number of data batchs used for training \n",
    "        (there are totally 5 data batchs; each one contains 10000 images).\n",
    "    \n",
    "    Returns\n",
    "    -------\n",
    "    (train_X, train_Y, test_X, test Y) : tuple\n",
    "        train_X : numpy array, shape (num_train_batchs*10000, 32x32x3 + 1)\n",
    "            The matrix of input vectors (each row corresponds to an input vector) of the training set;\n",
    "            pixel values are normalized to [0, 1]; \n",
    "            the first column of this matrix is all ones (corresponding to x_0).\n",
    "        train_Y : numpy array, shape (num_train_batchs*10000, 1)\n",
    "            The vector of outputs of the training set.\n",
    "        test_X : numpy array, shape (10000, 32x32x3 + 1)\n",
    "            The matrix of input vectors of the test set (similar to train_X).\n",
    "        test_Y : numpy array, shape (10000, 1)\n",
    "            The vector of outputs of the test set.\n",
    "    '''\n",
    "    # Read training data\n",
    "    train_X_batchs = []\n",
    "    train_Y_batchs = []\n",
    "    for batch_idx in range(num_train_batchs):\n",
    "        batch = unpickle(containing_dir + '\\\\data_batch_' + str(batch_idx + 1))\n",
    "        train_X_batchs.append(batch['data'])\n",
    "        train_Y_batchs.append(np.array(batch['labels']).reshape(-1, 1))\n",
    "    train_X = np.vstack(train_X_batchs)\n",
    "    train_X = train_X / 255. # Normalize to [0, 1]\n",
    "    train_X = np.hstack([np.ones((len(train_X), 1)), train_X])\n",
    "    train_Y = np.vstack(train_Y_batchs)\n",
    "    \n",
    "    # Read test data\n",
    "    batch = unpickle(containing_dir + '\\\\test_batch')\n",
    "    test_X = batch['data']\n",
    "    test_X = test_X / 255. # Normalize to [0, 1]\n",
    "    test_X = np.hstack([np.ones((len(test_X), 1)), test_X])\n",
    "    test_Y = np.array(batch['labels']).reshape(-1, 1)\n",
    "    \n",
    "    return (train_X, train_Y, test_X, test_Y)"
   ]
  },
  {
   "cell_type": "markdown",
   "metadata": {},
   "source": [
    "#### Hàm cập nhật lại định dạng của train_Y"
   ]
  },
  {
   "cell_type": "code",
   "execution_count": 3,
   "metadata": {
    "collapsed": false
   },
   "outputs": [],
   "source": [
    "def update_train_Y(Y):\n",
    "    '''\n",
    "    Transfer format for train_Y.\n",
    "    The old format of train_Y is a element is integer number.\n",
    "    But with new format, each element of train_Y is a numpy array\n",
    "    with all of values is zero, escape the value has index is the integer number of old train_Y.\n",
    "    This value is one.\n",
    "    '''\n",
    "    new_Y = np.zeros(shape = (len(Y), len(np.unique(Y))))\n",
    "    for y, new_y in zip(Y, new_Y):\n",
    "        new_y[y[0]] = True\n",
    "        \n",
    "    return new_Y"
   ]
  },
  {
   "cell_type": "markdown",
   "metadata": {},
   "source": [
    "**Hàm tính output của Softmax Regression**"
   ]
  },
  {
   "cell_type": "code",
   "execution_count": 4,
   "metadata": {
    "collapsed": true
   },
   "outputs": [],
   "source": [
    "def compute_softmax_output(W, X):\n",
    "    '''\n",
    "    Computes the outputs of Softmax Regression.\n",
    "    \n",
    "    Parameters\n",
    "    ----------\n",
    "    W : numpy array, shape (d+1, K=10)\n",
    "        The matrix of Softmax Regression's parameters; each column corresponds to parameters of a class.\n",
    "    X : numpy array, shape (N, d+1)\n",
    "        The matrix of input vectors (each row corresponds to an input vector); the first column of \n",
    "        this matrix is all ones (corresponding to x_0).\n",
    "    \n",
    "    Returns\n",
    "    -------\n",
    "    A : numpy array, shape (N, K=10)\n",
    "        The maxtrix of Softmax Regression's output vectors; each row is an output vector (containing each \n",
    "        class's probability given the corresponding input vector).\n",
    "    '''\n",
    "    # TODO\n",
    "    # Initialize output A with all of values is 0\n",
    "    A = np.zeros((len(X), W.shape[1]))\n",
    "    \n",
    "    # Output of Softmax Regression\n",
    "    for i in range(len(X)):\n",
    "        A[i] = np.exp(W.T.dot(X[i])) / sum(np.exp(W.T.dot(X[i])))\n",
    "        \n",
    "    return A"
   ]
  },
  {
   "cell_type": "markdown",
   "metadata": {},
   "source": [
    "**Hàm huấn luyện Softmax Regression**"
   ]
  },
  {
   "cell_type": "code",
   "execution_count": 5,
   "metadata": {
    "collapsed": false
   },
   "outputs": [],
   "source": [
    "def train_softmax(X, Y, learning_rate, max_epoch):\n",
    "    '''\n",
    "    Trains Softmax Regression on the dataset (X, Y).\n",
    "    Cost function: mean negative log likelihood.\n",
    "    Optimization algorithm: Gradient Descent.\n",
    "    \n",
    "    Your code also needs to print out the cost and mean binary error on the training set after \n",
    "    each epoch (e.g., 'Epoch ..., cost ..., err ...%').\n",
    "    \n",
    "    Parameters\n",
    "    ----------\n",
    "    X : numpy array, shape (N, d + 1)\n",
    "        The matrix of input vectors (each row corresponds to an input vector); the first column of \n",
    "        this matrix is all ones (corresponding to x_0).\n",
    "    Y : numpy array, shape (N, 1)\n",
    "        The vector of outputs.\n",
    "    learning_rate : float\n",
    "        Learning rate of Gradient Descent.\n",
    "    max_epoch : int\n",
    "        After this number of epochs (iterations), we'll terminate Gradient Descent.\n",
    "    \n",
    "    Returns\n",
    "    -------\n",
    "    (W, costs, errs) : tuple\n",
    "        W : numpy array, shape (d+1, K=10)\n",
    "            The maxtrix of Softmax Regression's parameters after training.\n",
    "        costs : list, len = max_epoch\n",
    "            The list of costs after each epoch.\n",
    "        errs : list, len = max_epoch\n",
    "            The list of mean binary errors (on the training set) after each epoch.\n",
    "    '''\n",
    "    # Init W\n",
    "    K = len(np.unique(Y)) # Num classes\n",
    "    W = np.zeros((X.shape[1], K))\n",
    "    \n",
    "    # TODO\n",
    "    hypothesis = compute_softmax_output(W, X) # hypothesis with initialized W\n",
    "    Y = update_train_Y(Y) # transfer correct output Y into a new format\n",
    "    N = len(X)\n",
    "    costs = []\n",
    "    errs = []\n",
    "    \n",
    "    # training with gradient descent\n",
    "    for e in range(max_epoch):\n",
    "        # Find partial derivatives of E_in with hypothesis\n",
    "        delta_W = X.T.dot(hypothesis - Y) / N\n",
    "        # Update W\n",
    "        W = np.array([w-learning_rate*delta_w for w, delta_w in zip(W, delta_W)])\n",
    "        # Update hypothesis\n",
    "        hypothesis = compute_softmax_output(W, X)\n",
    "        # Find cost value with mean negative log likelihood\n",
    "        cost = sum([-np.log(hy[int(np.argmax(y))]) for hy, y in zip(hypothesis, Y)]) / N\n",
    "        # Find error\n",
    "        err = sum([int(np.argmax(hy)) != int(np.argmax(y)) for y, hy in zip(hypothesis, Y)]) * 100.0 / N\n",
    "        \n",
    "        costs.append(cost)\n",
    "        errs.append(err)\n",
    "        \n",
    "        print 'Epoch #%2d: cost = %.3f, err = %.3f%%' % (e, cost, err)\n",
    "    \n",
    "    return W, costs, errs"
   ]
  },
  {
   "cell_type": "markdown",
   "metadata": {},
   "source": [
    "## Chạy"
   ]
  },
  {
   "cell_type": "markdown",
   "metadata": {},
   "source": [
    "**1.** Đọc dữ liệu (bạn cần đặt thư mục chứa dữ liệu `cifar-10-batches-py` vào cùng thư mục chứa file notebook này)"
   ]
  },
  {
   "cell_type": "code",
   "execution_count": 6,
   "metadata": {
    "collapsed": false
   },
   "outputs": [
    {
     "name": "stdout",
     "output_type": "stream",
     "text": [
      "train_X.shape = (30000L, 3073L), train_Y.shape = (30000L, 1L)\n",
      "test_X.shape  = (10000L, 3073L), test_Y.shape  = (10000L, 1L)\n"
     ]
    }
   ],
   "source": [
    "num_train_batchs = 3 # It's enough to make my computer tired\n",
    "train_X, train_Y, test_X, test_Y = read_data('cifar-10-batches-py', num_train_batchs) \n",
    "print 'train_X.shape = %s, train_Y.shape = %s' %(train_X.shape, train_Y.shape)\n",
    "print 'test_X.shape  = %s, test_Y.shape  = %s' %(test_X.shape, test_Y.shape)"
   ]
  },
  {
   "cell_type": "markdown",
   "metadata": {},
   "source": [
    "**2.** Huấn luyện Softmax Regression với các `learning_rate` khác nhau (0.001, 0.01, 0.1) để thấy được ảnh hưởng của `learning_rate` đến quá trình học (ta cố định `max_epoch` bằng 100)"
   ]
  },
  {
   "cell_type": "code",
   "execution_count": 7,
   "metadata": {
    "collapsed": false
   },
   "outputs": [
    {
     "name": "stdout",
     "output_type": "stream",
     "text": [
      "Epoch # 0: cost = 2.301, err = 90.070%\n",
      "Epoch # 1: cost = 2.300, err = 90.070%\n",
      "Epoch # 2: cost = 2.299, err = 90.073%\n",
      "Epoch # 3: cost = 2.298, err = 90.077%\n",
      "Epoch # 4: cost = 2.297, err = 90.077%\n",
      "Epoch # 5: cost = 2.296, err = 90.083%\n",
      "Epoch # 6: cost = 2.295, err = 90.087%\n",
      "Epoch # 7: cost = 2.294, err = 90.087%\n",
      "Epoch # 8: cost = 2.293, err = 90.090%\n",
      "Epoch # 9: cost = 2.292, err = 90.077%\n",
      "Epoch #10: cost = 2.291, err = 90.083%\n",
      "Epoch #11: cost = 2.290, err = 90.090%\n",
      "Epoch #12: cost = 2.289, err = 90.077%\n",
      "Epoch #13: cost = 2.289, err = 90.067%\n",
      "Epoch #14: cost = 2.288, err = 90.067%\n",
      "Epoch #15: cost = 2.287, err = 90.063%\n",
      "Epoch #16: cost = 2.286, err = 90.023%\n",
      "Epoch #17: cost = 2.285, err = 89.983%\n",
      "Epoch #18: cost = 2.284, err = 89.937%\n",
      "Epoch #19: cost = 2.284, err = 89.883%\n",
      "Epoch #20: cost = 2.283, err = 89.820%\n",
      "Epoch #21: cost = 2.282, err = 89.727%\n",
      "Epoch #22: cost = 2.281, err = 89.637%\n",
      "Epoch #23: cost = 2.280, err = 89.573%\n",
      "Epoch #24: cost = 2.280, err = 89.433%\n",
      "Epoch #25: cost = 2.279, err = 89.367%\n",
      "Epoch #26: cost = 2.278, err = 89.250%\n",
      "Epoch #27: cost = 2.277, err = 89.097%\n",
      "Epoch #28: cost = 2.277, err = 88.967%\n",
      "Epoch #29: cost = 2.276, err = 88.840%\n",
      "Epoch #30: cost = 2.275, err = 88.717%\n",
      "Epoch #31: cost = 2.274, err = 88.497%\n",
      "Epoch #32: cost = 2.274, err = 88.307%\n",
      "Epoch #33: cost = 2.273, err = 88.093%\n",
      "Epoch #34: cost = 2.272, err = 87.917%\n",
      "Epoch #35: cost = 2.271, err = 87.770%\n",
      "Epoch #36: cost = 2.271, err = 87.567%\n",
      "Epoch #37: cost = 2.270, err = 87.357%\n",
      "Epoch #38: cost = 2.269, err = 87.173%\n",
      "Epoch #39: cost = 2.269, err = 86.950%\n",
      "Epoch #40: cost = 2.268, err = 86.787%\n",
      "Epoch #41: cost = 2.267, err = 86.620%\n",
      "Epoch #42: cost = 2.266, err = 86.397%\n",
      "Epoch #43: cost = 2.266, err = 86.187%\n",
      "Epoch #44: cost = 2.265, err = 85.990%\n",
      "Epoch #45: cost = 2.264, err = 85.830%\n",
      "Epoch #46: cost = 2.264, err = 85.627%\n",
      "Epoch #47: cost = 2.263, err = 85.433%\n",
      "Epoch #48: cost = 2.262, err = 85.230%\n",
      "Epoch #49: cost = 2.261, err = 85.013%\n",
      "Epoch #50: cost = 2.261, err = 84.853%\n",
      "Epoch #51: cost = 2.260, err = 84.677%\n",
      "Epoch #52: cost = 2.259, err = 84.557%\n",
      "Epoch #53: cost = 2.259, err = 84.383%\n",
      "Epoch #54: cost = 2.258, err = 84.197%\n",
      "Epoch #55: cost = 2.257, err = 84.043%\n",
      "Epoch #56: cost = 2.257, err = 83.943%\n",
      "Epoch #57: cost = 2.256, err = 83.743%\n",
      "Epoch #58: cost = 2.255, err = 83.573%\n",
      "Epoch #59: cost = 2.255, err = 83.440%\n",
      "Epoch #60: cost = 2.254, err = 83.270%\n",
      "Epoch #61: cost = 2.253, err = 83.117%\n",
      "Epoch #62: cost = 2.252, err = 82.920%\n",
      "Epoch #63: cost = 2.252, err = 82.747%\n",
      "Epoch #64: cost = 2.251, err = 82.620%\n",
      "Epoch #65: cost = 2.250, err = 82.497%\n",
      "Epoch #66: cost = 2.250, err = 82.353%\n",
      "Epoch #67: cost = 2.249, err = 82.200%\n",
      "Epoch #68: cost = 2.249, err = 82.063%\n",
      "Epoch #69: cost = 2.248, err = 81.947%\n",
      "Epoch #70: cost = 2.247, err = 81.857%\n",
      "Epoch #71: cost = 2.247, err = 81.737%\n",
      "Epoch #72: cost = 2.246, err = 81.627%\n",
      "Epoch #73: cost = 2.245, err = 81.450%\n",
      "Epoch #74: cost = 2.245, err = 81.343%\n",
      "Epoch #75: cost = 2.244, err = 81.230%\n",
      "Epoch #76: cost = 2.243, err = 81.153%\n",
      "Epoch #77: cost = 2.243, err = 81.057%\n",
      "Epoch #78: cost = 2.242, err = 80.933%\n",
      "Epoch #79: cost = 2.241, err = 80.823%\n",
      "Epoch #80: cost = 2.241, err = 80.707%\n",
      "Epoch #81: cost = 2.240, err = 80.593%\n",
      "Epoch #82: cost = 2.240, err = 80.517%\n",
      "Epoch #83: cost = 2.239, err = 80.430%\n",
      "Epoch #84: cost = 2.238, err = 80.307%\n",
      "Epoch #85: cost = 2.238, err = 80.210%\n",
      "Epoch #86: cost = 2.237, err = 80.063%\n",
      "Epoch #87: cost = 2.236, err = 79.937%\n",
      "Epoch #88: cost = 2.236, err = 79.853%\n",
      "Epoch #89: cost = 2.235, err = 79.730%\n",
      "Epoch #90: cost = 2.235, err = 79.637%\n",
      "Epoch #91: cost = 2.234, err = 79.567%\n",
      "Epoch #92: cost = 2.233, err = 79.440%\n",
      "Epoch #93: cost = 2.233, err = 79.360%\n",
      "Epoch #94: cost = 2.232, err = 79.267%\n",
      "Epoch #95: cost = 2.232, err = 79.163%\n",
      "Epoch #96: cost = 2.231, err = 79.063%\n",
      "Epoch #97: cost = 2.230, err = 78.977%\n",
      "Epoch #98: cost = 2.230, err = 78.893%\n",
      "Epoch #99: cost = 2.229, err = 78.760%\n"
     ]
    }
   ],
   "source": [
    "W_0, costs_0, errs_0 = train_softmax(train_X, train_Y, 0.001, 100)"
   ]
  },
  {
   "cell_type": "markdown",
   "metadata": {},
   "source": [
    "Kết quả chạy của mình ở epoch cuối (chỉ số epoch tính từ 0): `Epoch 99, cost 2.229, err 78.760%` "
   ]
  },
  {
   "cell_type": "code",
   "execution_count": 8,
   "metadata": {
    "collapsed": false
   },
   "outputs": [
    {
     "name": "stdout",
     "output_type": "stream",
     "text": [
      "Epoch # 0: cost = 2.291, err = 90.070%\n",
      "Epoch # 1: cost = 2.283, err = 90.070%\n",
      "Epoch # 2: cost = 2.276, err = 89.107%\n",
      "Epoch # 3: cost = 2.268, err = 87.110%\n",
      "Epoch # 4: cost = 2.261, err = 85.030%\n",
      "Epoch # 5: cost = 2.254, err = 83.380%\n",
      "Epoch # 6: cost = 2.248, err = 81.910%\n",
      "Epoch # 7: cost = 2.241, err = 80.783%\n",
      "Epoch # 8: cost = 2.235, err = 79.697%\n",
      "Epoch # 9: cost = 2.229, err = 78.687%\n",
      "Epoch #10: cost = 2.223, err = 77.840%\n",
      "Epoch #11: cost = 2.217, err = 77.143%\n",
      "Epoch #12: cost = 2.212, err = 76.527%\n",
      "Epoch #13: cost = 2.206, err = 75.940%\n",
      "Epoch #14: cost = 2.201, err = 75.513%\n",
      "Epoch #15: cost = 2.196, err = 75.037%\n",
      "Epoch #16: cost = 2.191, err = 74.707%\n",
      "Epoch #17: cost = 2.186, err = 74.383%\n",
      "Epoch #18: cost = 2.182, err = 74.090%\n",
      "Epoch #19: cost = 2.177, err = 73.797%\n",
      "Epoch #20: cost = 2.173, err = 73.510%\n",
      "Epoch #21: cost = 2.169, err = 73.307%\n",
      "Epoch #22: cost = 2.164, err = 73.093%\n",
      "Epoch #23: cost = 2.160, err = 72.907%\n",
      "Epoch #24: cost = 2.156, err = 72.680%\n",
      "Epoch #25: cost = 2.153, err = 72.437%\n",
      "Epoch #26: cost = 2.149, err = 72.233%\n",
      "Epoch #27: cost = 2.145, err = 72.050%\n",
      "Epoch #28: cost = 2.142, err = 71.910%\n",
      "Epoch #29: cost = 2.138, err = 71.773%\n",
      "Epoch #30: cost = 2.135, err = 71.633%\n",
      "Epoch #31: cost = 2.131, err = 71.533%\n",
      "Epoch #32: cost = 2.128, err = 71.440%\n",
      "Epoch #33: cost = 2.125, err = 71.320%\n",
      "Epoch #34: cost = 2.122, err = 71.200%\n",
      "Epoch #35: cost = 2.119, err = 71.113%\n",
      "Epoch #36: cost = 2.116, err = 71.033%\n",
      "Epoch #37: cost = 2.113, err = 70.903%\n",
      "Epoch #38: cost = 2.110, err = 70.747%\n",
      "Epoch #39: cost = 2.107, err = 70.663%\n",
      "Epoch #40: cost = 2.105, err = 70.540%\n",
      "Epoch #41: cost = 2.102, err = 70.480%\n",
      "Epoch #42: cost = 2.099, err = 70.390%\n",
      "Epoch #43: cost = 2.097, err = 70.303%\n",
      "Epoch #44: cost = 2.094, err = 70.237%\n",
      "Epoch #45: cost = 2.092, err = 70.130%\n",
      "Epoch #46: cost = 2.090, err = 70.023%\n",
      "Epoch #47: cost = 2.087, err = 69.917%\n",
      "Epoch #48: cost = 2.085, err = 69.853%\n",
      "Epoch #49: cost = 2.083, err = 69.767%\n",
      "Epoch #50: cost = 2.080, err = 69.743%\n",
      "Epoch #51: cost = 2.078, err = 69.630%\n",
      "Epoch #52: cost = 2.076, err = 69.567%\n",
      "Epoch #53: cost = 2.074, err = 69.517%\n",
      "Epoch #54: cost = 2.072, err = 69.420%\n",
      "Epoch #55: cost = 2.070, err = 69.363%\n",
      "Epoch #56: cost = 2.068, err = 69.293%\n",
      "Epoch #57: cost = 2.066, err = 69.260%\n",
      "Epoch #58: cost = 2.064, err = 69.190%\n",
      "Epoch #59: cost = 2.062, err = 69.127%\n",
      "Epoch #60: cost = 2.060, err = 69.073%\n",
      "Epoch #61: cost = 2.058, err = 69.007%\n",
      "Epoch #62: cost = 2.056, err = 68.957%\n",
      "Epoch #63: cost = 2.054, err = 68.900%\n",
      "Epoch #64: cost = 2.053, err = 68.867%\n",
      "Epoch #65: cost = 2.051, err = 68.773%\n",
      "Epoch #66: cost = 2.049, err = 68.743%\n",
      "Epoch #67: cost = 2.047, err = 68.693%\n",
      "Epoch #68: cost = 2.046, err = 68.633%\n",
      "Epoch #69: cost = 2.044, err = 68.597%\n",
      "Epoch #70: cost = 2.043, err = 68.527%\n",
      "Epoch #71: cost = 2.041, err = 68.497%\n",
      "Epoch #72: cost = 2.039, err = 68.440%\n",
      "Epoch #73: cost = 2.038, err = 68.363%\n",
      "Epoch #74: cost = 2.036, err = 68.327%\n",
      "Epoch #75: cost = 2.035, err = 68.260%\n",
      "Epoch #76: cost = 2.033, err = 68.210%\n",
      "Epoch #77: cost = 2.032, err = 68.190%\n",
      "Epoch #78: cost = 2.030, err = 68.143%\n",
      "Epoch #79: cost = 2.029, err = 68.107%\n",
      "Epoch #80: cost = 2.027, err = 68.047%\n",
      "Epoch #81: cost = 2.026, err = 68.013%\n",
      "Epoch #82: cost = 2.025, err = 67.960%\n",
      "Epoch #83: cost = 2.023, err = 67.917%\n",
      "Epoch #84: cost = 2.022, err = 67.887%\n",
      "Epoch #85: cost = 2.021, err = 67.873%\n",
      "Epoch #86: cost = 2.019, err = 67.833%\n",
      "Epoch #87: cost = 2.018, err = 67.810%\n",
      "Epoch #88: cost = 2.017, err = 67.783%\n",
      "Epoch #89: cost = 2.015, err = 67.713%\n",
      "Epoch #90: cost = 2.014, err = 67.683%\n",
      "Epoch #91: cost = 2.013, err = 67.640%\n",
      "Epoch #92: cost = 2.012, err = 67.603%\n",
      "Epoch #93: cost = 2.011, err = 67.577%\n",
      "Epoch #94: cost = 2.009, err = 67.560%\n",
      "Epoch #95: cost = 2.008, err = 67.517%\n",
      "Epoch #96: cost = 2.007, err = 67.467%\n",
      "Epoch #97: cost = 2.006, err = 67.437%\n",
      "Epoch #98: cost = 2.005, err = 67.420%\n",
      "Epoch #99: cost = 2.004, err = 67.357%\n"
     ]
    }
   ],
   "source": [
    "W_1, costs_1, errs_1 = train_softmax(train_X, train_Y, 0.01, 100)"
   ]
  },
  {
   "cell_type": "markdown",
   "metadata": {},
   "source": [
    "Kết quả chạy của mình ở epoch cuối (chỉ số epoch tính từ 0): `Epoch 99, cost 2.004, err 67.357%`"
   ]
  },
  {
   "cell_type": "code",
   "execution_count": 9,
   "metadata": {
    "collapsed": false
   },
   "outputs": [
    {
     "name": "stdout",
     "output_type": "stream",
     "text": [
      "Epoch # 0: cost = 2.374, err = 90.070%\n",
      "Epoch # 1: cost = 4.360, err = 89.693%\n",
      "Epoch # 2: cost = 6.202, err = 89.280%\n",
      "Epoch # 3: cost = 7.979, err = 89.103%\n",
      "Epoch # 4: cost = 10.392, err = 88.223%\n",
      "Epoch # 5: cost = 13.307, err = 82.627%\n",
      "Epoch # 6: cost = 15.558, err = 87.637%\n",
      "Epoch # 7: cost = 15.313, err = 90.153%\n",
      "Epoch # 8: cost = 15.679, err = 86.740%\n",
      "Epoch # 9: cost = 15.290, err = 85.753%\n",
      "Epoch #10: cost = 17.912, err = 86.357%\n",
      "Epoch #11: cost = 16.445, err = 89.703%\n",
      "Epoch #12: cost = 17.385, err = 89.767%\n",
      "Epoch #13: cost = 17.520, err = 89.057%\n",
      "Epoch #14: cost = 18.236, err = 84.720%\n",
      "Epoch #15: cost = 19.514, err = 80.167%\n",
      "Epoch #16: cost = 14.624, err = 88.920%\n",
      "Epoch #17: cost = 12.020, err = 84.143%\n",
      "Epoch #18: cost = 13.295, err = 83.793%\n",
      "Epoch #19: cost = 13.647, err = 84.970%\n",
      "Epoch #20: cost = 15.551, err = 84.333%\n",
      "Epoch #21: cost = 14.438, err = 85.417%\n",
      "Epoch #22: cost = 15.938, err = 84.620%\n",
      "Epoch #23: cost = 15.662, err = 89.613%\n",
      "Epoch #24: cost = 13.317, err = 90.210%\n",
      "Epoch #25: cost = 14.283, err = 85.340%\n",
      "Epoch #26: cost = 15.723, err = 86.170%\n",
      "Epoch #27: cost = 16.718, err = 89.207%\n",
      "Epoch #28: cost = 18.572, err = 80.443%\n",
      "Epoch #29: cost = 17.529, err = 83.710%\n",
      "Epoch #30: cost = 14.417, err = 89.843%\n",
      "Epoch #31: cost = 14.868, err = 86.810%\n",
      "Epoch #32: cost = 16.968, err = 79.683%\n",
      "Epoch #33: cost = 17.994, err = 86.367%\n",
      "Epoch #34: cost = 17.346, err = 81.270%\n",
      "Epoch #35: cost = 16.284, err = 83.937%\n",
      "Epoch #36: cost = 16.235, err = 80.417%\n",
      "Epoch #37: cost = 14.320, err = 89.080%\n",
      "Epoch #38: cost = 14.865, err = 88.673%\n",
      "Epoch #39: cost = 15.344, err = 86.293%\n",
      "Epoch #40: cost = 15.724, err = 77.067%\n",
      "Epoch #41: cost = 16.264, err = 86.260%\n",
      "Epoch #42: cost = 16.741, err = 81.933%\n",
      "Epoch #43: cost = 16.567, err = 89.220%\n",
      "Epoch #44: cost = 16.622, err = 81.563%\n",
      "Epoch #45: cost = 16.765, err = 86.147%\n",
      "Epoch #46: cost = 16.902, err = 80.930%\n",
      "Epoch #47: cost = 17.669, err = 89.563%\n",
      "Epoch #48: cost = 18.023, err = 86.457%\n",
      "Epoch #49: cost = 16.848, err = 80.057%\n",
      "Epoch #50: cost = 15.047, err = 90.170%\n",
      "Epoch #51: cost = 14.057, err = 84.773%\n",
      "Epoch #52: cost = 13.235, err = 80.860%\n",
      "Epoch #53: cost = 14.185, err = 79.133%\n",
      "Epoch #54: cost = 13.218, err = 84.820%\n",
      "Epoch #55: cost = 13.715, err = 84.813%\n",
      "Epoch #56: cost = 13.376, err = 84.610%\n",
      "Epoch #57: cost = 14.753, err = 83.807%\n",
      "Epoch #58: cost = 13.986, err = 82.327%\n",
      "Epoch #59: cost = 12.898, err = 79.140%\n",
      "Epoch #60: cost = 11.201, err = 88.887%\n",
      "Epoch #61: cost = 11.175, err = 81.257%\n",
      "Epoch #62: cost = 9.604, err = 77.317%\n",
      "Epoch #63: cost = 9.630, err = 80.483%\n",
      "Epoch #64: cost = 11.517, err = 78.047%\n",
      "Epoch #65: cost = 10.406, err = 84.960%\n",
      "Epoch #66: cost = 11.129, err = 77.607%\n",
      "Epoch #67: cost = 11.599, err = 81.873%\n",
      "Epoch #68: cost = 11.984, err = 81.023%\n",
      "Epoch #69: cost = 13.024, err = 82.687%\n",
      "Epoch #70: cost = 11.744, err = 83.063%\n",
      "Epoch #71: cost = 10.215, err = 80.903%\n",
      "Epoch #72: cost = 9.574, err = 79.023%\n",
      "Epoch #73: cost = 10.575, err = 81.433%\n",
      "Epoch #74: cost = 11.838, err = 76.467%\n",
      "Epoch #75: cost = 8.169, err = 86.523%\n",
      "Epoch #76: cost = 9.088, err = 77.933%\n",
      "Epoch #77: cost = 10.814, err = 79.467%\n",
      "Epoch #78: cost = 10.574, err = 75.263%\n",
      "Epoch #79: cost = 9.719, err = 84.767%\n",
      "Epoch #80: cost = 10.948, err = 76.713%\n",
      "Epoch #81: cost = 11.045, err = 78.283%\n",
      "Epoch #82: cost = 8.230, err = 82.510%\n",
      "Epoch #83: cost = 9.506, err = 78.223%\n",
      "Epoch #84: cost = 11.391, err = 79.707%\n",
      "Epoch #85: cost = 8.231, err = 79.293%\n",
      "Epoch #86: cost = 7.203, err = 74.487%\n",
      "Epoch #87: cost = 7.118, err = 78.947%\n",
      "Epoch #88: cost = 9.451, err = 74.203%\n",
      "Epoch #89: cost = 7.680, err = 84.957%\n",
      "Epoch #90: cost = 9.481, err = 81.733%\n",
      "Epoch #91: cost = 10.735, err = 80.707%\n",
      "Epoch #92: cost = 11.722, err = 82.317%\n",
      "Epoch #93: cost = 12.038, err = 88.677%\n",
      "Epoch #94: cost = 11.392, err = 77.203%\n",
      "Epoch #95: cost = 11.849, err = 76.430%\n",
      "Epoch #96: cost = 8.549, err = 79.627%\n",
      "Epoch #97: cost = 9.947, err = 73.487%\n",
      "Epoch #98: cost = 9.935, err = 81.010%\n",
      "Epoch #99: cost = 10.590, err = 83.353%\n"
     ]
    }
   ],
   "source": [
    "W_2, costs_2, errs_2 = train_softmax(train_X, train_Y, 0.1, 100)"
   ]
  },
  {
   "cell_type": "markdown",
   "metadata": {},
   "source": [
    "Kết quả chạy của mình ở epoch cuối (chỉ số epoch tính từ 0): `Epoch 99, cost 10.076, err 83.273%`"
   ]
  },
  {
   "cell_type": "code",
   "execution_count": 10,
   "metadata": {
    "collapsed": false
   },
   "outputs": [
    {
     "data": {
      "text/plain": [
       "<matplotlib.legend.Legend at 0x7330cc0>"
      ]
     },
     "execution_count": 10,
     "metadata": {},
     "output_type": "execute_result"
    },
    {
     "data": {
      "image/png": "[encoded data removed]",
      "text/plain": [
       "<matplotlib.figure.Figure at 0x6b53748>"
      ]
     },
     "metadata": {},
     "output_type": "display_data"
    }
   ],
   "source": [
    "# Visualize results\n",
    "epochs = np.arange(len(costs_0))\n",
    "plt.plot(epochs, np.log(costs_0), label='learning_rate=0.001') # Use log cost to see clearer\n",
    "plt.plot(epochs, np.log(costs_1), label='learning_rate=0.01')\n",
    "plt.plot(epochs, np.log(costs_2), label='learning_rate=0.1')\n",
    "plt.xlabel('epoch')\n",
    "plt.ylabel('log of cost')\n",
    "plt.legend(loc='best')"
   ]
  },
  {
   "cell_type": "markdown",
   "metadata": {},
   "source": [
    "Bình luận về đồ thị kết quả: TODO\n",
    "- Với learning_rate là 0.1, dễ thấy đường biểu diễn chi phí theo số lần huấn luyện (epoch) là các đoạn gấp khúc, hỗn loạn, nhảy vọt từ chi phí 1.0 lên > 2.5 chỉ sau vài epoch và sau đó lên xuống thất thường với epoch tăng dần. Nhưng nhìn chung, chi phí luôn dao động > 2.0, đôi lúc chạm đến 3.0. Do đó, learning_rate này không khả quan.\n",
    "- Với learning_rate là 0.001 và 0.01, đường chi phí giảm dần theo số lần huấn luyện (epoch), mức độ giảm cũng giảm dần theo độ tăng epoch. Tuy nhiên, nhìn chung, 2 learning_rate này cho kết quả khả quan với chi phí thấp (cost < 1.0). Trong đó, learning_rate = 0.01 cho kết quả tốt hơn cả.\n",
    "- Tóm lại, learning_rate = 0.01 cho kết quả tốt nhất. Điều đó cho thấy, giá trị khả quan của learning_rate nằm ở một đoạn nhất định, không phải là quá lớn hay quá nhỏ."
   ]
  },
  {
   "cell_type": "markdown",
   "metadata": {},
   "source": [
    "**3.** Chọn `W_1` ứng với `learning_rate` tốt nhất ở trên là bộ tham số của hàm dự đoán cuối cùng; đánh giá hàm dự đoán này bằng cách tính độ lỗi trên tập kiểm tra (ngoài ra, bạn cũng cho in ra độ lỗi trên tập huấn luyện)"
   ]
  },
  {
   "cell_type": "code",
   "execution_count": 11,
   "metadata": {
    "collapsed": false
   },
   "outputs": [
    {
     "name": "stdout",
     "output_type": "stream",
     "text": [
      "Training error: 67.357%\n",
      "Test error: 67.760%\n"
     ]
    }
   ],
   "source": [
    "# TODO\n",
    "training_err = errs_1[-1]\n",
    "test_out = compute_softmax_output(W_1, test_X)\n",
    "test_err = sum([int(np.argmax(y_out)) != y[0] for y_out, y in zip(test_out, test_Y)]) * 100.0 / len(test_Y)\n",
    "\n",
    "print 'Training error: %.3f%%' % (training_err)\n",
    "print 'Test error: %.3f%%' % (test_err)"
   ]
  },
  {
   "cell_type": "markdown",
   "metadata": {},
   "source": [
    "Kết quả chạy của mình: `Training err 67.357%, test err 67.760%`"
   ]
  }
 ],
 "metadata": {
  "anaconda-cloud": {},
  "kernelspec": {
   "display_name": "Python [Root]",
   "language": "python",
   "name": "Python [Root]"
  },
  "language_info": {
   "codemirror_mode": {
    "name": "ipython",
    "version": 2
   },
   "file_extension": ".py",
   "mimetype": "text/x-python",
   "name": "python",
   "nbconvert_exporter": "python",
   "pygments_lexer": "ipython2",
   "version": "2.7.12"
  },
  "toc": {
   "colors": {
    "hover_highlight": "#DAA520",
    "running_highlight": "#FF0000",
    "selected_highlight": "#FFD700"
   },
   "moveMenuLeft": true,
   "nav_menu": {
    "height": "151px",
    "width": "251px"
   },
   "navigate_menu": true,
   "number_sections": false,
   "sideBar": true,
   "threshold": 4,
   "toc_cell": false,
   "toc_position": {
    "height": "367px",
    "left": "0px",
    "right": "866.2px",
    "top": "106px",
    "width": "158px"
   },
   "toc_section_display": "block",
   "toc_window_display": true
  }
 },
 "nbformat": 4,
 "nbformat_minor": 0
}
