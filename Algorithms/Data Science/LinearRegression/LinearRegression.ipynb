{
 "cells": [
  {
   "cell_type": "markdown",
   "metadata": {},
   "source": [
    "# BT03: Linear Regression\n",
    "\n",
    "TODO: Võ Phương Hòa - 1412192\n",
    "\n",
    "---"
   ]
  },
  {
   "cell_type": "markdown",
   "metadata": {},
   "source": [
    "## Tổng thể\n",
    "\n",
    "**Cách làm bài**\n",
    "\n",
    "Bạn sẽ làm trực tiếp trên file notebook này; trong file, mình đã để từ `TODO` để cho biết những chỗ mà bạn cần phải làm (trong đó, `TODO` đầu tiên là bạn phải ghi họ tên và MSSV vào phần đầu của file). Trong khi làm bài, thường xuyên `Ctrl + S` để lưu lại bài làm của bạn, tránh mất mát thông tin.\n",
    "\n",
    "Nên nhớ mục tiêu chính ở đây là *học, học một cách chân thật*. Bạn có thể thảo luận ý tưởng với bạn khác cũng như là tham khảo các tài liệu, nhưng *code và bài làm phải là của bạn, dựa trên sự hiểu của bạn*. Nếu vi phạm thì sẽ bị 0 điểm cho toàn bộ môn học.\n",
    "\n",
    "**Cách nộp bài**\n",
    "\n",
    "Trước khi nộp bài, bạn chọn `Kernel` -> `Restart & Run All` (restart python và chạy tất cả các cell), rồi kiểm tra xem có bị lỗi gì không.\n",
    "\n",
    "Sau đó, trong thư mục `MSSV` (vd, nếu bạn có MSSV là 1234567 thì bạn đặt tên thư mục là `1234567`) bạn đặt file `BT03-LinearRegression.ipynb` (không cần nộp file dữ liệu), rồi nén thư mục `MSSV` này lại và nộp ở link trên moodle.\n",
    "\n",
    "**Nội dung bài tập**\n",
    "\n",
    "Trong bài này, bạn sẽ cài đặt mô hình Linear Regression để dự đoán giá rượu (ví dụ ở trên lớp). \n"
   ]
  },
  {
   "cell_type": "markdown",
   "metadata": {},
   "source": [
    "## Import"
   ]
  },
  {
   "cell_type": "code",
   "execution_count": 1,
   "metadata": {
    "collapsed": true
   },
   "outputs": [],
   "source": [
    "%matplotlib inline\n",
    "import pandas as pd\n",
    "import numpy as np\n",
    "import matplotlib.pyplot as plt\n",
    "# You can also import other things ..."
   ]
  },
  {
   "cell_type": "markdown",
   "metadata": {},
   "source": [
    "## Hàm huấn luyện Linear Regression"
   ]
  },
  {
   "cell_type": "code",
   "execution_count": 2,
   "metadata": {
    "collapsed": true
   },
   "outputs": [],
   "source": [
    "def train_linear_regression(X, Y):\n",
    "    '''\n",
    "    Trains Linear Regression on the dataset (X, Y).\n",
    "    \n",
    "    Parameters\n",
    "    ----------\n",
    "    X : numpy array, shape (N, d + 1)\n",
    "        The matrix of input vectors (each row corresponds to an input vector); \n",
    "        the first column of this matrix is all ones (corresponding to x_0).\n",
    "    Y : numpy array, shape (N, 1)\n",
    "        The vector of outputs.\n",
    "    \n",
    "    Returns\n",
    "    -------\n",
    "    w : numpy array, shape (d + 1, 1)\n",
    "        The vector of parameters of Linear Regression after training.\n",
    "    '''\n",
    "    # TODO\n",
    "    w = np.linalg.pinv(X.T.dot(X)).dot(X.T).dot(Y)\n",
    "    \n",
    "    return w"
   ]
  },
  {
   "cell_type": "markdown",
   "metadata": {},
   "source": [
    "## Hàm tính độ đo $R^2$"
   ]
  },
  {
   "cell_type": "code",
   "execution_count": 3,
   "metadata": {
    "collapsed": false
   },
   "outputs": [],
   "source": [
    "def compute_squared_R(w, baseline_prediction, X, Y):\n",
    "    '''\n",
    "    Computes R^2 of the hypothesis corresponding to w on the dataset (X, Y).\n",
    "    \n",
    "    Parameters\n",
    "    ----------\n",
    "    w : numpy array, shape (d + 1, 1)\n",
    "        The vector of parameters of Linear Regression.\n",
    "    baseline_prediction : float\n",
    "        The prediction of baseline model.\n",
    "    X : numpy array, shape (N, d + 1)\n",
    "        The matrix of input vectors (each row corresponds to an input vector); \n",
    "        the first column of this matrix is all ones (corresponding to x_0).\n",
    "    Y : numpy array, shape (N, 1)\n",
    "        The vector of outputs.\n",
    "    \n",
    "    Returns\n",
    "    -------\n",
    "    squared_R : float\n",
    "        R^2 of the hypothesis corresponding to w on the dataset (X, Y).\n",
    "    '''\n",
    "    # TODO\n",
    "    error_learning_model = 0.0\n",
    "    error_baseline = 0.0\n",
    "    for i in range(len(X)):\n",
    "        error_learning_model += (w.T.dot(X[i]) - Y[i]) ** 2\n",
    "        error_baseline += (baseline_prediction - Y[i]) ** 2\n",
    "      \n",
    "    # mse_learning_model = error_learning_model / len(X)\n",
    "    # mse_baseline = error_baseline / len(X)\n",
    "    # squared_R = 1 - mse_learning_model / mse_baseline\n",
    "    \n",
    "    # This is enough!\n",
    "    # Because, error_learning_model / error_baseline = mse_learning_model / mse_baseline\n",
    "    squared_R = 1 - error_learning_model / error_baseline\n",
    "    \n",
    "    return squared_R"
   ]
  },
  {
   "cell_type": "markdown",
   "metadata": {},
   "source": [
    "## Chạy"
   ]
  },
  {
   "cell_type": "markdown",
   "metadata": {},
   "source": [
    "**1.** Đọc dữ liệu"
   ]
  },
  {
   "cell_type": "markdown",
   "metadata": {},
   "source": [
    "**1.1.** Đọc tập huấn luyện"
   ]
  },
  {
   "cell_type": "code",
   "execution_count": 4,
   "metadata": {
    "collapsed": false
   },
   "outputs": [
    {
     "data": {
      "text/html": [
       "<div>\n",
       "<table border=\"1\" class=\"dataframe\">\n",
       "  <thead>\n",
       "    <tr style=\"text-align: right;\">\n",
       "      <th></th>\n",
       "      <th>Price</th>\n",
       "      <th>WinterRain</th>\n",
       "      <th>AGST</th>\n",
       "      <th>HarvestRain</th>\n",
       "      <th>Age</th>\n",
       "      <th>FrancePop</th>\n",
       "    </tr>\n",
       "    <tr>\n",
       "      <th>Year</th>\n",
       "      <th></th>\n",
       "      <th></th>\n",
       "      <th></th>\n",
       "      <th></th>\n",
       "      <th></th>\n",
       "      <th></th>\n",
       "    </tr>\n",
       "  </thead>\n",
       "  <tbody>\n",
       "    <tr>\n",
       "      <th>1952-01-01</th>\n",
       "      <td>7.4950</td>\n",
       "      <td>600</td>\n",
       "      <td>17.1167</td>\n",
       "      <td>160</td>\n",
       "      <td>31</td>\n",
       "      <td>43183.569</td>\n",
       "    </tr>\n",
       "    <tr>\n",
       "      <th>1953-01-01</th>\n",
       "      <td>8.0393</td>\n",
       "      <td>690</td>\n",
       "      <td>16.7333</td>\n",
       "      <td>80</td>\n",
       "      <td>30</td>\n",
       "      <td>43495.030</td>\n",
       "    </tr>\n",
       "    <tr>\n",
       "      <th>1955-01-01</th>\n",
       "      <td>7.6858</td>\n",
       "      <td>502</td>\n",
       "      <td>17.1500</td>\n",
       "      <td>130</td>\n",
       "      <td>28</td>\n",
       "      <td>44217.857</td>\n",
       "    </tr>\n",
       "    <tr>\n",
       "      <th>1957-01-01</th>\n",
       "      <td>6.9845</td>\n",
       "      <td>420</td>\n",
       "      <td>16.1333</td>\n",
       "      <td>110</td>\n",
       "      <td>26</td>\n",
       "      <td>45152.252</td>\n",
       "    </tr>\n",
       "    <tr>\n",
       "      <th>1958-01-01</th>\n",
       "      <td>6.7772</td>\n",
       "      <td>582</td>\n",
       "      <td>16.4167</td>\n",
       "      <td>187</td>\n",
       "      <td>25</td>\n",
       "      <td>45653.805</td>\n",
       "    </tr>\n",
       "  </tbody>\n",
       "</table>\n",
       "</div>"
      ],
      "text/plain": [
       "             Price  WinterRain     AGST  HarvestRain  Age  FrancePop\n",
       "Year                                                                \n",
       "1952-01-01  7.4950         600  17.1167          160   31  43183.569\n",
       "1953-01-01  8.0393         690  16.7333           80   30  43495.030\n",
       "1955-01-01  7.6858         502  17.1500          130   28  44217.857\n",
       "1957-01-01  6.9845         420  16.1333          110   26  45152.252\n",
       "1958-01-01  6.7772         582  16.4167          187   25  45653.805"
      ]
     },
     "execution_count": 4,
     "metadata": {},
     "output_type": "execute_result"
    }
   ],
   "source": [
    "wine = pd.DataFrame.from_csv('wine.csv')\n",
    "wine.head()"
   ]
  },
  {
   "cell_type": "code",
   "execution_count": 5,
   "metadata": {
    "collapsed": false
   },
   "outputs": [
    {
     "data": {
      "text/plain": [
       "(25, 6)"
      ]
     },
     "execution_count": 5,
     "metadata": {},
     "output_type": "execute_result"
    }
   ],
   "source": [
    "wine.shape"
   ]
  },
  {
   "cell_type": "code",
   "execution_count": 6,
   "metadata": {
    "collapsed": false
   },
   "outputs": [
    {
     "data": {
      "text/plain": [
       "Price          float64\n",
       "WinterRain       int64\n",
       "AGST           float64\n",
       "HarvestRain      int64\n",
       "Age              int64\n",
       "FrancePop      float64\n",
       "dtype: object"
      ]
     },
     "execution_count": 6,
     "metadata": {},
     "output_type": "execute_result"
    }
   ],
   "source": [
    "wine.dtypes"
   ]
  },
  {
   "cell_type": "code",
   "execution_count": 7,
   "metadata": {
    "collapsed": false
   },
   "outputs": [
    {
     "data": {
      "text/html": [
       "<div>\n",
       "<table border=\"1\" class=\"dataframe\">\n",
       "  <thead>\n",
       "    <tr style=\"text-align: right;\">\n",
       "      <th></th>\n",
       "      <th>Price</th>\n",
       "      <th>WinterRain</th>\n",
       "      <th>AGST</th>\n",
       "      <th>HarvestRain</th>\n",
       "      <th>Age</th>\n",
       "      <th>FrancePop</th>\n",
       "    </tr>\n",
       "  </thead>\n",
       "  <tbody>\n",
       "    <tr>\n",
       "      <th>count</th>\n",
       "      <td>25.000000</td>\n",
       "      <td>25.000000</td>\n",
       "      <td>25.000000</td>\n",
       "      <td>25.000000</td>\n",
       "      <td>25.000000</td>\n",
       "      <td>25.000000</td>\n",
       "    </tr>\n",
       "    <tr>\n",
       "      <th>mean</th>\n",
       "      <td>7.067224</td>\n",
       "      <td>605.280000</td>\n",
       "      <td>16.509336</td>\n",
       "      <td>148.560000</td>\n",
       "      <td>17.200000</td>\n",
       "      <td>49694.436760</td>\n",
       "    </tr>\n",
       "    <tr>\n",
       "      <th>std</th>\n",
       "      <td>0.650341</td>\n",
       "      <td>132.277965</td>\n",
       "      <td>0.675397</td>\n",
       "      <td>74.419464</td>\n",
       "      <td>7.691987</td>\n",
       "      <td>3665.270243</td>\n",
       "    </tr>\n",
       "    <tr>\n",
       "      <th>min</th>\n",
       "      <td>6.204900</td>\n",
       "      <td>376.000000</td>\n",
       "      <td>14.983300</td>\n",
       "      <td>38.000000</td>\n",
       "      <td>5.000000</td>\n",
       "      <td>43183.569000</td>\n",
       "    </tr>\n",
       "    <tr>\n",
       "      <th>25%</th>\n",
       "      <td>6.518800</td>\n",
       "      <td>536.000000</td>\n",
       "      <td>16.200000</td>\n",
       "      <td>89.000000</td>\n",
       "      <td>11.000000</td>\n",
       "      <td>46583.995000</td>\n",
       "    </tr>\n",
       "    <tr>\n",
       "      <th>50%</th>\n",
       "      <td>7.121100</td>\n",
       "      <td>600.000000</td>\n",
       "      <td>16.533300</td>\n",
       "      <td>130.000000</td>\n",
       "      <td>17.000000</td>\n",
       "      <td>50254.966000</td>\n",
       "    </tr>\n",
       "    <tr>\n",
       "      <th>75%</th>\n",
       "      <td>7.495000</td>\n",
       "      <td>697.000000</td>\n",
       "      <td>17.066700</td>\n",
       "      <td>187.000000</td>\n",
       "      <td>23.000000</td>\n",
       "      <td>52894.183000</td>\n",
       "    </tr>\n",
       "    <tr>\n",
       "      <th>max</th>\n",
       "      <td>8.493700</td>\n",
       "      <td>830.000000</td>\n",
       "      <td>17.650000</td>\n",
       "      <td>292.000000</td>\n",
       "      <td>31.000000</td>\n",
       "      <td>54602.193000</td>\n",
       "    </tr>\n",
       "  </tbody>\n",
       "</table>\n",
       "</div>"
      ],
      "text/plain": [
       "           Price  WinterRain       AGST  HarvestRain        Age     FrancePop\n",
       "count  25.000000   25.000000  25.000000    25.000000  25.000000     25.000000\n",
       "mean    7.067224  605.280000  16.509336   148.560000  17.200000  49694.436760\n",
       "std     0.650341  132.277965   0.675397    74.419464   7.691987   3665.270243\n",
       "min     6.204900  376.000000  14.983300    38.000000   5.000000  43183.569000\n",
       "25%     6.518800  536.000000  16.200000    89.000000  11.000000  46583.995000\n",
       "50%     7.121100  600.000000  16.533300   130.000000  17.000000  50254.966000\n",
       "75%     7.495000  697.000000  17.066700   187.000000  23.000000  52894.183000\n",
       "max     8.493700  830.000000  17.650000   292.000000  31.000000  54602.193000"
      ]
     },
     "execution_count": 7,
     "metadata": {},
     "output_type": "execute_result"
    }
   ],
   "source": [
    "wine.describe()"
   ]
  },
  {
   "cell_type": "markdown",
   "metadata": {},
   "source": [
    "**1.2.** Đọc tập kiểm tra\n",
    "\n",
    "Để đánh giá chất lượng của hàm dự đoán học được, ta sẽ đo độ lỗi hoặc độ chính xác của hàm dự đoán này trên một tập dữ liệu ngoài tập huấn luyện, gọi là tập kiểm tra (test set). *Lưu ý: tập kiểm tra này không được dính dánh gì đến quá trình học.*"
   ]
  },
  {
   "cell_type": "code",
   "execution_count": 8,
   "metadata": {
    "collapsed": false
   },
   "outputs": [
    {
     "data": {
      "text/html": [
       "<div>\n",
       "<table border=\"1\" class=\"dataframe\">\n",
       "  <thead>\n",
       "    <tr style=\"text-align: right;\">\n",
       "      <th></th>\n",
       "      <th>Price</th>\n",
       "      <th>WinterRain</th>\n",
       "      <th>AGST</th>\n",
       "      <th>HarvestRain</th>\n",
       "      <th>Age</th>\n",
       "      <th>FrancePop</th>\n",
       "    </tr>\n",
       "    <tr>\n",
       "      <th>Year</th>\n",
       "      <th></th>\n",
       "      <th></th>\n",
       "      <th></th>\n",
       "      <th></th>\n",
       "      <th></th>\n",
       "      <th></th>\n",
       "    </tr>\n",
       "  </thead>\n",
       "  <tbody>\n",
       "    <tr>\n",
       "      <th>1979-01-01</th>\n",
       "      <td>6.9541</td>\n",
       "      <td>717</td>\n",
       "      <td>16.1667</td>\n",
       "      <td>122</td>\n",
       "      <td>4</td>\n",
       "      <td>54835.832</td>\n",
       "    </tr>\n",
       "    <tr>\n",
       "      <th>1980-01-01</th>\n",
       "      <td>6.4979</td>\n",
       "      <td>578</td>\n",
       "      <td>16.0000</td>\n",
       "      <td>74</td>\n",
       "      <td>3</td>\n",
       "      <td>55110.236</td>\n",
       "    </tr>\n",
       "  </tbody>\n",
       "</table>\n",
       "</div>"
      ],
      "text/plain": [
       "             Price  WinterRain     AGST  HarvestRain  Age  FrancePop\n",
       "Year                                                                \n",
       "1979-01-01  6.9541         717  16.1667          122    4  54835.832\n",
       "1980-01-01  6.4979         578  16.0000           74    3  55110.236"
      ]
     },
     "execution_count": 8,
     "metadata": {},
     "output_type": "execute_result"
    }
   ],
   "source": [
    "wine_test = pd.DataFrame.from_csv('wine_test.csv')\n",
    "wine_test"
   ]
  },
  {
   "cell_type": "markdown",
   "metadata": {},
   "source": [
    "**2.** Trực quan hóa Linear Regression với trường hợp input chỉ có một đặc trưng là AGST (Average Growing Season Temperature)"
   ]
  },
  {
   "cell_type": "code",
   "execution_count": 9,
   "metadata": {
    "collapsed": false
   },
   "outputs": [
    {
     "name": "stdout",
     "output_type": "stream",
     "text": [
      "X.shape = (25L, 2L)\n",
      "Y.shape = (25L, 1L)\n"
     ]
    }
   ],
   "source": [
    "# Construct X and Y\n",
    "X = wine['AGST'].values.astype(np.float64).reshape(len(wine), 1)\n",
    "X = np.hstack((np.ones((len(X), 1)), X))\n",
    "Y = wine['Price'].values.astype(np.float64).reshape(len(wine), 1)\n",
    "print 'X.shape =', X.shape\n",
    "print 'Y.shape =', Y.shape"
   ]
  },
  {
   "cell_type": "code",
   "execution_count": 10,
   "metadata": {
    "collapsed": false
   },
   "outputs": [
    {
     "data": {
      "text/plain": [
       "(14.5, 18.0)"
      ]
     },
     "execution_count": 10,
     "metadata": {},
     "output_type": "execute_result"
    },
    {
     "data": {
      "image/png": "[encoded data removed]",
      "text/plain": [
       "<matplotlib.figure.Figure at 0x8565240>"
      ]
     },
     "metadata": {},
     "output_type": "display_data"
    }
   ],
   "source": [
    "# Train Linear Regression\n",
    "w = train_linear_regression(X, Y)\n",
    "\n",
    "# Visualize result\n",
    "wine.plot(x='AGST', y='Price', kind='scatter')\n",
    "x_min, x_max = plt.xlim()\n",
    "xs = np.array([x_min, x_max]).reshape(-1, 1)\n",
    "ones_added_xs = np.hstack((np.ones((len(xs), 1)), xs))\n",
    "predicted_ys = ones_added_xs.dot(w)\n",
    "plt.plot(xs, predicted_ys)\n",
    "plt.xlim(x_min, x_max)"
   ]
  },
  {
   "cell_type": "markdown",
   "metadata": {},
   "source": [
    "Mình có đính kèm kết quả chạy của mình trong file `result1.png`."
   ]
  },
  {
   "cell_type": "markdown",
   "metadata": {},
   "source": [
    "**3.** Huấn luyện và kiểm tra Linear Regression với input:\n",
    "- Có một đặc trưng là AGST.\n",
    "- Có hai đặc trưng là AGST, Harvest Rain.\n",
    "- Có ba đặc trưng là AGST, Harvest Rain, Age.\n",
    "- Có bốn đặc trưng là AGST, Harvest Rain, Age, Winter Rain.\n",
    "- Có năm đặc trưng là AGST, Harvest Rain, Age, Winter Rain, Population."
   ]
  },
  {
   "cell_type": "code",
   "execution_count": 11,
   "metadata": {
    "collapsed": false
   },
   "outputs": [
    {
     "name": "stdout",
     "output_type": "stream",
     "text": [
      "                                            USED FEATURES TRAIN R^2 TEST R^2\n",
      "                                                 ['AGST']     0.435    0.788\n",
      "                                  ['AGST', 'HarvestRain']     0.707   -0.082\n",
      "                           ['AGST', 'HarvestRain', 'Age']     0.790    0.534\n",
      "             ['AGST', 'HarvestRain', 'Age', 'WinterRain']     0.829    0.794\n",
      "['AGST', 'HarvestRain', 'Age', 'WinterRain', 'FrancePop']     0.829    0.757\n"
     ]
    }
   ],
   "source": [
    "# Compute predicted value of baseline model\n",
    "baseline_prediction = Y.mean()\n",
    "\n",
    "# Construct test_Y\n",
    "test_Y = wine_test['Price'].values.astype(np.float64).reshape(-1, 1)\n",
    "\n",
    "# Train and test Linear Regression with increasing feature set\n",
    "features = ['AGST', 'HarvestRain', 'Age', 'WinterRain', 'FrancePop']\n",
    "print \"%57s %9s %8s\" %('USED FEATURES', 'TRAIN R^2', 'TEST R^2')\n",
    "for i in range(len(features)):\n",
    "    # Construct X and test_X\n",
    "    used_features = features[0:i+1]\n",
    "    X = wine[used_features].values.astype(np.float64).reshape(len(wine), -1)\n",
    "    X = np.hstack((np.ones((len(X), 1)), X))\n",
    "    test_X = wine_test[used_features].values.astype(np.float64).reshape(len(wine_test), -1)\n",
    "    test_X = np.hstack((np.ones((len(test_X), 1)), test_X))\n",
    "    \n",
    "    # Train Linear Regression\n",
    "    w = train_linear_regression(X, Y)\n",
    "    train_squared_R = compute_squared_R(w, baseline_prediction, X, Y)\n",
    "       \n",
    "    # Test Linear Regression\n",
    "    test_squared_R = compute_squared_R(w, baseline_prediction, test_X, test_Y)\n",
    "    \n",
    "    # Print results\n",
    "    print \"%57s %9.3f %8.3f\" %(used_features, train_squared_R, test_squared_R)"
   ]
  },
  {
   "cell_type": "markdown",
   "metadata": {},
   "source": [
    "Mình có đính kèm kết quả chạy của mình trong file `result2.png`."
   ]
  },
  {
   "cell_type": "markdown",
   "metadata": {},
   "source": [
    "Bình luận về kết quả:\n",
    "\n",
    "TODO\n",
    "1. Trên bộ huấn luyện, tỉ lệ dự đoán chính xác tăng dần theo lượng thông tin (tăng dần thuộc tính), trừ trường hợp cuối khi bổ sung thêm thuộc tính 'FrancePop' thì kết quả không đổi do thuộc tính này không ảnh hưởng đến chất lượng dự đoán.\n",
    "2. Trên bộ test, kết quả nhìn chung chấp nhận được (3/5 kết quả cho tỉ lệ >75%, 1/5 kết quả cho tỉ lệ >50%), trong đó kết quả tốt nhất thu được khi xét trên 4 thuộc tính 'AGST', 'HarvestRain', 'Age', 'WinterRain'. Một trường hợp ngoại lệ, đúng hơn là không khả quan khi cho kết quả là số âm.\n",
    "3. Khi so sánh kết quả trên bộ test với bộ huấn luyện, về tổng quan thì khi thông tin được xét càng nhiều (nhiều thuộc tính hơn), thì độ chênh lệch giữa kết quả thu được từ bộ test với bộ huấn luyện tương đối thấp."
   ]
  }
 ],
 "metadata": {
  "kernelspec": {
   "display_name": "Python [Root]",
   "language": "python",
   "name": "Python [Root]"
  },
  "language_info": {
   "codemirror_mode": {
    "name": "ipython",
    "version": 2
   },
   "file_extension": ".py",
   "mimetype": "text/x-python",
   "name": "python",
   "nbconvert_exporter": "python",
   "pygments_lexer": "ipython2",
   "version": "2.7.12"
  },
  "toc": {
   "colors": {
    "hover_highlight": "#DAA520",
    "running_highlight": "#FF0000",
    "selected_highlight": "#FFD700"
   },
   "moveMenuLeft": true,
   "nav_menu": {
    "height": "119px",
    "width": "251px"
   },
   "navigate_menu": true,
   "number_sections": false,
   "sideBar": true,
   "threshold": 4,
   "toc_cell": false,
   "toc_position": {
    "height": "367px",
    "left": "0px",
    "right": "892.2px",
    "top": "106px",
    "width": "132px"
   },
   "toc_section_display": "block",
   "toc_window_display": true
  }
 },
 "nbformat": 4,
 "nbformat_minor": 0
}
