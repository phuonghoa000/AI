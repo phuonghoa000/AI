{
 "cells": [
  {
   "cell_type": "markdown",
   "metadata": {},
   "source": [
    "# BTTH03: Ẩn dữ liệu trên văn bản bằng phương pháp chèn khoảng trắng\n",
    "\n",
    "---\n",
    "\n",
    "Võ Phương Hòa - 1412192"
   ]
  },
  {
   "cell_type": "markdown",
   "metadata": {},
   "source": [
    "## 1. Cách làm bài và nộp bài\n",
    "\n",
    "**Làm bài**\n",
    "\n",
    "Bạn sẽ làm trực tiếp trên file notebook này; trong file, mình đã để từ `TODO` để cho biết những chỗ mà bạn cần phải làm (trong đó, `TODO` đầu tiên là bạn phải ghi họ tên và MSSV vào phần đầu của file). Trong khi làm bài, thường xuyên `Ctrl + S` để lưu lại bài làm của bạn, tránh mất mát thông tin.\n",
    "\n",
    "*Mục tiêu chính ở đây là học, học một cách chân thật; nếu bạn được 5 điểm nhưng bạn làm bài một cách chân thật thì vẫn tốt hơn nhiều so với 10 điểm mà không chân thật. Bạn có thể thảo luận với các bạn khác; nhưng bài làm phải là của chính bạn, dựa trên sự hiểu của chính bạn, lời văn là của chính bạn, code là của chính bạn. Bạn không nên đọc bài làm của các bạn năm trước. Nếu bị phát hiện gian lận thì bạn sẽ bị 0 điểm cho toàn bộ phần thực hành.*\n",
    "\n",
    "**Nộp bài**\n",
    "\n",
    "Khi chấm bài, đầu tiên mình sẽ chọn `Kernel` - `Restart & Run All` để restart và chạy tất cả các cell trong notebook của bạn; do đó, trước khi nộp bài, bạn nên chạy thử `Kernel` - `Restart & Run All` để đảm bảo mọi chuyện diễn ra đúng như mong đợi.\n",
    "\n",
    "Sau đó, trong thư mục `MSSV` (vd, nếu bạn có MSSV là 1234567 thì bạn đặt tên thư mục là `1234567`) bạn đặt: file `Ex03-DataHiding-Text.ipynb`, và các file dữ liệu mà mình đính kèm (`cover.txt`, `msg1.txt`, `msg2.txt`); rồi nén thư mục `MSSV` này lại và nộp ở link trên moodle."
   ]
  },
  {
   "cell_type": "markdown",
   "metadata": {},
   "source": [
    "## 2. Import"
   ]
  },
  {
   "cell_type": "code",
   "execution_count": 1,
   "metadata": {
    "collapsed": true
   },
   "outputs": [],
   "source": [
    "import bitarray"
   ]
  },
  {
   "cell_type": "markdown",
   "metadata": {},
   "source": [
    "## 3. Hàm nhúng"
   ]
  },
  {
   "cell_type": "code",
   "execution_count": 2,
   "metadata": {},
   "outputs": [],
   "source": [
    "def embed_space(cover_text_file, msg_file, stego_text_file):\n",
    "    \"\"\"\n",
    "    Embeds a message into a cover text using the space insertion method.\n",
    "    \n",
    "    Parameters\n",
    "    ----------\n",
    "    cover_text_file : string\n",
    "        The name of the cover text file.\n",
    "    msg_file : string\n",
    "        The name of the message file.\n",
    "    stego_text_file : string\n",
    "        The name of the stego text file.\n",
    "    \"\"\"\n",
    "    # TODO    \n",
    "    # read cover text file\n",
    "    f = open(cover_text_file, 'r')\n",
    "    cover_text = f.read()\n",
    "    f.close()\n",
    "    \n",
    "    # read msg file\n",
    "    f = open(msg_file, 'r')\n",
    "    msg = f.read()\n",
    "    f.close()\n",
    "    \n",
    "    # convert msg to msg bits\n",
    "    msg_bits = bitarray.bitarray()\n",
    "    msg_bits.frombytes(msg)\n",
    "    \n",
    "    \n",
    "    # check if there are enough spaces to embed\n",
    "    num_msg_bits = len(msg_bits)\n",
    "    num_spaces = cover_text.count(' ')\n",
    "    if num_spaces <= num_msg_bits:\n",
    "        return False\n",
    "\n",
    "    # add '100...' (chuoi bits) to msg bits\n",
    "    msg_bits.extend('1' + '0' * (num_spaces - num_msg_bits - 1))\n",
    "    \n",
    "    # embed msg bits into cover text\n",
    "    idx_cover = 0\n",
    "    idx_msg = 0\n",
    "    stego = ''\n",
    "    while idx_cover < len(cover_text):\n",
    "        stego += cover_text[idx_cover]\n",
    "        if cover_text[idx_cover] == ' ':\n",
    "            stego += ' ' * msg_bits[idx_msg]\n",
    "            idx_msg += 1\n",
    "        idx_cover += 1\n",
    "        \n",
    "    # write to stego text file\n",
    "    f = open(stego_text_file, 'w')\n",
    "    f.write(stego)\n",
    "    f.close()\n",
    "    \n",
    "    return True"
   ]
  },
  {
   "cell_type": "markdown",
   "metadata": {},
   "source": [
    "## 4. Hàm rút trích"
   ]
  },
  {
   "cell_type": "code",
   "execution_count": 3,
   "metadata": {
    "collapsed": true
   },
   "outputs": [],
   "source": [
    "def extract_space(stego_text_file, extracted_msg_file):\n",
    "    \"\"\"\n",
    "    Extracts the message from a stego text using the space insertion method.\n",
    "    \n",
    "    Parameters\n",
    "    ----------\n",
    "    stego_text_file : string\n",
    "        The name of the stego text file.\n",
    "    extracted_msg_file : string\n",
    "        The name of the extracted message file.\n",
    "    \"\"\"\n",
    "    # TODO\n",
    "    # read stego file\n",
    "    f = open(stego_text_file, 'r')\n",
    "    stego_text = f.read()\n",
    "    f.close()\n",
    "    \n",
    "    # extracting spaces into bits (1 and 0)\n",
    "    index_stego = 0\n",
    "    extracted_msg = []\n",
    "    stego_text += '.'\n",
    "    while index_stego < len(stego_text):\n",
    "        if stego_text[index_stego] == ' ':\n",
    "            if stego_text[index_stego + 1] == ' ':\n",
    "                extracted_msg.append(1)\n",
    "                index_stego += 1\n",
    "            else:\n",
    "                extracted_msg.append(0)\n",
    "        index_stego += 1\n",
    "           \n",
    "    # remove the last bit from extracted msg until found bit 1 \n",
    "    index_extracted = len(extracted_msg) - 1\n",
    "    while index_extracted >= 0:\n",
    "        if extracted_msg[index_extracted] == 1:\n",
    "            extracted_msg.pop()\n",
    "            break\n",
    "        else:\n",
    "            extracted_msg.pop()\n",
    "        index_extracted -= 1\n",
    "    \n",
    "    # convert extracted msg bit\n",
    "    extracted_msg_bit = bitarray.bitarray(extracted_msg)\n",
    "    extracted_msg = extracted_msg_bit.tobytes()\n",
    "    \n",
    "    # write to extracted msg file\n",
    "    f = open(extracted_msg_file, 'w')\n",
    "    f.write(extracted_msg)\n",
    "    f.close()"
   ]
  },
  {
   "cell_type": "markdown",
   "metadata": {},
   "source": [
    "## 5. Chạy"
   ]
  },
  {
   "cell_type": "markdown",
   "metadata": {},
   "source": [
    "Đầu tiên, bạn sẽ gọi hàm nhúng và hàm rút trích ở trên với file cover `cover.txt` và file message `msg1.txt`. Để minh chứng hàm nhúng và hàm rút trích đã được cài đặt đúng, bạn cũng cần mở file message ban đầu và file message được rút trích, và in nội dung của hai file này ra."
   ]
  },
  {
   "cell_type": "code",
   "execution_count": 4,
   "metadata": {},
   "outputs": [
    {
     "name": "stdout",
     "output_type": "stream",
     "text": [
      "Do this exercise slowly.\n",
      "-----------\n",
      "Do this exercise slowly.\n"
     ]
    }
   ],
   "source": [
    "# TODO\n",
    "in1 = 'cover.txt'\n",
    "in2 = 'msg1.txt'\n",
    "out1 = 'stego1.txt'\n",
    "check = 0\n",
    "\n",
    "check = embed_space(in1, in2, out1)\n",
    "if check == 1:\n",
    "    out2 = 'extract1.txt'\n",
    "    extract_space(out1, out2)\n",
    "\n",
    "    f = open(in2, 'r')\n",
    "    msg_text = f.read()\n",
    "    f.close()\n",
    "\n",
    "    f = open(out2, 'r')\n",
    "    extract_text = f.read()\n",
    "    f.close()\n",
    "\n",
    "    print msg_text\n",
    "    print '-----------'\n",
    "    print extract_text\n",
    "else:\n",
    "    print 'Rất tiếc, không thể ẩn dữ liệu!'"
   ]
  },
  {
   "cell_type": "markdown",
   "metadata": {},
   "source": [
    "Kế đến, bạn làm tương tự với file `cover.txt` và `msg2.txt`."
   ]
  },
  {
   "cell_type": "code",
   "execution_count": 5,
   "metadata": {},
   "outputs": [
    {
     "name": "stdout",
     "output_type": "stream",
     "text": [
      "Rất tiếc, không thể ẩn dữ liệu!\n"
     ]
    }
   ],
   "source": [
    "# TODO\n",
    "in1 = 'cover.txt'\n",
    "in2 = 'msg2.txt'\n",
    "out1 = 'stego2.txt'\n",
    "check = 0\n",
    "\n",
    "check = embed_space(in1, in2, out1)\n",
    "if check == 1:\n",
    "    out2 = 'extract2.txt'\n",
    "    extract_space(out1, out2)\n",
    "\n",
    "    f = open(in2, 'r')\n",
    "    msg_text = f.read()\n",
    "    f.close()\n",
    "\n",
    "    f = open(out2, 'r')\n",
    "    extract_text = f.read()\n",
    "    f.close()\n",
    "\n",
    "    print msg_text\n",
    "    print '-----------'\n",
    "    print extract_text\n",
    "else:\n",
    "    print 'Rất tiếc, không thể ẩn dữ liệu!'"
   ]
  },
  {
   "cell_type": "markdown",
   "metadata": {},
   "source": [
    "---\n",
    "\n",
    "Enjoy coding :-)"
   ]
  }
 ],
 "metadata": {
  "anaconda-cloud": {},
  "kernelspec": {
   "display_name": "Python 2",
   "language": "python",
   "name": "python2"
  },
  "language_info": {
   "codemirror_mode": {
    "name": "ipython",
    "version": 2
   },
   "file_extension": ".py",
   "mimetype": "text/x-python",
   "name": "python",
   "nbconvert_exporter": "python",
   "pygments_lexer": "ipython2",
   "version": "2.7.14"
  }
 },
 "nbformat": 4,
 "nbformat_minor": 1
}
