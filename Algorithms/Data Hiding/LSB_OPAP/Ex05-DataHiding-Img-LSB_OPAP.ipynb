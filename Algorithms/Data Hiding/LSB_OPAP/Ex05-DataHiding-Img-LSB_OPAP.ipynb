{
 "cells": [
  {
   "cell_type": "markdown",
   "metadata": {},
   "source": [
    "# BTTH05: Ẩn dữ liệu trên ảnh bằng phương pháp LSB-OPAP\n",
    "\n",
    "TODO: Võ Phương Hòa - 1412192\n",
    "\n",
    "---"
   ]
  },
  {
   "cell_type": "markdown",
   "metadata": {},
   "source": [
    "## 1. Cách làm bài và nộp bài\n",
    "\n",
    "**Làm bài**\n",
    "\n",
    "Bạn sẽ làm trực tiếp trên file notebook này; trong file, mình đã để từ `TODO` để cho biết những chỗ mà bạn cần phải làm (trong đó, `TODO` đầu tiên là bạn phải ghi họ tên và MSSV vào phần đầu của file).\n",
    "\n",
    "*Mục tiêu chính ở đây là học, học một cách chân thật; nếu bạn được 5 điểm nhưng bạn làm bài một cách chân thật thì vẫn tốt hơn nhiều so với 10 điểm mà không chân thật. Bạn có thể thảo luận với các bạn khác; nhưng bài làm phải là của chính bạn, dựa trên sự hiểu của chính bạn, lời văn là của chính bạn, code là của chính bạn. Bạn không nên đọc bài làm của các bạn năm trước. Nếu bị phát hiện gian lận thì bạn sẽ bị 0 điểm cho toàn bộ phần thực hành.*\n",
    "\n",
    "**Nộp bài**\n",
    "\n",
    "Khi chấm bài, đầu tiên mình sẽ chọn `Kernel` - `Restart & Run All` để restart và chạy tất cả các cell trong notebook của bạn; do đó, trước khi nộp bài, bạn nên chạy thử `Kernel` - `Restart & Run All` để đảm bảo mọi chuyện diễn ra đúng như mong đợi.\n",
    "\n",
    "Sau đó, trong thư mục `MSSV` (vd, nếu bạn có MSSV là 1234567 thì bạn đặt tên thư mục là `1234567`) bạn đặt: file `Ex05-DataHiding-Img-LSB_OPAP.ipynb`, và các file dữ liệu mà mình đính kèm (`cover.bmp`, `msg.txt`); rồi nén thư mục `MSSV` này lại và nộp ở link trên moodle."
   ]
  },
  {
   "cell_type": "markdown",
   "metadata": {},
   "source": [
    "## 2. Import"
   ]
  },
  {
   "cell_type": "code",
   "execution_count": 1,
   "metadata": {
    "collapsed": false
   },
   "outputs": [],
   "source": [
    "%matplotlib inline\n",
    "import numpy as np\n",
    "import bitarray\n",
    "from scipy.misc import imread, imsave\n",
    "import matplotlib.pyplot as plt\n",
    "# You can also import other things ..."
   ]
  },
  {
   "cell_type": "markdown",
   "metadata": {},
   "source": [
    "## 3. Hàm nhúng"
   ]
  },
  {
   "cell_type": "code",
   "execution_count": 2,
   "metadata": {
    "collapsed": false
   },
   "outputs": [],
   "source": [
    "def embed_lsb(cover_img_file, msg_file, num_lsbs, stego_img_file, opap):\n",
    "    \"\"\"\n",
    "    Embeds a message into a cover image using the LSB method.\n",
    "    \n",
    "    Parameters\n",
    "    ----------\n",
    "    cover_img_file : string\n",
    "        The name of the cover img file.\n",
    "    msg_file : string\n",
    "        The name of the message file.\n",
    "    num_lsbs : int\n",
    "        The number of LSBs used to embed.\n",
    "    stego_img_file : string\n",
    "        The name of the stego img file.\n",
    "    opap : bool\n",
    "        Indicating whether OPAP (Optimal Pixel Adjustment Process) is applied to stego img or not.\n",
    "        If opap is True, you need to print out:\n",
    "            - MAE (Mean Absolute Error) between stego img and cover img before OPAP.\n",
    "            - MAE (Mean Absolute Error) between stego img and cover img after OPAP.\n",
    "            - The percentage of stego img's pixels falling into case 1 and 4\n",
    "              (If stego img has 10 pixels, and 2 of them fall into case 1, then:\n",
    "              the percentage of stego img's pixels falling into case-1 = 2*100/10 = 20%).\n",
    "            \n",
    "            Example: `MAE before OPAP: 100, MAE after OPAP: 50, case 1: 20%, case 4: 0%`.\n",
    "    \"\"\"\n",
    "    # TODO\n",
    "     # 1. Read cover img file\n",
    "    cover_img = imread(cover_img_file)\n",
    "        \n",
    "    # 2. Read msg file and process\n",
    "    # 2.1. Read msg file\n",
    "    f = open(msg_file, 'r')\n",
    "    msg_text = f.read()\n",
    "    f.close()\n",
    "    \n",
    "    # 2.2 Convert msg to msg bits\n",
    "    msg_bits = bitarray.bitarray()\n",
    "    msg_bits.frombytes(msg_text)\n",
    "    \n",
    "    # 2.3. Check if it is possible to embed\n",
    "    len_msg_bits = len(msg_bits)\n",
    "    max_num_bits = num_lsbs * cover_img.size\n",
    "    if (len_msg_bits >= max_num_bits):\n",
    "        return False\n",
    "    \n",
    "    # 2.4. Add '100...' to msg bits\n",
    "    msg_bits.extend('1' + '0' * (max_num_bits - len_msg_bits - 1))\n",
    "   \n",
    "    # 2.5. Convert msg bits to msg img\n",
    "    msg_bits_str = msg_bits.to01()\n",
    "    msg_img = np.array([int(msg_bits_str[i: i + num_lsbs], 2) for i in range(0, len(msg_bits), num_lsbs)])\n",
    "    msg_img = msg_img.reshape(cover_img.shape)\n",
    "    \n",
    "    # 3. Embed msg img into cover img\n",
    "    stego_img = (cover_img >> num_lsbs << num_lsbs) + msg_img    \n",
    "    \n",
    "    # 4. If OPAP = True, change the pixels in region 1 and 4\n",
    "    # to reduce the difference between stego img and cover img\n",
    "    if opap == True:\n",
    "        err_img = np.int16(stego_img) - np.int16(cover_img)\n",
    "        case1_map = (err_img > 2 ** (num_lsbs - 1)) * (stego_img >= 2 ** num_lsbs)\n",
    "        case4_map = (err_img < -2 ** (num_lsbs - 1)) * (stego_img < 256 - 2  ** num_lsbs)\n",
    "        \n",
    "        # MAE (Mean Absolute Error) between stego img and cover img before OPAP\n",
    "        mae_1 = np.mean(np.abs(stego_img - cover_img))\n",
    "        \n",
    "        # Change the pixels in case 1 and 4\n",
    "        stego_img[case1_map] -= 2 ** num_lsbs\n",
    "        stego_img[case4_map] += 2 ** num_lsbs\n",
    "        \n",
    "        # MAE (Mean Absolute Error) between stego img and cover img after OPAP\n",
    "        mae_2 = np.mean(np.abs(stego_img - cover_img))\n",
    "        \n",
    "        # Find num of pixels in case 1 and 4\n",
    "        sum_1 = 0\n",
    "        sum_4 = 0\n",
    "        leng = len(case1_map)\n",
    "        for i in range(leng):\n",
    "            for j in range(leng):\n",
    "                if case1_map[i, j] == True:\n",
    "                    sum_1 += 1\n",
    "                if case4_map[i, j] == True:\n",
    "                    sum_4 += 1\n",
    "    \n",
    "        # The percentage of stego img's pixels falling into case 1 and 4\n",
    "        sum_of_pixels = stego_img.size\n",
    "        per_1 = sum_1 * 100 / sum_of_pixels\n",
    "        per_4 = sum_4 * 100 / sum_of_pixels\n",
    "        \n",
    "        # Print results\n",
    "        print 'MAE before OPAP:', mae_1, ', MAE after OPAP:', mae_2, ', case 1:', per_1, '% , case 4:', per_4, '%'\n",
    "                \n",
    "    # 5. Write stego img to file\n",
    "    imsave(stego_img_file, np.asarray(stego_img).astype('uint8')) \n",
    "\n",
    "    return True"
   ]
  },
  {
   "cell_type": "markdown",
   "metadata": {},
   "source": [
    "## 4. Hàm rút trích (giữ nguyên hàm tuần trước)"
   ]
  },
  {
   "cell_type": "markdown",
   "metadata": {},
   "source": [
    "### 4.1. Hàm chuyển đổi số thập phân thành số nhị phân"
   ]
  },
  {
   "cell_type": "code",
   "execution_count": 3,
   "metadata": {
    "collapsed": true
   },
   "outputs": [],
   "source": [
    "def dec2bin(decimal):\n",
    "    \"\"\"\n",
    "    Convert decimal to a binary representation.\n",
    "    \n",
    "    Parameter\n",
    "    ---------------\n",
    "    decimal: int\n",
    "        Decimal need to be converted to a binary representation\n",
    "    \n",
    "    Return\n",
    "    ---------------\n",
    "    binary_str: string\n",
    "        Binary representation of decimal\n",
    "    \"\"\"\n",
    "    binary_str = ''\n",
    "    if (decimal == 0):\n",
    "        binary_str = '0'\n",
    "    else:\n",
    "        while (decimal > 0):\n",
    "            binary_str = str(decimal % 2) + binary_str\n",
    "            decimal /= 2\n",
    "    \n",
    "    return binary_str"
   ]
  },
  {
   "cell_type": "markdown",
   "metadata": {},
   "source": [
    "### 4.2. Hàm rút trích"
   ]
  },
  {
   "cell_type": "code",
   "execution_count": 4,
   "metadata": {
    "collapsed": true
   },
   "outputs": [],
   "source": [
    "def extract_lsb(stego_img_file, num_lsbs, extracted_msg_file):\n",
    "    \"\"\"\n",
    "    Extracts the message from a stego image using the LSB method.\n",
    "    \n",
    "    Parameters\n",
    "    ----------\n",
    "    stego_img_file : string\n",
    "        The name of the stego img file.\n",
    "    num_lsbs : int\n",
    "        The number of LSBs used to embed.\n",
    "    extracted_msg_file : string\n",
    "        The name of the extracted message file.\n",
    "    \"\"\"\n",
    "    # TODO\n",
    "    # 1. Read stego img file\n",
    "    stego_img = imread(stego_img_file)\n",
    "        \n",
    "    # 2. Extract msg bits str from stego img\n",
    "    # 2.1. Take msg img from stego img and num_lsbs\n",
    "    msg_img = stego_img - (stego_img >> num_lsbs << num_lsbs)\n",
    "   \n",
    "    # 2.2. Convert msg img to msg bits\n",
    "    msg_img = msg_img.reshape(msg_img.size)\n",
    "    len_msg_img = len(msg_img)\n",
    "    msg_bits_str = ''\n",
    "    for i in range(0, len_msg_img):\n",
    "        msg_bits = dec2bin(msg_img[i])\n",
    "        msg_bits_str += '0' * (num_lsbs - len(msg_bits)) + msg_bits\n",
    "    \n",
    "    # 2.3. Find index of the last bit 1 of msg bits str,\n",
    "    # create a new string with content similar to the old string\n",
    "    # but eliminate the last bits '1000 ...' based on the index of the last bit 1\n",
    "    index = len(msg_bits_str) - 1     \n",
    "    while index >= 0:\n",
    "        if msg_bits_str[index] == '1':\n",
    "            break\n",
    "        index -= 1\n",
    "    msg_bits_str = msg_bits_str[0:index]\n",
    "    \n",
    "    # 3. Convert msg bits to msg text\n",
    "    msg_bits = bitarray.bitarray(msg_bits_str)\n",
    "    msg_text = msg_bits.tobytes()\n",
    "    \n",
    "    # 4. Write msg text to file\n",
    "    f = open(extracted_msg_file, 'w')\n",
    "    f.write(msg_text)\n",
    "    f.close()\n",
    "    \n",
    "    return"
   ]
  },
  {
   "cell_type": "markdown",
   "metadata": {},
   "source": [
    "## 5. Chạy thí nghiệm"
   ]
  },
  {
   "cell_type": "markdown",
   "metadata": {},
   "source": [
    "Đầu tiên, bạn sẽ gọi hàm nhúng và hàm rút trích ở trên với file cover `cover.bmp` và file message `msg.txt` mà mình đính kèm; bạn sử dụng `num_lsbs = 1`, `opap = True` và để file stego có đuôi là `*.bmp` (để tránh bị mất mát thông tin khi ghi ảnh xuống file). Để minh chứng hàm nhúng và hàm rút trích đã được cài đặt đúng, bạn cũng cần mở file message ban đầu và file message được rút trích, và in nội dung của hai file này ra."
   ]
  },
  {
   "cell_type": "code",
   "execution_count": 5,
   "metadata": {
    "collapsed": false
   },
   "outputs": [
    {
     "name": "stdout",
     "output_type": "stream",
     "text": [
      "MAE before OPAP: 0.501163482666 , MAE after OPAP: 0.501163482666 , case 1: 0 % , case 4: 0 %\n",
      "OVER YOU\n",
      "[Watch it here: \n",
      "https://www.youtube.com/watch?v=y24DLOdFpt0 (by Cassadee Pope)\n",
      "https://www.youtube.com/watch?v=cGABJorRJ50 (by Blake Shelton)]\n",
      "\n",
      "Weather man said it iss gonna snow\n",
      "By now I should be used to the cold\n",
      "Mid-February shouldnt be so scary\n",
      "It was only December\n",
      "I still remember the presents, the tree, you and me\n",
      "\n",
      "But you went away\n",
      "How dare you?\n",
      "I miss you\n",
      "They say I will be OK\n",
      "But Im not going to ever get over you\n",
      "\n",
      "Living alone here in this place\n",
      "I think of you, and Im not afraid\n",
      "Your favorite records make me feel better\n",
      "Cause you sing along\n",
      "With every song\n",
      "I know you didnt mean to give them to me\n",
      "\n",
      "But you went away\n",
      "How dare you?\n",
      "I miss you\n",
      "They say Ill be OK\n",
      "But Im not going to ever get over you\n",
      "---------------------------------\n",
      "OVER YOU\n",
      "[Watch it here: \n",
      "https://www.youtube.com/watch?v=y24DLOdFpt0 (by Cassadee Pope)\n",
      "https://www.youtube.com/watch?v=cGABJorRJ50 (by Blake Shelton)]\n",
      "\n",
      "Weather man said it iss gonna snow\n",
      "By now I should be used to the cold\n",
      "Mid-February shouldnt be so scary\n",
      "It was only December\n",
      "I still remember the presents, the tree, you and me\n",
      "\n",
      "But you went away\n",
      "How dare you?\n",
      "I miss you\n",
      "They say I will be OK\n",
      "But Im not going to ever get over you\n",
      "\n",
      "Living alone here in this place\n",
      "I think of you, and Im not afraid\n",
      "Your favorite records make me feel better\n",
      "Cause you sing along\n",
      "With every song\n",
      "I know you didnt mean to give them to me\n",
      "\n",
      "But you went away\n",
      "How dare you?\n",
      "I miss you\n",
      "They say Ill be OK\n",
      "But Im not going to ever get over you\n"
     ]
    }
   ],
   "source": [
    "# TODO\n",
    "input_1 = 'cover.bmp'\n",
    "input_2 = 'msg.txt'\n",
    "output_1 = 'stego.bmp'\n",
    "num_lsbs = 1\n",
    "opap = True\n",
    "\n",
    "t = embed_lsb(input_1, input_2, num_lsbs, output_1, opap)\n",
    "if (t == True):\n",
    "    output_2 = 'extracted.txt'\n",
    "    extract_lsb(output_1, num_lsbs, output_2)\n",
    "    \n",
    "    f = open(input_2, 'r')\n",
    "    msg_text = f.read()\n",
    "    f.close()\n",
    "    \n",
    "    f = open(output_2, 'r')\n",
    "    extracted_text = f.read()\n",
    "    f.close()\n",
    "    \n",
    "    print msg_text\n",
    "    print '---------------------------------'\n",
    "    print extracted_text"
   ]
  },
  {
   "cell_type": "markdown",
   "metadata": {},
   "source": [
    "Kế đến, bạn sẽ viết một đoạn code để thử nghiệm hàm nhúng với `num_lsbs = 1, 2, 3, 4, 5, 6, 7, 8`, và `opap = True` (hàm nhúng của bạn cần in ra các kết quả như ở phần mô tả hàm bên trên). Cho nhận xét về kết quả."
   ]
  },
  {
   "cell_type": "code",
   "execution_count": 6,
   "metadata": {
    "collapsed": false
   },
   "outputs": [
    {
     "name": "stdout",
     "output_type": "stream",
     "text": [
      "MAE before OPAP: 0.501163482666 , MAE after OPAP: 0.501163482666 , case 1: 0 % , case 4: 0 %\n",
      "MAE before OPAP: 1.49826812744 , MAE after OPAP: 0.99951171875 , case 1: 0 % , case 4: 24 %\n",
      "MAE before OPAP: 3.48915100098 , MAE after OPAP: 2.00187683105 , case 1: 0 % , case 4: 37 %\n",
      "MAE before OPAP: 7.47224807739 , MAE after OPAP: 3.91215133667 , case 1: 0 % , case 4: 43 %\n",
      "MAE before OPAP: 15.5174255371 , MAE after OPAP: 8.16014099121 , case 1: 0 % , case 4: 46 %\n",
      "MAE before OPAP: 31.7149276733 , MAE after OPAP: 16.1750488281 , case 1: 0 % , case 4: 48 %\n",
      "MAE before OPAP: 58.6238059998 , MAE after OPAP: 34.8123130798 , case 1: 0 % , case 4: 32 %\n",
      "MAE before OPAP: 123.810417175 , MAE after OPAP: 123.810417175 , case 1: 0 % , case 4: 0 %\n"
     ]
    }
   ],
   "source": [
    "# TODO\n",
    "input_1 = 'cover.bmp'\n",
    "input_2 = 'msg.txt'\n",
    "output_1 = 'stego.bmp'\n",
    "opap = True\n",
    "\n",
    "for num_lsbs in range(1, 9):\n",
    "    t = embed_lsb(input_1, input_2, num_lsbs, output_1, opap)"
   ]
  },
  {
   "cell_type": "markdown",
   "metadata": {
    "collapsed": false
   },
   "source": [
    "TODO: nhận xét\n",
    "1. Về độ lỗi MAE: Trong hầu hết trường hợp, độ lỗi sau OPAP đều có xu hướng giảm hơn nhiều so với độ lỗi trước OPAP.\n",
    "2. Tỉ lệ phần trăm case 1 và 4:\n",
    "    \n",
    "    Thống kê cho thấy tỉ lệ phần trăm trong trường hợp 1 rất thấp, luôn chạm ngưỡng 0%, còn tỉ lệ phần trăm trong trường hợp 4 luôn duy trì ở mức hai con số (trừ trường hợp num_lsbs = 1 và num_lsbs = 8).\n",
    "    \n",
    "    Dễ thấy tỉ lệ case 4 tăng dần từ num_lsbs = 1 đến 6, chạm đỉnh 48% và giảm dần trong 2 trường còn lại.\n",
    "\n"
   ]
  },
  {
   "cell_type": "markdown",
   "metadata": {},
   "source": [
    "##### ---\n",
    "\n",
    "Enjoy coding :-)"
   ]
  }
 ],
 "metadata": {
  "kernelspec": {
   "display_name": "Python [Root]",
   "language": "python",
   "name": "Python [Root]"
  },
  "language_info": {
   "codemirror_mode": {
    "name": "ipython",
    "version": 2
   },
   "file_extension": ".py",
   "mimetype": "text/x-python",
   "name": "python",
   "nbconvert_exporter": "python",
   "pygments_lexer": "ipython2",
   "version": "2.7.12"
  }
 },
 "nbformat": 4,
 "nbformat_minor": 0
}
