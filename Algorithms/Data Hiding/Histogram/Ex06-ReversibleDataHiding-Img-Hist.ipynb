{
 "cells": [
  {
   "cell_type": "markdown",
   "metadata": {},
   "source": [
    "# BTTH06: Ẩn dữ liệu khả nghịch trên ảnh bằng phương pháp dịch histogram\n",
    "\n",
    "TODO: Võ Phương Hòa - 1412192\n",
    "\n",
    "---"
   ]
  },
  {
   "cell_type": "markdown",
   "metadata": {},
   "source": [
    "## 1. Cách làm bài và nộp bài\n",
    "\n",
    "**Làm bài**\n",
    "\n",
    "Bạn sẽ làm trực tiếp trên file notebook này; trong file, mình đã để từ `TODO` để cho biết những chỗ mà bạn cần phải làm (trong đó, `TODO` đầu tiên là bạn phải ghi họ tên và MSSV vào phần đầu của file). Trong khi làm bài, thường xuyên `Ctrl + S` để lưu lại bài làm của bạn, tránh mất mát thông tin.\n",
    "\n",
    "*Mục tiêu chính ở đây là học, học một cách chân thật; nếu bạn được 5 điểm nhưng bạn làm bài một cách chân thật thì vẫn tốt hơn nhiều so với 10 điểm mà không chân thật. Bạn có thể thảo luận với các bạn khác; nhưng bài làm phải là của chính bạn, dựa trên sự hiểu của chính bạn, lời văn là của chính bạn, code là của chính bạn. Bạn không nên đọc bài làm của các bạn năm trước. Nếu bị phát hiện gian lận thì bạn sẽ bị 0 điểm cho toàn bộ phần thực hành.*\n",
    "\n",
    "**Nộp bài**\n",
    "\n",
    "Khi chấm bài, đầu tiên mình sẽ chọn `Kernel` - `Restart & Run All` để restart và chạy tất cả các cell trong notebook của bạn; do đó, trước khi nộp bài, bạn nên chạy thử `Kernel` - `Restart & Run All` để đảm bảo mọi chuyện diễn ra đúng như mong đợi.\n",
    "\n",
    "Sau đó, trong thư mục `MSSV` (vd, nếu bạn có MSSV là 1234567 thì bạn đặt tên thư mục là `1234567`) bạn đặt: file `Ex06-ReversibleDataHiding-Img-Hist.ipynb`, và các file dữ liệu mà mình đính kèm (`cover.bmp`, `msg.txt`); rồi nén thư mục `MSSV` này lại và nộp ở link trên moodle."
   ]
  },
  {
   "cell_type": "markdown",
   "metadata": {},
   "source": [
    "## 2. Import"
   ]
  },
  {
   "cell_type": "code",
   "execution_count": 1,
   "metadata": {
    "collapsed": false
   },
   "outputs": [],
   "source": [
    "%matplotlib inline\n",
    "import numpy as np\n",
    "import bitarray\n",
    "from scipy.misc import imread, imsave\n",
    "import matplotlib.pyplot as plt\n",
    "# You can also import other things ..."
   ]
  },
  {
   "cell_type": "markdown",
   "metadata": {},
   "source": [
    "## 3. Hàm nhúng"
   ]
  },
  {
   "cell_type": "code",
   "execution_count": 2,
   "metadata": {
    "collapsed": false
   },
   "outputs": [],
   "source": [
    "def embed_hist(cover_img_file, msg_file, stego_img_file):\n",
    "    \"\"\"\n",
    "    Embeds a message into a cover image using the hist shift method.\n",
    "    \n",
    "    Parameters\n",
    "    ----------\n",
    "    cover_img_file : string\n",
    "        The name of the cover img file.\n",
    "    msg_file : string\n",
    "        The name of the message file.\n",
    "    stego_img_file : string\n",
    "        The name of the stego img file.\n",
    "    \n",
    "    Returns \n",
    "    -------\n",
    "    peak_val : int\n",
    "        The peak value.\n",
    "    zero_val : int\n",
    "        The zero value.\n",
    "    \n",
    "    If it's impossible to embed, just return (-1, -1).\n",
    "    \"\"\"\n",
    "    # TODO\n",
    "    # 1. Read cover img file and process\n",
    "    # 1.1. Read cover img file\n",
    "    cover_img = imread(cover_img_file)\n",
    "    \n",
    "    # 1.2. Compute cover img hist\n",
    "    cover_img_hist, _bins = np.histogram(cover_img, bins = range(257))\n",
    "        \n",
    "    # 1.3. Compute peak and zero points\n",
    "    peak_val = np.argmax(cover_img_hist)\n",
    "    zero_val = np.argmin(cover_img_hist)\n",
    "    \n",
    "    # 2. Read msg file and process\n",
    "    # 2.1. Read msg file\n",
    "    f = open(msg_file, 'r')\n",
    "    msg_text = f.read()\n",
    "    f.close()\n",
    "    \n",
    "    # 2.2 Convert msg to msg bits\n",
    "    msg_bits = bitarray.bitarray()\n",
    "    msg_bits.frombytes(msg_text)\n",
    "     \n",
    "    # 2.3. Check if it is possible to embed\n",
    "    # (1) zero point exists?\n",
    "    # (2) len(msg_bits) < cover_img_hist[peak_val]\n",
    "    if (cover_img_hist[zero_val] > 0) or (len(msg_bits) >= cover_img_hist[peak_val]):\n",
    "        return (-1, -1)\n",
    "    \n",
    "    # 2.4. Add '100...' to msg bits\n",
    "    msg_bits.extend('1' + '0' * (cover_img_hist[peak_val] - len(msg_bits) - 1))\n",
    "    \n",
    "    # 3. Embed msg bits into cover img\n",
    "    stego_img = cover_img\n",
    "    below_val = min(peak_val, zero_val)\n",
    "    upper_val = max(peak_val, zero_val)\n",
    "    shift_direction = np.sign(zero_val - peak_val)\n",
    "    mb_idx = 0\n",
    "    for r in range(stego_img.shape[0]):\n",
    "        for c in range(stego_img.shape[1]):\n",
    "            if stego_img[r, c] == peak_val:\n",
    "                stego_img[r, c] += msg_bits[mb_idx] * shift_direction\n",
    "                mb_idx += 1\n",
    "            elif stego_img[r, c] > below_val and stego_img[r, c] < upper_val:\n",
    "                stego_img[r, c] += shift_direction\n",
    "    \n",
    "    # 4. Write stego img to file\n",
    "    imsave(stego_img_file, np.asarray(stego_img).astype('uint8'))\n",
    "    \n",
    "    return (peak_val, zero_val)"
   ]
  },
  {
   "cell_type": "markdown",
   "metadata": {},
   "source": [
    "## 4. Hàm rút trích"
   ]
  },
  {
   "cell_type": "code",
   "execution_count": 3,
   "metadata": {
    "collapsed": true
   },
   "outputs": [],
   "source": [
    "def extract_hist(stego_img_file, peak_val, zero_val, extracted_msg_file, recovered_cover_img_file):\n",
    "    \"\"\"\n",
    "    Extracts the message from a stego image using the hist shift method.\n",
    "    \n",
    "    Parameters\n",
    "    ----------\n",
    "    stego_img_file : string\n",
    "        The name of the stego img file.\n",
    "    peak_val : int\n",
    "        The peak value used to embed.\n",
    "    zero_val : int\n",
    "        The zero value used to embed.\n",
    "    extracted_msg_file : string\n",
    "        The name of the extracted message file.\n",
    "    recovered_cover_img_file : string\n",
    "        The name of the recovered cover img file.\n",
    "    \"\"\"\n",
    "    # TODO\n",
    "    # 1. Read stego img file and process\n",
    "    # 1.1. Read stego img file\n",
    "    stego_img = imread(stego_img_file)\n",
    "    \n",
    "    # 1.2. Compute stego img hist\n",
    "    stego_img_hist, _bins = np.histogram(stego_img, bins = range(257))\n",
    "    \n",
    "    # 2. Extracted msg str (string of bits of msg file) and recovered cover img from stego img\n",
    "    recovered_cover_img = stego_img\n",
    "    extracted_msg_str = ''\n",
    "    below_val = min(peak_val, zero_val)\n",
    "    upper_val = max(peak_val, zero_val)\n",
    "    shift_direction = np.sign(zero_val - peak_val)\n",
    "    below_val += shift_direction\n",
    "    upper_val += shift_direction\n",
    "    \n",
    "    for r in range(recovered_cover_img.shape[0]): # we can understand, 0 <= r,c < 512\n",
    "        for c in range(recovered_cover_img.shape[1]):\n",
    "            if (recovered_cover_img[r, c] == peak_val) or (recovered_cover_img[r, c] == peak_val + shift_direction):\n",
    "                extracted_msg_str += str(abs(recovered_cover_img[r, c] - peak_val)) # '0' or '1'\n",
    "                recovered_cover_img[r, c] = peak_val\n",
    "            elif recovered_cover_img[r, c] > below_val and recovered_cover_img[r, c] < upper_val:\n",
    "                recovered_cover_img[r, c] -= shift_direction\n",
    "    \n",
    "    # 3. Format extracted msg text\n",
    "    # 3.1. Find index of the last bit 1 of extracted msg str,\n",
    "    # create a new string with content similar to the old string\n",
    "    # but eliminate the last bits '1000 ...' based on the index of the last bit 1\n",
    "    index = len(extracted_msg_str) - 1     \n",
    "    while index >= 0:\n",
    "        if extracted_msg_str[index] == '1':\n",
    "            break\n",
    "        index -= 1\n",
    "    extracted_msg_str = extracted_msg_str[0:index]\n",
    "    \n",
    "    # 3.2. Convert extracted msg bit\n",
    "    extracted_msg_bits = bitarray.bitarray(extracted_msg_str)\n",
    "    extracted_msg_text = extracted_msg_bits.tobytes()\n",
    "    \n",
    "    # 4. Write the results to file\n",
    "    # 4.1. Write extracted msg text to file\n",
    "    f = open(extracted_msg_file, 'w')\n",
    "    f.write(extracted_msg_text)\n",
    "    f.close()\n",
    "    \n",
    "    # 4.2. Write recovered cover img to file\n",
    "    imsave(recovered_cover_img_file, np.asarray(recovered_cover_img).astype('uint8'))\n",
    "    \n",
    "    return"
   ]
  },
  {
   "cell_type": "markdown",
   "metadata": {},
   "source": [
    "## 5. Chạy thí nghiệm"
   ]
  },
  {
   "cell_type": "markdown",
   "metadata": {},
   "source": [
    "Bạn sẽ gọi hàm nhúng và hàm rút trích ở trên với file cover `cover.bmp` và file message `msg.txt` mà mình đính kèm. Để minh chứng hàm nhúng và hàm rút trích đã được cài đặt đúng, bạn cần mở file message ban đầu và file message được rút trích, và in nội dung của hai file này ra; ngoài ra, bạn cũng cần đọc ảnh cover ban đầu và ảnh cover khôi phục được, và so sánh hai mảng ứng với hai ảnh này với nhau (dùng hàm `np.array_equal`)"
   ]
  },
  {
   "cell_type": "code",
   "execution_count": 4,
   "metadata": {
    "collapsed": false
   },
   "outputs": [
    {
     "name": "stdout",
     "output_type": "stream",
     "text": [
      "Empty your mind of all thoughts.\n",
      "Let your heart be at peace.\n",
      "-------------------------------\n",
      "Empty your mind of all thoughts.\n",
      "Let your heart be at peace.\n",
      "-------------------------------\n",
      "True\n"
     ]
    }
   ],
   "source": [
    "# TODO\n",
    "input_1 = 'cover.bmp'\n",
    "input_2 = 'msg.txt'\n",
    "output = 'stego.bmp'\n",
    "\n",
    "t = embed_hist(input_1, input_2, output)\n",
    "if (t == (-1, -1)):\n",
    "    print 'An du lieu that bai'\n",
    "else:\n",
    "    output_1 = 'extracted_msg.txt'\n",
    "    output_2 = 'recovered.bmp'\n",
    "    extract_hist(output, t[0], t[1], output_1, output_2)\n",
    "    \n",
    "    f = open(input_2, 'r')\n",
    "    msg_text = f.read()\n",
    "    f.close()\n",
    "    \n",
    "    f = open(output_1, 'r')\n",
    "    extracted_msg_text = f.read()\n",
    "    f.close()\n",
    "    \n",
    "    cover_img = imread(input_1)\n",
    "    recovered_img = imread(output_2)\n",
    "    \n",
    "    print msg_text\n",
    "    print '-------------------------------'\n",
    "    print extracted_msg_text\n",
    "    print '-------------------------------'\n",
    "    print np.array_equal(cover_img, recovered_img)"
   ]
  },
  {
   "cell_type": "markdown",
   "metadata": {},
   "source": [
    "Theo bạn, trong trường hợp ảnh có nhiều peak point và zero point, ta nên chọn cặp peak point và zero point nào? Giải thích."
   ]
  },
  {
   "cell_type": "markdown",
   "metadata": {
    "collapsed": false
   },
   "source": [
    "TODO\n",
    "\n",
    "Trong trường hợp ảnh có nhiều peak point và zero point, ta nên chọn hai điểm peak point và zero point gần nhau nhất. Khi đó, phép dịch histogram sẽ thực hiện dịch trên ít giá trị nhất, do đó, ảnh sau ẩn dữ liệu sẽ ít biến đổi hơn (do những thay đổi của các điểm ảnh không nhiều) so với việc lựa chọn các điểm peak point và zero point khác."
   ]
  },
  {
   "cell_type": "markdown",
   "metadata": {},
   "source": [
    "---\n",
    "\n",
    "Enjoy coding :-)"
   ]
  }
 ],
 "metadata": {
  "anaconda-cloud": {},
  "kernelspec": {
   "display_name": "Python [Root]",
   "language": "python",
   "name": "Python [Root]"
  },
  "language_info": {
   "codemirror_mode": {
    "name": "ipython",
    "version": 2
   },
   "file_extension": ".py",
   "mimetype": "text/x-python",
   "name": "python",
   "nbconvert_exporter": "python",
   "pygments_lexer": "ipython2",
   "version": "2.7.12"
  }
 },
 "nbformat": 4,
 "nbformat_minor": 0
}
