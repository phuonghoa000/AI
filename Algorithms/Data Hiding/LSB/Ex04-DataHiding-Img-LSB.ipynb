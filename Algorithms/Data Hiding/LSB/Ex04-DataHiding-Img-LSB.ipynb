{
 "cells": [
  {
   "cell_type": "markdown",
   "metadata": {},
   "source": [
    "# BTTH04: Ẩn dữ liệu trên ảnh bằng phương pháp LSB\n",
    "\n",
    "Võ Phương Hòa - 1412192\n",
    "\n",
    "---"
   ]
  },
  {
   "cell_type": "markdown",
   "metadata": {},
   "source": [
    "## 1. Cách làm bài và nộp bài\n",
    "\n",
    "**Làm bài**\n",
    "\n",
    "Bạn sẽ làm trực tiếp trên file notebook này; trong file, mình đã để từ `TODO` để cho biết những chỗ mà bạn cần phải làm (trong đó, `TODO` đầu tiên là bạn phải ghi họ tên và MSSV vào phần đầu của file). Trong khi làm bài, thường xuyên `Ctrl + S` để lưu lại bài làm của bạn, tránh mất mát thông tin.\n",
    "\n",
    "*Mục tiêu chính ở đây là học, học một cách chân thật; nếu bạn được 5 điểm nhưng bạn làm bài một cách chân thật thì vẫn tốt hơn nhiều so với 10 điểm mà không chân thật. Bạn có thể thảo luận với các bạn khác; nhưng bài làm phải là của chính bạn, dựa trên sự hiểu của chính bạn, lời văn là của chính bạn, code là của chính bạn. Bạn không nên đọc bài làm của các bạn năm trước. Nếu bị phát hiện gian lận thì bạn sẽ bị 0 điểm cho toàn bộ phần thực hành.*\n",
    "\n",
    "**Nộp bài**\n",
    "\n",
    "Khi chấm bài, đầu tiên mình sẽ chọn `Kernel` - `Restart & Run All` để restart và chạy tất cả các cell trong notebook của bạn; do đó, trước khi nộp bài, bạn nên chạy thử `Kernel` - `Restart & Run All` để đảm bảo mọi chuyện diễn ra đúng như mong đợi.\n",
    "\n",
    "Sau đó, trong thư mục `MSSV` (vd, nếu bạn có MSSV là 1234567 thì bạn đặt tên thư mục là `1234567`) bạn đặt: file `Ex04-DataHiding-Img-LSB.ipynb`, và các file dữ liệu mà mình đính kèm (`cover.bmp`, `msg.txt`); rồi nén thư mục `MSSV` này lại và nộp ở link trên moodle."
   ]
  },
  {
   "cell_type": "markdown",
   "metadata": {},
   "source": [
    "## 2. Import"
   ]
  },
  {
   "cell_type": "code",
   "execution_count": 1,
   "metadata": {
    "collapsed": false
   },
   "outputs": [],
   "source": [
    "%matplotlib inline\n",
    "import numpy as np\n",
    "import bitarray\n",
    "from scipy.misc import imread, imsave\n",
    "import matplotlib.pyplot as plt\n",
    "# You can also import other things ..."
   ]
  },
  {
   "cell_type": "markdown",
   "metadata": {},
   "source": [
    "## 3. Hàm nhúng\n",
    "(Khi code, để ý kiểu dữ liệu của các mảng numpy)"
   ]
  },
  {
   "cell_type": "code",
   "execution_count": 2,
   "metadata": {
    "collapsed": false,
    "scrolled": true
   },
   "outputs": [],
   "source": [
    "def embed_lsb(cover_img_file, msg_file, num_lsbs, stego_img_file):\n",
    "    \"\"\"\n",
    "    Embeds a message into a cover image using the LSB method.\n",
    "    \n",
    "    Parameters\n",
    "    ----------\n",
    "    cover_img_file : string\n",
    "        The name of the cover img file.\n",
    "    msg_file : string\n",
    "        The name of the message file.\n",
    "    num_lsbs : int\n",
    "        The number of LSBs used to embed.\n",
    "    stego_img_file : string\n",
    "        The name of the stego img file.\n",
    "        \n",
    "    Returns (if it's possible to embed)\n",
    "    -----------------------------------\n",
    "    (mae, max_num_bits) : tuple\n",
    "        mae : float\n",
    "            Mean Absolute Error between stego img and cover img;\n",
    "            mae = np.mean(np.abs(stego_img - cover_img)).\n",
    "        max_num_bits : int\n",
    "            The max number of bits we can embed; \n",
    "            max_num_bits = num_lsbs * cover_img.size().       \n",
    "    \"\"\"\n",
    "    # TODO\n",
    "    # 1. Read cover img file\n",
    "    cover_img = imread(cover_img_file)\n",
    "        \n",
    "    # 2. Read msg file and process\n",
    "    # 2.1. Read msg file\n",
    "    f = open(msg_file, 'r')\n",
    "    msg_text = f.read()\n",
    "    f.close()\n",
    "    \n",
    "    # 2.2 Convert msg to msg bits\n",
    "    msg_bits = bitarray.bitarray()\n",
    "    msg_bits.frombytes(msg_text)\n",
    "    \n",
    "    # 2.3. Check if it is possible to embed\n",
    "    len_msg_bits = len(msg_bits)\n",
    "    max_num_bits = num_lsbs * cover_img.size\n",
    "    if (len_msg_bits >= max_num_bits):\n",
    "        return (0, 0)\n",
    "    \n",
    "    # 2.4. Add '100...' to msg bits\n",
    "    msg_bits.extend('1' + '0' * (max_num_bits - len_msg_bits - 1))\n",
    "   \n",
    "    # 2.5. Convert msg bits to msg img\n",
    "    msg_bits_str = msg_bits.to01()\n",
    "    msg_img = np.array([int(msg_bits_str[i: i + num_lsbs], 2) for i in range(0, len(msg_bits), num_lsbs)])\n",
    "    msg_img = msg_img.reshape(cover_img.shape)\n",
    "    \n",
    "    # 3. Embed msg img into cover img\n",
    "    stego_img = (cover_img >> num_lsbs << num_lsbs) + msg_img\n",
    "    \n",
    "    # 4. Write stego img to file\n",
    "    imsave(stego_img_file, np.asarray(stego_img).astype('uint8'))\n",
    "    \n",
    "    # 5. Init result\n",
    "    mae = np.mean(np.abs(stego_img - cover_img))\n",
    "    t = (mae, max_num_bits)\n",
    "\n",
    "    return t"
   ]
  },
  {
   "cell_type": "markdown",
   "metadata": {},
   "source": [
    "## 4. Hàm rút trích"
   ]
  },
  {
   "cell_type": "markdown",
   "metadata": {},
   "source": [
    "### 4.1. Hàm chuyển đổi số thập phân thành số nhị phân"
   ]
  },
  {
   "cell_type": "code",
   "execution_count": 3,
   "metadata": {
    "collapsed": true
   },
   "outputs": [],
   "source": [
    "def dec2bin(decimal):\n",
    "    \"\"\"\n",
    "    Convert decimal to a binary representation.\n",
    "    \n",
    "    Parameter\n",
    "    ---------------\n",
    "    decimal: int\n",
    "        Decimal need to be converted to a binary representation\n",
    "    \n",
    "    Return\n",
    "    ---------------\n",
    "    binary_str: string\n",
    "        Binary representation of decimal\n",
    "    \"\"\"\n",
    "    binary_str = ''\n",
    "    if (decimal == 0):\n",
    "        binary_str = '0'\n",
    "    else:\n",
    "        while (decimal > 0):\n",
    "            binary_str = str(decimal % 2) + binary_str\n",
    "            decimal /= 2\n",
    "    \n",
    "    return binary_str   "
   ]
  },
  {
   "cell_type": "markdown",
   "metadata": {},
   "source": [
    "### 4.2. Hàm rút trích"
   ]
  },
  {
   "cell_type": "code",
   "execution_count": 4,
   "metadata": {
    "collapsed": false
   },
   "outputs": [],
   "source": [
    "def extract_lsb(stego_img_file, num_lsbs, extracted_msg_file):\n",
    "    \"\"\"\n",
    "    Extracts the message from a stego image using the LSB method.\n",
    "    \n",
    "    Parameters\n",
    "    ----------\n",
    "    stego_img_file : string\n",
    "        The name of the stego img file.\n",
    "    num_lsbs : int\n",
    "        The number of LSBs used to embed.\n",
    "    extracted_msg_file : string\n",
    "        The name of the extracted message file.\n",
    "    \"\"\"\n",
    "    # TODO\n",
    "    # 1. Read stego img file\n",
    "    stego_img = imread(stego_img_file)\n",
    "        \n",
    "    # 2. Extract msg bits str from stego img\n",
    "    # 2.1. Take msg img from stego img and num_lsbs\n",
    "    msg_img = stego_img - (stego_img >> num_lsbs << num_lsbs)\n",
    "   \n",
    "    # 2.2. Convert msg img to msg bits\n",
    "    msg_img = msg_img.reshape(msg_img.size)\n",
    "    len_msg_img = len(msg_img)\n",
    "    msg_bits_str = ''\n",
    "    for i in range(0, len_msg_img):\n",
    "        msg_bits = dec2bin(msg_img[i])\n",
    "        msg_bits_str += '0' * (num_lsbs - len(msg_bits)) + msg_bits\n",
    "    \n",
    "    # 2.3. Find index of the last bit 1 of msg bits str,\n",
    "    # create a new string with content similar to the old string\n",
    "    # but eliminate the last bits '1000 ...' based on the index of the last bit 1\n",
    "    index = len(msg_bits_str) - 1     \n",
    "    while index >= 0:\n",
    "        if msg_bits_str[index] == '1':\n",
    "            break\n",
    "        index -= 1\n",
    "    msg_bits_str = msg_bits_str[0:index]\n",
    "    \n",
    "    # 3. Convert msg bits to msg text\n",
    "    msg_bits = bitarray.bitarray(msg_bits_str)\n",
    "    msg_text = msg_bits.tobytes()\n",
    "    \n",
    "    # 4. Write msg text to file\n",
    "    f = open(extracted_msg_file, 'w')\n",
    "    f.write(msg_text)\n",
    "    f.close()\n",
    "    \n",
    "    return"
   ]
  },
  {
   "cell_type": "markdown",
   "metadata": {},
   "source": [
    "## 5. Chạy thí nghiệm"
   ]
  },
  {
   "cell_type": "markdown",
   "metadata": {},
   "source": [
    "Đầu tiên, bạn sẽ gọi hàm nhúng và hàm rút trích ở trên với file cover `cover.bmp` và file message `msg.txt` mà mình đính kèm; bạn sử dụng `num_lsbs = 1` và để file stego có đuôi là `*.bmp` (để tránh bị mất mát thông tin khi ghi ảnh xuống file). Để minh chứng hàm nhúng và hàm rút trích đã được cài đặt đúng, bạn cũng cần mở file message ban đầu và file message được rút trích, và in nội dung của hai file này ra."
   ]
  },
  {
   "cell_type": "code",
   "execution_count": 5,
   "metadata": {
    "collapsed": false
   },
   "outputs": [
    {
     "name": "stdout",
     "output_type": "stream",
     "text": [
      "OVER YOU\n",
      "[Watch it here: \n",
      "https://www.youtube.com/watch?v=y24DLOdFpt0 (by Cassadee Pope)\n",
      "https://www.youtube.com/watch?v=cGABJorRJ50 (by Blake Shelton)]\n",
      "\n",
      "Weather man said it iss gonna snow\n",
      "By now I should be used to the cold\n",
      "Mid-February shouldnt be so scary\n",
      "It was only December\n",
      "I still remember the presents, the tree, you and me\n",
      "\n",
      "But you went away\n",
      "How dare you?\n",
      "I miss you\n",
      "They say I will be OK\n",
      "But Im not going to ever get over you\n",
      "\n",
      "Living alone here in this place\n",
      "I think of you, and Im not afraid\n",
      "Your favorite records make me feel better\n",
      "Cause you sing along\n",
      "With every song\n",
      "I know you didnt mean to give them to me\n",
      "\n",
      "But you went away\n",
      "How dare you?\n",
      "I miss you\n",
      "They say Ill be OK\n",
      "But Im not going to ever get over you\n",
      "---------------------------------\n",
      "OVER YOU\n",
      "[Watch it here: \n",
      "https://www.youtube.com/watch?v=y24DLOdFpt0 (by Cassadee Pope)\n",
      "https://www.youtube.com/watch?v=cGABJorRJ50 (by Blake Shelton)]\n",
      "\n",
      "Weather man said it iss gonna snow\n",
      "By now I should be used to the cold\n",
      "Mid-February shouldnt be so scary\n",
      "It was only December\n",
      "I still remember the presents, the tree, you and me\n",
      "\n",
      "But you went away\n",
      "How dare you?\n",
      "I miss you\n",
      "They say I will be OK\n",
      "But Im not going to ever get over you\n",
      "\n",
      "Living alone here in this place\n",
      "I think of you, and Im not afraid\n",
      "Your favorite records make me feel better\n",
      "Cause you sing along\n",
      "With every song\n",
      "I know you didnt mean to give them to me\n",
      "\n",
      "But you went away\n",
      "How dare you?\n",
      "I miss you\n",
      "They say Ill be OK\n",
      "But Im not going to ever get over you\n"
     ]
    }
   ],
   "source": [
    "# TODO\n",
    "input_1 = 'cover.bmp'\n",
    "input_2 = 'msg.txt'\n",
    "output_1 = 'stego.bmp'\n",
    "num_lsbs = 1\n",
    "\n",
    "t = embed_lsb(input_1, input_2, num_lsbs, output_1)\n",
    "if (t != (0, 0)):\n",
    "    output_2 = 'extracted.txt'\n",
    "    extract_lsb(output_1, num_lsbs, output_2)\n",
    "    \n",
    "    f = open(input_2, 'r')\n",
    "    msg_text = f.read()\n",
    "    f.close()\n",
    "    \n",
    "    f = open(output_2, 'r')\n",
    "    extracted_text = f.read()\n",
    "    f.close()\n",
    "    \n",
    "    print msg_text\n",
    "    print '---------------------------------'\n",
    "    print extracted_text"
   ]
  },
  {
   "cell_type": "markdown",
   "metadata": {},
   "source": [
    "Kế đến, bạn sẽ viết một đoạn code để thử nghiệm hàm nhúng với `num_lsbs = 1, 2, 3, 4, 5, 6, 7, 8`. In ra màn hình `mae` và `max_num_bits` ứng với từng giá trị của `num_lsbs`; để trực quan, bạn có thể vẽ thêm đồ thị (bằng code). Cho nhận xét về kết quả."
   ]
  },
  {
   "cell_type": "code",
   "execution_count": 6,
   "metadata": {
    "collapsed": false
   },
   "outputs": [
    {
     "name": "stdout",
     "output_type": "stream",
     "text": [
      "num_lsbs =  1 : (0.50116348266601563, 262144)\n",
      "num_lsbs =  2 : (1.4982681274414062, 524288)\n",
      "num_lsbs =  3 : (3.4891510009765625, 786432)\n",
      "num_lsbs =  4 : (7.4722480773925781, 1048576)\n",
      "num_lsbs =  5 : (15.517425537109375, 1310720)\n",
      "num_lsbs =  6 : (31.714927673339844, 1572864)\n",
      "num_lsbs =  7 : (58.623805999755859, 1835008)\n",
      "num_lsbs =  8 : (123.81041717529297, 2097152)\n"
     ]
    }
   ],
   "source": [
    "# TODO\n",
    "input_1 = 'cover.bmp'\n",
    "input_2 = 'msg.txt'\n",
    "output_1 = 'stego.bmp'\n",
    "\n",
    "for num_lsbs in range(1, 9):\n",
    "    t = embed_lsb(input_1, input_2, num_lsbs, output_1)\n",
    "    if (t != (0, 0)):\n",
    "        output_2 = 'extracted.txt'\n",
    "        extract_lsb(output_1, num_lsbs, output_2)\n",
    "    \n",
    "    print 'num_lsbs = ', num_lsbs, ':', t"
   ]
  },
  {
   "cell_type": "markdown",
   "metadata": {
    "collapsed": false
   },
   "source": [
    "TODO:\n",
    "### Nhận xét:\n",
    "Theo chiều tăng num_lsbs, các giá trị mae và max_num_bits tăng dần.\n",
    "\n",
    "Trong đó:\n",
    "- Độ lỗi giữa cover_img và stego_img **mae** $\\approx \\frac{\\displaystyle \\sum_{i=0}^n(n)}{n + 1}$, với n = $2^a -1$ (a = num_lsbs)\n",
    "\n",
    "    Độ lỗi càng lớn thì ảnh sau ẩn dữ liệu (stego_img) càng khác so với ảnh gốc (cover_img), khi đó việc ẩn dữ liệu không còn hiệu quả như mong muốn.\n",
    "- **max_num_bits = img.size x num_lsbs** (ở đây, kích thước ảnh 'img' thường là 512 x 512)\n",
    "    \n",
    "    Số bit ẩn trên mỗi byte càng lớn thì dữ liệu có thể ẩn được càng lớn. Nhưng sau ẩn dữ liệu, byte dữ liệu càng khác so với byte gốc, từ đó ảnh sau ẩn dữ liệu sẽ ngày càng khác so với ảnh gốc.\n",
    "\n",
    "Tóm lại, khi num_lsbs càng lớn, ta càng giấu được nhiều dữ liệu hơn vào ảnh. Tuy nhiên, độ lỗi giữ ảnh gốc và ảnh sau ẩn dữ liệu ngày càng cao. Điều đó cũng đồng nghĩa ảnh sau khi ẩn dữ liệu sẽ ngày càng khác ảnh gốc và hiệu quả ẩn dữ liệu giảm xuống.\n",
    "\n"
   ]
  },
  {
   "cell_type": "markdown",
   "metadata": {},
   "source": [
    "---\n",
    "\n",
    "Enjoy coding :-)"
   ]
  }
 ],
 "metadata": {
  "anaconda-cloud": {},
  "kernelspec": {
   "display_name": "Python [Root]",
   "language": "python",
   "name": "Python [Root]"
  },
  "language_info": {
   "codemirror_mode": {
    "name": "ipython",
    "version": 2
   },
   "file_extension": ".py",
   "mimetype": "text/x-python",
   "name": "python",
   "nbconvert_exporter": "python",
   "pygments_lexer": "ipython2",
   "version": "2.7.12"
  }
 },
 "nbformat": 4,
 "nbformat_minor": 0
}
