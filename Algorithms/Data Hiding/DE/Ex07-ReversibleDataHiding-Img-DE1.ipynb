{
 "cells": [
  {
   "cell_type": "markdown",
   "metadata": {},
   "source": [
    "# BTTH07: Ẩn dữ liệu khả nghịch trên ảnh bằng phương pháp DE (phần 1)\n",
    "\n",
    "TODO: Võ Phương Hòa - 1412192\n",
    "\n",
    "---"
   ]
  },
  {
   "cell_type": "markdown",
   "metadata": {},
   "source": [
    "## 1. Cách làm bài và nộp bài\n",
    "\n",
    "**Làm bài**\n",
    "\n",
    "Bạn sẽ làm trực tiếp trên file notebook này; trong file, mình đã để từ `TODO` để cho biết những chỗ mà bạn cần phải làm (trong đó, `TODO` đầu tiên là bạn phải ghi họ tên và MSSV vào phần đầu của file). Trong khi làm bài, thường xuyên `Ctrl + S` để lưu lại bài làm của bạn, tránh mất mát thông tin.\n",
    "\n",
    "*Mục tiêu chính ở đây là học, học một cách chân thật; nếu bạn được 5 điểm nhưng bạn làm bài một cách chân thật thì vẫn tốt hơn nhiều so với 10 điểm mà không chân thật. Bạn có thể thảo luận với các bạn khác; nhưng bài làm phải là của chính bạn, dựa trên sự hiểu của chính bạn, lời văn là của chính bạn, code là của chính bạn. Bạn không nên đọc bài làm của các bạn năm trước. Nếu bị phát hiện gian lận thì bạn sẽ bị 0 điểm cho toàn bộ phần thực hành.*\n",
    "\n",
    "**Nộp bài**\n",
    "\n",
    "Khi chấm bài, đầu tiên mình sẽ chọn `Kernel` - `Restart & Run All` để restart và chạy tất cả các cell trong notebook của bạn; do đó, trước khi nộp bài, bạn nên chạy thử `Kernel` - `Restart & Run All` để đảm bảo mọi chuyện diễn ra đúng như mong đợi.\n",
    "\n",
    "Sau đó, trong thư mục `MSSV` (vd, nếu bạn có MSSV là 1234567 thì bạn đặt tên thư mục là `1234567`) bạn đặt: file `Ex07-ReversibleDataHiding-Img-DE1.ipynb`, và các file dữ liệu mà mình đính kèm (`expandable_cover.bmp`, `msg.txt`); rồi nén thư mục `MSSV` này lại và nộp ở link trên moodle."
   ]
  },
  {
   "cell_type": "markdown",
   "metadata": {},
   "source": [
    "## 2. Import"
   ]
  },
  {
   "cell_type": "code",
   "execution_count": 1,
   "metadata": {
    "collapsed": false
   },
   "outputs": [],
   "source": [
    "%matplotlib inline\n",
    "import numpy as np\n",
    "import bitarray\n",
    "from scipy.misc import imread, imsave\n",
    "import matplotlib.pyplot as plt\n",
    "# You can also import other things ..."
   ]
  },
  {
   "cell_type": "markdown",
   "metadata": {},
   "source": [
    "## 3. Hàm nhúng\n",
    "\n",
    "Trong tuần này, bạn sẽ cài đặt hàm nhúng và hàm rút trích với ảnh đầu vào gồm các cặp pixel đều có h \"expandable\". Lưu ý là, với file `expandable_cover.bmp` mà mình cung cấp, để đảm bảo tất cả các h đều \"expandable\" thì bạn phải tiến hành gom 2 pixel thành một nhóm theo cách thức sau: lấy các cột của ma trận pixel nối lại với nhau thành một vector duy nhất, rồi gom 2 pixel kề nhau thành một nhóm."
   ]
  },
  {
   "cell_type": "code",
   "execution_count": 2,
   "metadata": {
    "collapsed": false
   },
   "outputs": [],
   "source": [
    "def embed_DE(cover_img_file, msg_file, stego_img_file):\n",
    "    \"\"\"\n",
    "    Embeds a message into a cover image using the DE (Difference Expansion) method.\n",
    "    \n",
    "    Parameters\n",
    "    ----------\n",
    "    cover_img_file : string\n",
    "        The name of the cover img file.\n",
    "    msg_file : string\n",
    "        The name of the message file.\n",
    "    stego_img_file : string\n",
    "        The name of the stego img file.\n",
    "    \"\"\"\n",
    "    # TODO\n",
    "    # 1. Read cover img file\n",
    "    cover_img = imread(cover_img_file)\n",
    "    \n",
    "    # 2. Read msg file and process\n",
    "    # 2.1. Read msg file\n",
    "    f = open(msg_file, 'r')\n",
    "    msg_text = f.read()\n",
    "    f.close()\n",
    "    \n",
    "    # 2.2 Convert msg to msg bits\n",
    "    msg_bits = bitarray.bitarray()\n",
    "    msg_bits.frombytes(msg_text)\n",
    "    \n",
    "    # 2.3. Check if it is possible to embed\n",
    "    len_msg_bits = len(msg_bits)\n",
    "    max_num_bits = cover_img.size / 2\n",
    "    if (len_msg_bits >= max_num_bits):\n",
    "        return False\n",
    "    \n",
    "    # 2.4. Add '100...' to msg bits\n",
    "    msg_bits.extend('1' + '0' * (max_num_bits - len_msg_bits - 1))\n",
    "    \n",
    "    # 3. Embed msg bits into cover img\n",
    "    stego_img = cover_img.T.reshape(cover_img.size)\n",
    "    idx_msg = 0\n",
    "    for i in range(0, len(stego_img), 2):\n",
    "        h = abs(int(stego_img[i]) - int(stego_img[i + 1])) * 2 + msg_bits[idx_msg]\n",
    "        l = (int(stego_img[i]) + stego_img[i + 1]) / 2\n",
    "        x = l + (h + 1) / 2\n",
    "        y = l - h / 2\n",
    "        stego_img[i] = x * (stego_img[i] >= stego_img[i + 1]) + y * (stego_img[i] < stego_img[i + 1])\n",
    "        stego_img[i + 1] = x + y - stego_img[i]\n",
    "        idx_msg += 1\n",
    "    stego_img = stego_img.reshape(len(cover_img), len(cover_img[0])).T\n",
    "    \n",
    "    # 4. Write stego img to file\n",
    "    imsave(stego_img_file, np.asarray(stego_img).astype('uint8'))\n",
    "    \n",
    "    return True"
   ]
  },
  {
   "cell_type": "markdown",
   "metadata": {},
   "source": [
    "## 4. Hàm rút trích"
   ]
  },
  {
   "cell_type": "code",
   "execution_count": 3,
   "metadata": {
    "collapsed": true
   },
   "outputs": [],
   "source": [
    "def extract_DE(stego_img_file, extracted_msg_file, recovered_cover_img):\n",
    "    \"\"\"\n",
    "    Extracts the message from a stego image using the DE method.\n",
    "    \n",
    "    Parameters\n",
    "    ----------\n",
    "    stego_img_file : string\n",
    "        The name of the stego img file.\n",
    "    extracted_msg_file : string\n",
    "        The name of the extracted message file.\n",
    "    recovered_cover_img_file : string\n",
    "        The name of the recovered cover img file.\n",
    "    \"\"\"\n",
    "    # TODO\n",
    "    # 1. Read stego img file\n",
    "    stego_img = imread(stego_img_file)\n",
    "    \n",
    "    # 2.Extracted msg str (string of bits of msg file) and recovered cover img from stego img\n",
    "    cover_img = stego_img.T.reshape(stego_img.size)\n",
    "    extracted_msg_str = ''\n",
    "    for i in range(0, len(cover_img), 2):\n",
    "        h = abs(int(cover_img[i]) - int(cover_img[i + 1]))\n",
    "        l = min(cover_img[i], cover_img[i + 1]) + h / 2\n",
    "        extracted_msg_str += str(h % 2)\n",
    "        h = h / 2\n",
    "        x = l + (h + 1) / 2\n",
    "        y = l - h / 2\n",
    "        cover_img[i] = x * (cover_img[i] >= cover_img[i + 1]) + y * (cover_img[i] < cover_img[i + 1])\n",
    "        cover_img[i + 1] = x + y - cover_img[i]\n",
    "        \n",
    "    cover_img = cover_img.reshape(len(stego_img), len(stego_img[0])).T\n",
    "    \n",
    "    # 3. Format extracted msg text\n",
    "    # 3.1. Find index of the last bit 1 of extracted msg str,\n",
    "    # create a new string with content similar to the old string\n",
    "    # but eliminate the last bits '1000 ...' based on the index of the last bit 1\n",
    "    index = len(extracted_msg_str) - 1     \n",
    "    while index >= 0:\n",
    "        if extracted_msg_str[index] == '1':\n",
    "            break\n",
    "        index -= 1\n",
    "    extracted_msg_str = extracted_msg_str[0:index]\n",
    "    \n",
    "    # 3.2. Convert extracted msg bit\n",
    "    extracted_msg_bits = bitarray.bitarray(extracted_msg_str)\n",
    "    extracted_msg_text = extracted_msg_bits.tobytes()\n",
    "    \n",
    "    # 4. Write the results to file\n",
    "    # 4.1. Write extracted msg text to file\n",
    "    f = open(extracted_msg_file, 'w')\n",
    "    f.write(extracted_msg_text)\n",
    "    f.close()\n",
    "    \n",
    "    # 4.2. Write recovered cover img to file\n",
    "    imsave(recovered_cover_img, np.asarray(cover_img).astype('uint8'))\n",
    "       \n",
    "    return"
   ]
  },
  {
   "cell_type": "markdown",
   "metadata": {},
   "source": [
    "## 5. Chạy thí nghiệm"
   ]
  },
  {
   "cell_type": "markdown",
   "metadata": {},
   "source": [
    "Bạn sẽ gọi hàm nhúng và hàm rút trích ở trên với file cover `expandable_cover.bmp` và file message `msg.txt` mà mình đính kèm. Để minh chứng hàm nhúng và hàm rút trích đã được cài đặt đúng, bạn cần mở file message ban đầu và file message được rút trích, và in nội dung của hai file này ra; ngoài ra, bạn cũng cần đọc ảnh cover ban đầu và ảnh cover khôi phục được, và so sánh hai mảng ứng với hai ảnh này với nhau (dùng hàm `np.array_equal`)."
   ]
  },
  {
   "cell_type": "code",
   "execution_count": 4,
   "metadata": {
    "collapsed": false
   },
   "outputs": [
    {
     "name": "stdout",
     "output_type": "stream",
     "text": [
      "Empty your mind of all thoughts.\n",
      "Let your heart be at peace.\n",
      "------------------------------\n",
      "Empty your mind of all thoughts.\n",
      "Let your heart be at peace.\n",
      "------------------------------\n",
      "True\n"
     ]
    }
   ],
   "source": [
    "# TODO\n",
    "input_1 = 'expandable_cover.bmp'\n",
    "input_2 = 'msg.txt'\n",
    "output = 'stego.bmp'\n",
    "output_1 = 'extracted.txt'\n",
    "output_2 = 'recovered.bmp'\n",
    "\n",
    "b = embed_DE(input_1, input_2, output)\n",
    "if b == True:\n",
    "    extract_DE(output, output_1, output_2)\n",
    "    \n",
    "    f = open(input_2, 'r')\n",
    "    msg_text = f.read()\n",
    "    f.close()\n",
    "    \n",
    "    f = open(output_1, 'r')\n",
    "    extracted_text = f.read()\n",
    "    f.close()\n",
    "    \n",
    "    a = imread(input_1)\n",
    "    b = imread(output_2)\n",
    "    \n",
    "    print msg_text\n",
    "    print '------------------------------'\n",
    "    print extracted_text\n",
    "    print '------------------------------'\n",
    "    print np.array_equal(a, b)"
   ]
  },
  {
   "cell_type": "markdown",
   "metadata": {
    "collapsed": false
   },
   "source": [
    "## 6. Các câu hỏi lý thuyết\n",
    "\n",
    "Trước hết, bạn đọc các mục sau trong bài báo đính kèm: mục II, mục A và B trong mục III. Phần đọc này ngắn, dễ đọc, và mình đã giảng ở trên lớp; bạn cần nắm chắc để tạo nền tảng cho tuần sau.\n",
    "\n",
    "Sau đó, bạn trả lời các câu hỏi sau:\n",
    "\n",
    "- Công thức DE?"
   ]
  },
  {
   "cell_type": "markdown",
   "metadata": {},
   "source": [
    "TODO\n",
    "\n",
    "Cho $x, y \\in [0, 255]$\n",
    "\n",
    "$l = \\left \\lfloor \\frac{x + y}{2} \\right \\rfloor$\n",
    "\n",
    "$h = x - y$\n",
    "\n",
    "$\\color{red}{h^{'} = 2h + b}$ (với b là bit cần nhúng) (công thức DE)\n",
    "\n",
    "$x^{'} = l + \\left \\lfloor \\frac{h^{'} + 1}{2} \\right \\rfloor$\n",
    "\n",
    "$y^{'} = l - \\left \\lfloor \\frac{h^{'}}{2} \\right \\rfloor$"
   ]
  },
  {
   "cell_type": "markdown",
   "metadata": {},
   "source": [
    "- Để x, y nằm trong đoạn [0, 255] thì h phải thỏa điều kiện gì?"
   ]
  },
  {
   "cell_type": "markdown",
   "metadata": {},
   "source": [
    "TODO\n",
    "\n",
    "Với $l = \\left \\lfloor \\frac{x + y}{2} \\right \\rfloor, h = x - y$, ta suy ra $x = l + \\left \\lfloor \\frac{h + 1}{2} \\right \\rfloor, y = l - \\left \\lfloor \\frac{h}{2} \\right \\rfloor$\n",
    "\n",
    "\n",
    " $0 \\le x, y \\le 255 \\Leftrightarrow \\begin{align} \\begin{cases} 0 \\le l + \\left \\lfloor \\frac{h + 1}{2} \\right \\rfloor \\le 255 \\\\ 0 \\le l - \\left \\lfloor \\frac{h}{2} \\right \\rfloor \\le 255 \\end{cases} \\end{align} \\Leftrightarrow$ $\\begin{align} \\begin{cases} |h| \\le 2(255 - l), &if 128 \\le l \\le 255. \\\\ |h| \\le 2l + 1, &if 0 \\le l \\le 127. \\end{cases} \\end{align}$\n",
    " \n",
    "Tổng quát: $\\color{red}{|h| \\le min(2(255 - l), 2l + 1)}$ **(1)**"
   ]
  },
  {
   "cell_type": "markdown",
   "metadata": {},
   "source": [
    "- h thế nào thì được gọi là \"expandable\"?"
   ]
  },
  {
   "cell_type": "markdown",
   "metadata": {},
   "source": [
    "TODO\n",
    "\n",
    "h được gọi là \"expandable\" $\\Leftrightarrow h^{'} = 2h + b$ thoả **(1)** với mọi b (b là bit cần nhúng, b = 0 hoặc b = 1)"
   ]
  },
  {
   "cell_type": "markdown",
   "metadata": {},
   "source": [
    "- h thế nào thì được gọi là \"changeable\"?"
   ]
  },
  {
   "cell_type": "markdown",
   "metadata": {},
   "source": [
    "TODO\n",
    "\n",
    "h được gọi là \"changeable\" $\\Leftrightarrow h^{'} = 2\\left\\lfloor\\frac{h}{2}\\right\\rfloor + b$ thoả **(1)** với mọi b (b là bit cần nhúng, b = 0 hoặc b = 1)"
   ]
  },
  {
   "cell_type": "markdown",
   "metadata": {},
   "source": [
    "- Nếu h \"changeable\" thì h' = 2floor(h/2) + b có \"changeable\" không (floor là phép làm tròn xuống)? Giải thích."
   ]
  },
  {
   "cell_type": "markdown",
   "metadata": {},
   "source": [
    "TODO\n",
    "\n",
    "Có.\n",
    "\n",
    "Giải thích: \n",
    "\n",
    "h' changeable nếu $\\color{red}{h^{''} = 2\\left\\lfloor\\frac{h'}{2}\\right\\rfloor + b}$ **(*)** thoả **(1)** với mọi b\n",
    "\n",
    "Thế $h^{'} = 2\\left\\lfloor\\frac{h}{2}\\right\\rfloor + b$ vào **(*)**, ta được:\n",
    "\n",
    "**(*)** $\\Leftrightarrow h^{''} = 2\\left\\lfloor\\frac{2\\left\\lfloor\\frac{h}{2}\\right\\rfloor + b}{2}\\right\\rfloor + b = 2\\left\\lfloor\\left\\lfloor\\frac{h}{2} \\right\\rfloor + \\frac{b}{2}\\right\\rfloor + b = 2\\left\\lfloor\\frac{h}{2}\\right\\rfloor + b $ thỏa **(1)** với mọi b (do h \"changeable\")\n",
    "\n",
    "Do đó, h' \"changeable\"."
   ]
  },
  {
   "cell_type": "markdown",
   "metadata": {},
   "source": [
    "- Nếu h \"expandable\" thì h có \"changeable\" không? Giải thích."
   ]
  },
  {
   "cell_type": "markdown",
   "metadata": {},
   "source": [
    "TODO\n",
    "\n",
    "Có.\n",
    "\n",
    "Giải thích:\n",
    "\n",
    "Do h \"expandable\" nên $h^{'} = 2h + b$ thỏa **(1)**, tức là $|h'| = |2h + b| \\le min(2(255 - l), 2l + 1) \\color{red}{(a)}$\n",
    "\n",
    "Để h \"changeable\", ta cần chứng minh $2\\left\\lfloor\\frac{h}{2}\\right\\rfloor + b$ cũng thỏa **(1)**\n",
    "\n",
    "Dễ thấy: $h \\ge \\left \\lfloor \\frac{h}{2} \\right \\rfloor$ với mọi h > 0 \n",
    "\n",
    "$\\Rightarrow 2h + b \\ge 2\\left\\lfloor\\frac{h}{2}\\right\\rfloor + b$ với mọi h > 0\n",
    "\n",
    "$\\Rightarrow \\left|2h + b\\right| \\ge \\left| 2\\left\\lfloor\\frac{h}{2}\\right\\rfloor + b \\right|$ với mọi h > 0 $\\color{red}{(b)}$\n",
    "\n",
    "Từ $\\color{red}{(a)}$ và $\\color{red}{(b)}$, ta suy ra $\\left| 2\\left\\lfloor\\frac{h}{2}\\right\\rfloor + b \\right| \\le min(2(255 - l), 2l + 1)$.\n",
    "\n",
    "Do đó, nếu h \"expandable\" thì h cũng \"changeable\""
   ]
  },
  {
   "cell_type": "markdown",
   "metadata": {},
   "source": [
    "- Nếu h \"expandable\" thì h' = 2h + b có \"changeable\" không? Giải thích."
   ]
  },
  {
   "cell_type": "markdown",
   "metadata": {},
   "source": [
    "TODO\n",
    "\n",
    "Có.\n",
    "\n",
    "Giải thích:\n",
    "\n",
    "$h' = 2h + b$ \"changeable\" nếu $h^{''} = 2\\left\\lfloor\\frac{h'}{2}\\right\\rfloor + b$ **(*)** thỏa **(1)** với mọi b\n",
    "\n",
    "Thế $h^{'} = 2h + b$ vào **(*)**, ta được:\n",
    "\n",
    "**(*)** $\\Leftrightarrow h^{''} = 2\\left\\lfloor\\frac{2h + b}{2}\\right\\rfloor + b = 2\\left\\lfloor\\ h + \\frac{b}{2}\\right\\rfloor + b = 2h + b $ thỏa **(1)** với mọi b (do h \"expandable\")\n",
    "\n",
    "Do đó, h' \"changeable\".\n"
   ]
  },
  {
   "cell_type": "markdown",
   "metadata": {},
   "source": [
    "- Chứng minh: nếu h = 0 hoặc h = -1 thì hai khái niệm \"expandable\" và \"changeable\" là tương đương nhau."
   ]
  },
  {
   "cell_type": "markdown",
   "metadata": {},
   "source": [
    "TODO\n",
    "\n",
    "Nếu h \"expandable\" thì $h' = 2h + b$ thỏa **(1)**\n",
    "    \n",
    "Nếu h \"changeable\" thì $h' = 2\\left\\lfloor\\frac{h}{2}\\right\\rfloor + b$ thỏa **(1)**\n",
    "\n",
    "Với $h = 0$, cả hai trường hợp trên đều cho kết quả $h' = b$.\n",
    "\n",
    "Với $h = -1$, cả hai trường hợp trên đều cho kết quả $h' = b - 2$.\n",
    "\n",
    "Do đó, với h = 0 hoặc h = -1, các khái niệm \"expandable\" và \"changeable\" là tương đương nhau."
   ]
  },
  {
   "cell_type": "markdown",
   "metadata": {},
   "source": [
    "---\n",
    "\n",
    "Enjoy DE :-)"
   ]
  }
 ],
 "metadata": {
  "anaconda-cloud": {},
  "kernelspec": {
   "display_name": "Python [Root]",
   "language": "python",
   "name": "Python [Root]"
  },
  "language_info": {
   "codemirror_mode": {
    "name": "ipython",
    "version": 2
   },
   "file_extension": ".py",
   "mimetype": "text/x-python",
   "name": "python",
   "nbconvert_exporter": "python",
   "pygments_lexer": "ipython2",
   "version": "2.7.12"
  }
 },
 "nbformat": 4,
 "nbformat_minor": 0
}
