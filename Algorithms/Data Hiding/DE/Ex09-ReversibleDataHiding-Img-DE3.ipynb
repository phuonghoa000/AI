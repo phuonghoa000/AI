{
 "cells": [
  {
   "cell_type": "markdown",
   "metadata": {},
   "source": [
    "# BTTH09: Ẩn dữ liệu khả nghịch trên ảnh bằng phương pháp DE (phần 3)\n",
    "\n",
    "TODO: Võ Phương Hòa - 1412192\n",
    "\n",
    "---"
   ]
  },
  {
   "cell_type": "markdown",
   "metadata": {},
   "source": [
    "## 1. Cách làm bài và nộp bài\n",
    "\n",
    "**Làm bài**\n",
    "\n",
    "Bạn sẽ làm trực tiếp trên file notebook này; trong file, mình đã để từ `TODO` để cho biết những chỗ mà bạn cần phải làm (trong đó, `TODO` đầu tiên là bạn phải ghi họ tên và MSSV vào phần đầu của file). Trong khi làm bài, thường xuyên `Ctrl + S` để lưu lại bài làm của bạn, tránh mất mát thông tin.\n",
    "\n",
    "*Mục tiêu chính ở đây là học, học một cách chân thật; nếu bạn được 5 điểm nhưng bạn làm bài một cách chân thật thì vẫn tốt hơn nhiều so với 10 điểm mà không chân thật. Bạn có thể thảo luận với các bạn khác; nhưng bài làm phải là của chính bạn, dựa trên sự hiểu của chính bạn, lời văn là của chính bạn, code là của chính bạn. Bạn không nên đọc bài làm của các bạn năm trước. Nếu bị phát hiện gian lận thì bạn sẽ bị 0 điểm cho toàn bộ phần thực hành.*\n",
    "\n",
    "**Nộp bài**\n",
    "\n",
    "Khi chấm bài, đầu tiên mình sẽ chọn `Kernel` - `Restart & Run All` để restart và chạy tất cả các cell trong notebook của bạn; do đó, trước khi nộp bài, bạn nên chạy thử `Kernel` - `Restart & Run All` để đảm bảo mọi chuyện diễn ra đúng như mong đợi.\n",
    "\n",
    "Sau đó, trong thư mục `MSSV` (vd, nếu bạn có MSSV là 1234567 thì bạn đặt tên thư mục là `1234567`) bạn đặt: file `Ex09-ReversibleDataHiding-Img-DE3.ipynb`, và các file dữ liệu mà mình đính kèm (`cover.bmp`, `msg.txt`); rồi nén thư mục `MSSV` này lại và nộp ở link trên moodle."
   ]
  },
  {
   "cell_type": "markdown",
   "metadata": {},
   "source": [
    "## 2. Import"
   ]
  },
  {
   "cell_type": "code",
   "execution_count": 1,
   "metadata": {
    "collapsed": false
   },
   "outputs": [],
   "source": [
    "%matplotlib inline\n",
    "import numpy as np\n",
    "import bitarray\n",
    "from scipy.misc import imread, imsave\n",
    "import matplotlib.pyplot as plt\n",
    "import zlib\n",
    "import math\n",
    "# You can also import other things ..."
   ]
  },
  {
   "cell_type": "markdown",
   "metadata": {},
   "source": [
    "## 3. Hàm nhúng\n",
    "\n",
    "Ở bài này, bạn sẽ cài đặt hoàn chỉnh phương pháp DE. Ở hàm nhúng, bạn cần `print` ra:\n",
    "\n",
    "- Kích thước của các tập EZ + EN, CN, NC.\n",
    "- Số lượng h = 1, -2 của tập CN.\n",
    "- Chiều dài của location map trước và sau khi nén.\n",
    "- Chiều dài của msg bits (trước khi thêm '100...').\n",
    "- Cho biết có nhúng được hay không?"
   ]
  },
  {
   "cell_type": "markdown",
   "metadata": {},
   "source": [
    "### 3.1. Hàm kiểm tra h expandable"
   ]
  },
  {
   "cell_type": "code",
   "execution_count": 2,
   "metadata": {
    "collapsed": true
   },
   "outputs": [],
   "source": [
    "def is_expandable(value, avr):\n",
    "    value = abs(2 * value + (value >= 0))\n",
    "    num_1 = 2 * (255 - avr)\n",
    "    num_2 = 2 * avr + 1\n",
    "    if min(value, num_1, num_2) == value:\n",
    "        return True\n",
    "    return False"
   ]
  },
  {
   "cell_type": "markdown",
   "metadata": {},
   "source": [
    "### 3.2. Hàm kiểm tra h changeable"
   ]
  },
  {
   "cell_type": "code",
   "execution_count": 3,
   "metadata": {
    "collapsed": true
   },
   "outputs": [],
   "source": [
    "def is_changeable(value, avr):\n",
    "    value = abs(math.floor(float(value)/2) * 2 + (value >= 0))\n",
    "    num_1 = 2 * (255 - avr)\n",
    "    num_2 = 2 * avr + 1\n",
    "    if min(value, num_1, num_2) == value:\n",
    "        return True\n",
    "    return False"
   ]
  },
  {
   "cell_type": "markdown",
   "metadata": {},
   "source": [
    "### 3.3. Hàm nhúng"
   ]
  },
  {
   "cell_type": "code",
   "execution_count": 4,
   "metadata": {
    "collapsed": false
   },
   "outputs": [],
   "source": [
    "def embed_DE(cover_img_file, msg_file, stego_img_file):\n",
    "    \"\"\"\n",
    "    Embeds a message into a cover image using the DE (Difference Expansion) method.\n",
    "    \n",
    "    Parameters\n",
    "    ----------\n",
    "    cover_img_file : string\n",
    "        The name of the cover img file.\n",
    "    msg_file : string\n",
    "        The name of the message file.\n",
    "    stego_img_file : string\n",
    "        The name of the stego img file.\n",
    "    \n",
    "    Returns\n",
    "    -------\n",
    "    result : bool\n",
    "        result = True if it's possible to embed; False otherwise.\n",
    "    \"\"\"\n",
    "    # TODO\n",
    "    # 1. Read cover img file\n",
    "    cover_img = imread('cover.bmp')\n",
    "    \n",
    "    # 2. Read msg file and process\n",
    "    # 2.1. Read msg file\n",
    "    f = open(msg_file, 'r')\n",
    "    msg_text = f.read()\n",
    "    \n",
    "    # 2.2. Convert msg_text to bitstring\n",
    "    msg_bit = bitarray.bitarray()\n",
    "    msg_bit.frombytes(msg_text)  # P\n",
    "    \n",
    "    # 3. The date-embedding DE algorithm\n",
    "    # 3.1. Step 1: calculate the difference values h and the integer average l\n",
    "    H = []\n",
    "    L = []\n",
    "    stego_img = cover_img.reshape(cover_img.size)\n",
    "    for i in range(0, len(stego_img), 2):\n",
    "            h = int(stego_img[i]) - int(stego_img[i + 1])\n",
    "            l = (int(stego_img[i]) + int(stego_img[i + 1])) / 2\n",
    "            H.append(h)\n",
    "            L.append(l)\n",
    "    \n",
    "    # 3.2. Step 2: partition difference values into four sets (EZ, EN, CN, NC)\n",
    "    # EZ: contains all expandable h = 0 and expandable h = -1\n",
    "    # EN: contains all expandable h not in EZ\n",
    "    # CN: contains all changeable h not in (EZ and EN)\n",
    "    # NC: contains all nonchangeable h\n",
    "    EZ = []\n",
    "    EN = []\n",
    "    CN = []\n",
    "    NC = []\n",
    "    for i in range(len(H)):\n",
    "        value = H[i]\n",
    "        avr = L[i]\n",
    "        if is_expandable(value, avr):\n",
    "            if value == 0 or value == -1:\n",
    "                EZ.append(i)\n",
    "            else:\n",
    "                EN.append(i)\n",
    "        elif is_changeable(value, avr):\n",
    "            CN.append(i)\n",
    "        else:\n",
    "            NC.append(i)\n",
    "    \n",
    "    print 'Kích thước của EZ + EN:', len(EZ) + len(EN)\n",
    "    print 'Kích thước của CN:', len(CN)\n",
    "    print 'Kích thước của NC:', len(NC)\n",
    "\n",
    "    # 3.3. Step 3 and 4: create a location map and collect original LSB values\n",
    "    location_map = []\n",
    "    LSBs = []\n",
    "\n",
    "    count = 0\n",
    "    for i in range(len(H)):\n",
    "        if (i in EZ) or (i in EN):\n",
    "            location_map.append(1)\n",
    "        else:\n",
    "            location_map.append(0)\n",
    "            # step 4\n",
    "            if (i not in NC):\n",
    "                if H[i] != 1 and H[i] != -2:\n",
    "                    LSBs.append(H[i] % 2)\n",
    "                else:\n",
    "                    count += 1\n",
    "    \n",
    "\n",
    "    LSBs = bitarray.bitarray(LSBs) # C\n",
    "    lm = bitarray.bitarray(location_map)\n",
    "    zlib_lm = bitarray.bitarray()\n",
    "    zlib_lm.frombytes(zlib.compress(lm.tobytes())) # zlib_lm is L\n",
    "    \n",
    "    print 'Số lượng h = 1 và h = -2 của CN:', count\n",
    "    print 'Chiều dài lm trước và sau khi nén:', len(lm), ',', len(zlib_lm)\n",
    "    print 'Chiều dài của msg_bit ban đầu:', len(msg_bit)\n",
    "\n",
    "    # 3.4. Step 5: data embedding by replacement\n",
    "    len_B = len(zlib_lm) + len(LSBs) + len(msg_bit)\n",
    "    len_bit = len(EZ) + len(EN) + len(CN) - len_B\n",
    "    if len_bit <= 0:\n",
    "        print 'Không ẩn dữ liệu được!'\n",
    "        return False\n",
    "    msg_bit += '1' + '0' * (len_bit - 1)\n",
    "    bitstream = zlib_lm + LSBs + msg_bit  # B = L + C + P\n",
    "    \n",
    "    i = 0\n",
    "    j = -1\n",
    "    while (i < len(bitstream)):\n",
    "        j += 1\n",
    "        #if (j in EZ) or (j in EN):\n",
    "        if (j not in CN) and (j not in NC):\n",
    "            H[j] = 2 * H[j] + bitstream[i]\n",
    "            i += 1\n",
    "        elif (j in CN):\n",
    "            H[j] = 2 * (math.floor(float(H[j])/2)) + bitstream[i]\n",
    "            i += 1\n",
    "        \n",
    "    # 3.5. Step 6: compute new value base on new different value\n",
    "    for i in range(len(H)):\n",
    "        j = i * 2\n",
    "        stego_img[j] = L[i] + (int(H[i]) + 1) / 2\n",
    "        stego_img[j + 1] = L[i] - H[i] / 2\n",
    "    \n",
    "    stego_img = stego_img.reshape(len(cover_img), len(cover_img[0]))\n",
    "    \n",
    "    # 4. Write stego img to file\n",
    "    imsave(stego_img_file, np.asarray(stego_img).astype('uint8'))\n",
    "\n",
    "    print 'Ẩn dữ liệu thành công!'\n",
    "    return True"
   ]
  },
  {
   "cell_type": "markdown",
   "metadata": {},
   "source": [
    "## 4. Hàm rút trích"
   ]
  },
  {
   "cell_type": "code",
   "execution_count": 5,
   "metadata": {
    "collapsed": true
   },
   "outputs": [],
   "source": [
    "def extract_DE(stego_img_file, extracted_msg_file, recovered_cover_img):\n",
    "    \"\"\"\n",
    "    Extracts the message from a stego image using the DE method.\n",
    "    \n",
    "    Parameters\n",
    "    ----------\n",
    "    stego_img_file : string\n",
    "        The name of the stego img file.\n",
    "    extracted_msg_file : string\n",
    "        The name of the extracted message file.\n",
    "    recovered_cover_img_file : string\n",
    "        The name of the recovered cover img file.\n",
    "    \"\"\"\n",
    "    # TODO\n",
    "    # 1. Read stego img file\n",
    "    stego_img = imread(stego_img_file)\n",
    "    \n",
    "    # 2. The decoding and authentication process (five steps)\n",
    "    # 2.1. Step 1: calculate the difference values\n",
    "    H = []\n",
    "    L = []\n",
    "    cover_img = stego_img.reshape(stego_img.size)\n",
    "    for i in range(0, len(cover_img), 2):\n",
    "        h = int(cover_img[i]) - int(cover_img[i + 1])\n",
    "        l = (int(cover_img[i]) + int(cover_img[i + 1])) / 2\n",
    "        H.append(h)\n",
    "        L.append(l)\n",
    "        \n",
    "    # 2.2. Step 2 and 3\n",
    "    # Step 2: create two disjoint sets of difference values CH and NC\n",
    "    # CH: contains all changeable\n",
    "    # NC: contains all nonchangeable\n",
    "    # Step 3: collect LSBs of all difference values in CH and form a binary bitstream\n",
    "    # In this code, we combine step 2 and 3 to one step.\n",
    "    CH = []\n",
    "    bitstream = [] # B\n",
    "    for i in range(len(H)):\n",
    "        if is_changeable(H[i], L[i]):\n",
    "            CH.append(i)\n",
    "            bitstream.append(H[i] % 2)\n",
    "            \n",
    "    # 2.3 Step 4: decode the location map from bitstream B by a JBIG2 decoder\n",
    "    # and then restore the original values of differences\n",
    "    # 2.3.1. decode the location map from bitstream by a JBIG2 decoder\n",
    "    final_bits = bitarray.bitarray(bitstream)\n",
    "    unzlib_lm = bitarray.bitarray()\n",
    "    unzlib_lm.frombytes(zlib.decompress(final_bits.tobytes()))\n",
    "    lm = unzlib_lm[:len(H)]\n",
    "    \n",
    "    # 2.3.2. restore the original values of differences\n",
    "    zlib_lm = bitarray.bitarray()\n",
    "    zlib_lm.frombytes(zlib.compress(lm.tobytes()))   \n",
    "    s = len(zlib_lm)\n",
    "    \n",
    "    for i in range(len(H)):\n",
    "        if i in CH:\n",
    "            if lm[i] == 1:\n",
    "                H[i] = H[i] / 2\n",
    "            elif H[i] >= 0 and H[i] <= 1:\n",
    "                H[i] = 1\n",
    "            elif H[i] >= -2 and H[i] <= -1:\n",
    "                H[i] = -2\n",
    "            else:\n",
    "                H[i] = 2 * (H[i] / 2) + bitstream[s]\n",
    "                s += 1           \n",
    "    \n",
    "    # 2.4. Step 5: content authentication and original content restoration   \n",
    "    # 2.4.1. Format extracted msg text\n",
    "    # 2.4.1.1. Find index of the last bit 1 of extracted msg bit,\n",
    "    # create a new string with content similar to the old string\n",
    "    # but eliminate the last bits '1000 ...' based on the index of the last bit 1\n",
    "    extracted_msg_bit = bitstream[s:]\n",
    "    index = len(extracted_msg_bit) - 1     \n",
    "    while index >= 0:\n",
    "        if extracted_msg_bit[index] == 1:\n",
    "            break\n",
    "        index -= 1\n",
    "    extracted_msg_bit = extracted_msg_bit[:index]\n",
    "    \n",
    "    # 2.4.1.2. Convert extracted msg bit\n",
    "    extracted_msg_bit = bitarray.bitarray(extracted_msg_bit)\n",
    "    extracted_msg_text = extracted_msg_bit.tobytes()\n",
    "    \n",
    "    # 2.4.2. Restore original content\n",
    "    for i in range(len(H)):\n",
    "        j = i * 2\n",
    "        cover_img[j] = L[i] + (int(H[i]) + 1) / 2\n",
    "        cover_img[j + 1] = L[i] - H[i] / 2\n",
    "        \n",
    "    cover_img = cover_img.reshape(len(stego_img), len(stego_img[0]))\n",
    "    \n",
    "    # 3. Write the result to file\n",
    "    # 3.1. Write extracted msg text to file\n",
    "    f = open(extracted_msg_file, 'w')\n",
    "    f.write(extracted_msg_text)\n",
    "    f.close()\n",
    "    \n",
    "    # 3.2. Write recovered cover img to file\n",
    "    imsave(recovered_cover_img, np.asarray(cover_img).astype('uint8'))\n",
    "    \n",
    "    return"
   ]
  },
  {
   "cell_type": "markdown",
   "metadata": {},
   "source": [
    "## 5. Chạy thí nghiệm"
   ]
  },
  {
   "cell_type": "markdown",
   "metadata": {},
   "source": [
    "Bạn sẽ gọi hàm nhúng và hàm rút trích ở trên với file cover `cover.bmp` và file message `msg.txt` mà mình đính kèm. Để minh chứng hàm nhúng và hàm rút trích đã được cài đặt đúng, bạn cần mở file message ban đầu và file message được rút trích, và in nội dung của hai file này ra; ngoài ra, bạn cũng cần đọc ảnh cover ban đầu và ảnh cover khôi phục được, và so sánh hai mảng ứng với hai ảnh này với nhau (dùng hàm `np.array_equal`)"
   ]
  },
  {
   "cell_type": "code",
   "execution_count": 6,
   "metadata": {
    "collapsed": false
   },
   "outputs": [
    {
     "name": "stdout",
     "output_type": "stream",
     "text": [
      "Kích thước của EZ + EN: 131017\n",
      "Kích thước của CN: 55\n",
      "Kích thước của NC: 0\n",
      "Số lượng h = 1 và h = -2 của CN: 0\n",
      "Chiều dài lm trước và sau khi nén: 131072 , 1264\n",
      "Chiều dài của msg_bit ban đầu: 480\n",
      "Ẩn dữ liệu thành công!\n",
      "------------------------------\n",
      "Empty your mind of all thoughts.\n",
      "Let your heart be at peace.\n",
      "------------------------------\n",
      "Empty your mind of all thoughts.\n",
      "Let your heart be at peace.\n",
      "------------------------------\n",
      "True\n"
     ]
    }
   ],
   "source": [
    "# TODO\n",
    "input_1 = 'cover.bmp'\n",
    "input_2 = 'msg.txt'\n",
    "output = 'stego.bmp'\n",
    "\n",
    "b = embed_DE(input_1, input_2, output)\n",
    "if b:\n",
    "    output_1 = 'extracted.txt'\n",
    "    output_2 = 'recovered.bmp'\n",
    "    extract_DE(output, output_1, output_2)\n",
    "\n",
    "    f = open(input_2, 'r')\n",
    "    msg_text = f.read()\n",
    "    f.close()\n",
    "\n",
    "    f = open(output_1, 'r')\n",
    "    extracted_text = f.read()\n",
    "    f.close()\n",
    "\n",
    "    a = imread(input_1)\n",
    "    b = imread(output_2)\n",
    "\n",
    "    print '------------------------------'\n",
    "    print msg_text\n",
    "    print '------------------------------'\n",
    "    print extracted_text\n",
    "    print '------------------------------'\n",
    "    print np.array_equal(a, b)"
   ]
  },
  {
   "cell_type": "markdown",
   "metadata": {},
   "source": [
    "## 6. Ghi chú (nếu có)"
   ]
  },
  {
   "cell_type": "markdown",
   "metadata": {},
   "source": [
    "Thời gian chạy các hàm nhúng và rút trích khá lâu (tổng thời gian xấp xỉ 9 phút)\n",
    "    - Hàm nhúng: từ 4m30s đến dưới 5m.\n",
    "    - Hàm rút trích: dưới 5m."
   ]
  },
  {
   "cell_type": "markdown",
   "metadata": {},
   "source": [
    "---\n",
    "\n",
    "Enjoy DE :-)"
   ]
  }
 ],
 "metadata": {
  "anaconda-cloud": {},
  "kernelspec": {
   "display_name": "Python [Root]",
   "language": "python",
   "name": "Python [Root]"
  },
  "language_info": {
   "codemirror_mode": {
    "name": "ipython",
    "version": 2
   },
   "file_extension": ".py",
   "mimetype": "text/x-python",
   "name": "python",
   "nbconvert_exporter": "python",
   "pygments_lexer": "ipython2",
   "version": "2.7.12"
  }
 },
 "nbformat": 4,
 "nbformat_minor": 0
}
